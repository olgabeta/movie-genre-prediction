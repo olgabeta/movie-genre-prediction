{
 "cells": [
  {
   "cell_type": "markdown",
   "id": "81e0bf47",
   "metadata": {
    "id": "81e0bf47"
   },
   "source": [
    "# Εργασία εξαμήνου για το μάθημα *ΒΑΘΙΑ ΜΑΘΗΣΗ*\n",
    "## Wikipedia Movie Plots\n",
    "Εκπονήθηκε από την Όλγα Βασιλείου, 5ο έτος, Α.Μ.: 01691\n",
    "***"
   ]
  },
  {
   "cell_type": "markdown",
   "id": "839206e2",
   "metadata": {},
   "source": [
    "## Εισαγωγή"
   ]
  },
  {
   "cell_type": "markdown",
   "id": "36fde744",
   "metadata": {
    "id": "36fde744"
   },
   "source": [
    "Η παρούσα εργασία αποτελεί προσπάθεια ανάπτυξης ενός μοντέλου που προβλέπει το είδος μιας ταινίας με βάση την περιγραφή της πλοκής της ταινίας. Η υλοποίηση αφορά το σύνολο δεδομένων **Wikipedia Movie Plots** [2], το οποίο περιέχει γνωρίσματα από 34,886 ταινίες παγκοσμίως. Η κάθε ταινία της δοθείσας βάσης δεδομένων έχει τα εξής γνωρίσματα:\n",
    "- Έτος Κυκλοφορίας (Release Year)\n",
    "- Τίτλος (Title)\n",
    "- Προέλευση/Εθνικότητα (Origin/Ethnicity)\n",
    "- Σκηνοθέτης (Director)\n",
    "- Ηθοποιοί (Cast)\n",
    "- Είδος (Genre)\n",
    "- Σελίδα στη Βικιπαίδεια (Wiki Page)\n",
    "- Πλοκή (Plot)\n",
    "\n",
    "Το dataset της εργασίας είναι ένα σύνολο δεδομένων Επεξεργασίας Φυσικής Γλώσσας (Natural Language Processing - NLP) και απαιτεί μία μέθοδο Ταξινόμησης Πολλαπλών Ετικετών (Multi-label Classification), αφού η κάθε ταινία μπορεί να ανήκει σε παραπάνω από ένα είδος. Τα μοντέλα που μελετήθηκαν στα πλαίσια της βιβλιογραφικής ανασκόπησης του προβλήματος αξιοποίησαν μια πληθώρα αλγορίθμων, όπως Multinomial Naive Bayes, LinearSVM, Logistic Regression, κ.ά. Έπειτα από εκτενή έρευνα και συγκρίσεις μεταξύ των μέτρων ακρίβειας κάθε υλοποίησης, επιλέχθηκε ο αλγόριθμος LinearSVM για τη δημιουργία ενός μοντέλου πρόβλεψης του είδους μιας ταινίας βάσει της πλοκής της."
   ]
  },
  {
   "cell_type": "markdown",
   "id": "c181afd9",
   "metadata": {
    "id": "c181afd9"
   },
   "source": [
    "## Βιβλιογραφική ανασκόπηση"
   ]
  },
  {
   "cell_type": "markdown",
   "id": "ceb238e8",
   "metadata": {
    "id": "ceb238e8"
   },
   "source": [
    "Εκτός από αλγόριθμους ταξινόμησης κειμένου, μελετήθηκαν και διάφορες μέθοδοι εξαγωγής χαρακτηριστικών από σύνολα δεδομένων NLP, όπως φαίνεται στον ακόλουθο πίνακα, για την καλύτερη απόδοση των αλγορίθμων.\n",
    "\n",
    "| Source | Dataset | Feature Extraction Strategy | Algorithm | Classification Model |\n",
    "| :- | :- | :- | :- | :- |\n",
    "| [3] | [Wikipedia Movie Plots](https://www.kaggle.com/datasets/jrobischon/wikipedia-movie-plots) | Bag-of-Words, TF-IDF | One-Vs-Rest | MultinomialNB, Logistic Regression, Decision Tree, SGD |\n",
    "| [4] | [Wikipedia Movie Plots](https://www.kaggle.com/datasets/jrobischon/wikipedia-movie-plots) | Bag-of-Words, TF-IDF | One-Vs-Rest | MultinomialNB, LinearSVC |\n",
    "| [5] | [Wikipedia Movie Plots](https://www.kaggle.com/datasets/jrobischon/wikipedia-movie-plots) | Bag-of-Words, TF-IDF | - | Random Forest |\n",
    "| [6] | [MPST: Movie Plot Synopses with Tags](https://www.kaggle.com/datasets/cryptexcode/mpst-movie-plot-synopses-with-tags) | TF-IDF | One-Vs-Rest | SGD, LinearSVC, Logistic Regression |\n",
    "| [7] | [CMU Movie Summary Corpus](http://www.cs.cmu.edu/~ark/personas/) | TF-IDF | One-Vs-Rest | Logistic Regression |\n",
    "\n",
    "Όλα τα άρθρα/projects εξετάζουν πάνω από μία μέθοδο ταξινόμησης για την ανάπτυξη ενός μοντέλου πρόβλεψης, ενώ τα περισσότερα χρησιμοποιούν ως σύνολο δεδομένων αυτό της παρούσας εργασίας. Οι δύο πηγές με διαφορετικά datasets αξιοποιούν αυτούσια τα σύνολα δεδομένων έπειτα από απομάκρυνση των ταινιών αγνώστου είδους, ενώ από τις τρεις Wikipedia πηγές, η πρώτη επιλέγει τα 6 πιο συχνά είδη ταινιών, η δεύτερη περιγράφει την αντικατάσταση και το φιλτράρισμα των μοναδικών ειδών μειώνοντάς τα από 2265 στα 20 πιο συχνά είδη, και η τελευταία βασίζεται μόνο στα είδη \"Comedy\" και \"Drama\"."
   ]
  },
  {
   "cell_type": "markdown",
   "id": "89e8797b",
   "metadata": {
    "id": "89e8797b"
   },
   "source": [
    "## Μεθοδολογία"
   ]
  },
  {
   "cell_type": "markdown",
   "id": "11eeb787",
   "metadata": {
    "id": "11eeb787"
   },
   "source": []
  },
  {
   "cell_type": "markdown",
   "id": "d1d7a061",
   "metadata": {
    "id": "d1d7a061"
   },
   "source": [
    "## Υλοποίηση"
   ]
  },
  {
   "cell_type": "markdown",
   "id": "1dcb2592",
   "metadata": {},
   "source": [
    "Ακολουθεί η παρουσίαση του εκτελέσιμου κώδικα και των αποτελεσμάτων ακολουθώντας την ροή της εκτέλεσης."
   ]
  },
  {
   "cell_type": "markdown",
   "id": "34ab43d5",
   "metadata": {},
   "source": [
    "### 1. Φόρτωση Δεδομένων (Loading Data)"
   ]
  },
  {
   "cell_type": "markdown",
   "id": "32ded9f4",
   "metadata": {
    "id": "32ded9f4"
   },
   "source": [
    "Αρχικά, εισάγουμε τις απαραίτητες βιβλιοθήκες για την μεταγλώτισση και εκτέλεση του κώδικα, φορτώνουμε το αρχείο της εκφώνησης, δηλαδή το dataset με τις πλοκές ταινιών από την Βικιπαίδεια, το οποίο είναι κατεβασμένο τοπικά, και εμφανίζουμε τις πρώτες δέκα εγγραφές του αρχείου για να εξοικειωθούμε με τη μορφή του dataset."
   ]
  },
  {
   "cell_type": "code",
   "execution_count": 1,
   "id": "c6d7be8e",
   "metadata": {
    "colab": {
     "base_uri": "https://localhost:8080/",
     "height": 397
    },
    "executionInfo": {
     "elapsed": 3158,
     "status": "error",
     "timestamp": 1663139724968,
     "user": {
      "displayName": "Olga V",
      "userId": "02608012643997117320"
     },
     "user_tz": -180
    },
    "id": "c6d7be8e",
    "outputId": "c8a994c1-f366-4743-ec99-a2586f14b9a1",
    "scrolled": true
   },
   "outputs": [
    {
     "data": {
      "text/html": [
       "<div>\n",
       "<style scoped>\n",
       "    .dataframe tbody tr th:only-of-type {\n",
       "        vertical-align: middle;\n",
       "    }\n",
       "\n",
       "    .dataframe tbody tr th {\n",
       "        vertical-align: top;\n",
       "    }\n",
       "\n",
       "    .dataframe thead th {\n",
       "        text-align: right;\n",
       "    }\n",
       "</style>\n",
       "<table border=\"1\" class=\"dataframe\">\n",
       "  <thead>\n",
       "    <tr style=\"text-align: right;\">\n",
       "      <th></th>\n",
       "      <th>Release Year</th>\n",
       "      <th>Title</th>\n",
       "      <th>Origin/Ethnicity</th>\n",
       "      <th>Director</th>\n",
       "      <th>Cast</th>\n",
       "      <th>Genre</th>\n",
       "      <th>Wiki Page</th>\n",
       "      <th>Plot</th>\n",
       "    </tr>\n",
       "  </thead>\n",
       "  <tbody>\n",
       "    <tr>\n",
       "      <th>0</th>\n",
       "      <td>1901</td>\n",
       "      <td>Kansas Saloon Smashers</td>\n",
       "      <td>American</td>\n",
       "      <td>Unknown</td>\n",
       "      <td>NaN</td>\n",
       "      <td>unknown</td>\n",
       "      <td>https://en.wikipedia.org/wiki/Kansas_Saloon_Sm...</td>\n",
       "      <td>A bartender is working at a saloon, serving dr...</td>\n",
       "    </tr>\n",
       "    <tr>\n",
       "      <th>1</th>\n",
       "      <td>1901</td>\n",
       "      <td>Love by the Light of the Moon</td>\n",
       "      <td>American</td>\n",
       "      <td>Unknown</td>\n",
       "      <td>NaN</td>\n",
       "      <td>unknown</td>\n",
       "      <td>https://en.wikipedia.org/wiki/Love_by_the_Ligh...</td>\n",
       "      <td>The moon, painted with a smiling face hangs ov...</td>\n",
       "    </tr>\n",
       "    <tr>\n",
       "      <th>2</th>\n",
       "      <td>1901</td>\n",
       "      <td>The Martyred Presidents</td>\n",
       "      <td>American</td>\n",
       "      <td>Unknown</td>\n",
       "      <td>NaN</td>\n",
       "      <td>unknown</td>\n",
       "      <td>https://en.wikipedia.org/wiki/The_Martyred_Pre...</td>\n",
       "      <td>The film, just over a minute long, is composed...</td>\n",
       "    </tr>\n",
       "    <tr>\n",
       "      <th>3</th>\n",
       "      <td>1901</td>\n",
       "      <td>Terrible Teddy, the Grizzly King</td>\n",
       "      <td>American</td>\n",
       "      <td>Unknown</td>\n",
       "      <td>NaN</td>\n",
       "      <td>unknown</td>\n",
       "      <td>https://en.wikipedia.org/wiki/Terrible_Teddy,_...</td>\n",
       "      <td>Lasting just 61 seconds and consisting of two ...</td>\n",
       "    </tr>\n",
       "    <tr>\n",
       "      <th>4</th>\n",
       "      <td>1902</td>\n",
       "      <td>Jack and the Beanstalk</td>\n",
       "      <td>American</td>\n",
       "      <td>George S. Fleming, Edwin S. Porter</td>\n",
       "      <td>NaN</td>\n",
       "      <td>unknown</td>\n",
       "      <td>https://en.wikipedia.org/wiki/Jack_and_the_Bea...</td>\n",
       "      <td>The earliest known adaptation of the classic f...</td>\n",
       "    </tr>\n",
       "  </tbody>\n",
       "</table>\n",
       "</div>"
      ],
      "text/plain": [
       "   Release Year                             Title Origin/Ethnicity  \\\n",
       "0          1901            Kansas Saloon Smashers         American   \n",
       "1          1901     Love by the Light of the Moon         American   \n",
       "2          1901           The Martyred Presidents         American   \n",
       "3          1901  Terrible Teddy, the Grizzly King         American   \n",
       "4          1902            Jack and the Beanstalk         American   \n",
       "\n",
       "                             Director Cast    Genre  \\\n",
       "0                             Unknown  NaN  unknown   \n",
       "1                             Unknown  NaN  unknown   \n",
       "2                             Unknown  NaN  unknown   \n",
       "3                             Unknown  NaN  unknown   \n",
       "4  George S. Fleming, Edwin S. Porter  NaN  unknown   \n",
       "\n",
       "                                           Wiki Page  \\\n",
       "0  https://en.wikipedia.org/wiki/Kansas_Saloon_Sm...   \n",
       "1  https://en.wikipedia.org/wiki/Love_by_the_Ligh...   \n",
       "2  https://en.wikipedia.org/wiki/The_Martyred_Pre...   \n",
       "3  https://en.wikipedia.org/wiki/Terrible_Teddy,_...   \n",
       "4  https://en.wikipedia.org/wiki/Jack_and_the_Bea...   \n",
       "\n",
       "                                                Plot  \n",
       "0  A bartender is working at a saloon, serving dr...  \n",
       "1  The moon, painted with a smiling face hangs ov...  \n",
       "2  The film, just over a minute long, is composed...  \n",
       "3  Lasting just 61 seconds and consisting of two ...  \n",
       "4  The earliest known adaptation of the classic f...  "
      ]
     },
     "execution_count": 1,
     "metadata": {},
     "output_type": "execute_result"
    }
   ],
   "source": [
    "# Import necessary libraries\n",
    "import pandas as pd\n",
    "import numpy as np\n",
    "import seaborn as sns\n",
    "import matplotlib.pyplot as plt\n",
    "import nltk, re\n",
    "from nltk.corpus import stopwords\n",
    "\n",
    "from sklearn.model_selection import train_test_split\n",
    "from sklearn.feature_extraction.text import TfidfVectorizer\n",
    "from sklearn.preprocessing import MultiLabelBinarizer\n",
    "from sklearn.multiclass import OneVsRestClassifier\n",
    "from sklearn.svm import LinearSVC\n",
    "from sklearn.ensemble import RandomForestClassifier\n",
    "from sklearn.ensemble import VotingClassifier\n",
    "\n",
    "from sklearn import metrics\n",
    "from sklearn.metrics import classification_report\n",
    "from sklearn.metrics import accuracy_score, f1_score, precision_score, recall_score\n",
    "\n",
    "# Read dataset\n",
    "movies_df = pd.read_csv(\"/home/olga/Downloads/wiki_movie_plots_deduped.csv\")\n",
    "\n",
    "# Show first 5 rows of data\n",
    "movies_df.head(5)"
   ]
  },
  {
   "cell_type": "markdown",
   "id": "33f622df",
   "metadata": {},
   "source": [
    "### 2. Προεπεξεργασία Δεδομένων (Data pre-processing)"
   ]
  },
  {
   "cell_type": "markdown",
   "id": "73c56b11",
   "metadata": {},
   "source": [
    "Πρώτο βήμα είναι η μετατροπή των άγνωστων τιμών του πεδίου \"Genre\" (είδος) σε NULL τιμές και η αφαίρεσή τους από το αρχείο, με στόχο τη βελτιστοποίηση των αποτελεσμάτων του αλγορίθμου."
   ]
  },
  {
   "cell_type": "code",
   "execution_count": 2,
   "id": "a04f0d68",
   "metadata": {
    "id": "05e018a4-3b28-4444-b3aa-a7135b54066f"
   },
   "outputs": [
    {
     "data": {
      "text/plain": [
       "2264"
      ]
     },
     "execution_count": 2,
     "metadata": {},
     "output_type": "execute_result"
    }
   ],
   "source": [
    "# Replace \"unknown\" genre entries with NaN\n",
    "movies_df['Genre'] = movies_df['Genre'].replace('unknown',np.nan)\n",
    "\n",
    "# Remove NaN values\n",
    "movies_df = movies_df.dropna(axis=0,subset=['Genre'])\n",
    "\n",
    "# Print updated number of genres\n",
    "movies_df['Count'] = 1\n",
    "movies_df[['Genre','Count']].groupby(['Genre'], as_index = False).count().shape[0]"
   ]
  },
  {
   "cell_type": "markdown",
   "id": "46ad4d00",
   "metadata": {},
   "source": [
    "Από την εκτύπωση του συνόλου τιμών της ανανεωμένης στήλης \"Genre\", βλέπουμε πως οι μοναδικές τιμές είναι 2264, παρόλο που οι τιμές αυτές δεν αντιστοιχούν σε 2264 μοναδικά είδη ταινιών. Μελετώντας το .csv αρχείο, ανακαλύπτουμε πως υπάρχουν πολλά είδη που αποτελούν συνδυασμό άλλων ή υποκατάστατο κάποιου πιο γνωστού είδους, οπότε το επόμενο βήμα είναι να αντικαταστήσουμε μερικά από αυτά τα είδη, να διαχωρίσουμε τα μοναδικά είδη κάθε ταινίας και να απομακρύνουμε τις κενές ετικέτες που προκύπτουν από τον διαχωρισμό."
   ]
  },
  {
   "cell_type": "code",
   "execution_count": 3,
   "id": "42a8539d",
   "metadata": {},
   "outputs": [
    {
     "name": "stdout",
     "output_type": "stream",
     "text": [
      "Number of unique words in the 'Genre' column: 677\n"
     ]
    },
    {
     "data": {
      "text/html": [
       "<div>\n",
       "<style scoped>\n",
       "    .dataframe tbody tr th:only-of-type {\n",
       "        vertical-align: middle;\n",
       "    }\n",
       "\n",
       "    .dataframe tbody tr th {\n",
       "        vertical-align: top;\n",
       "    }\n",
       "\n",
       "    .dataframe thead th {\n",
       "        text-align: right;\n",
       "    }\n",
       "</style>\n",
       "<table border=\"1\" class=\"dataframe\">\n",
       "  <thead>\n",
       "    <tr style=\"text-align: right;\">\n",
       "      <th></th>\n",
       "      <th>Genre</th>\n",
       "      <th>Count</th>\n",
       "    </tr>\n",
       "  </thead>\n",
       "  <tbody>\n",
       "    <tr>\n",
       "      <th>190</th>\n",
       "      <td>drama</td>\n",
       "      <td>9465</td>\n",
       "    </tr>\n",
       "    <tr>\n",
       "      <th>145</th>\n",
       "      <td>comedy</td>\n",
       "      <td>7298</td>\n",
       "    </tr>\n",
       "    <tr>\n",
       "      <th>508</th>\n",
       "      <td>romance</td>\n",
       "      <td>2646</td>\n",
       "    </tr>\n",
       "    <tr>\n",
       "      <th>20</th>\n",
       "      <td>action</td>\n",
       "      <td>2489</td>\n",
       "    </tr>\n",
       "    <tr>\n",
       "      <th>623</th>\n",
       "      <td>thriller</td>\n",
       "      <td>1779</td>\n",
       "    </tr>\n",
       "    <tr>\n",
       "      <th>160</th>\n",
       "      <td>crime</td>\n",
       "      <td>1606</td>\n",
       "    </tr>\n",
       "    <tr>\n",
       "      <th>260</th>\n",
       "      <td>horror</td>\n",
       "      <td>1591</td>\n",
       "    </tr>\n",
       "    <tr>\n",
       "      <th>659</th>\n",
       "      <td>western</td>\n",
       "      <td>974</td>\n",
       "    </tr>\n",
       "    <tr>\n",
       "      <th>385</th>\n",
       "      <td>musical</td>\n",
       "      <td>947</td>\n",
       "    </tr>\n",
       "    <tr>\n",
       "      <th>26</th>\n",
       "      <td>adventure</td>\n",
       "      <td>866</td>\n",
       "    </tr>\n",
       "    <tr>\n",
       "      <th>212</th>\n",
       "      <td>family</td>\n",
       "      <td>633</td>\n",
       "    </tr>\n",
       "    <tr>\n",
       "      <th>656</th>\n",
       "      <td>war</td>\n",
       "      <td>609</td>\n",
       "    </tr>\n",
       "    <tr>\n",
       "      <th>215</th>\n",
       "      <td>fantasy</td>\n",
       "      <td>602</td>\n",
       "    </tr>\n",
       "    <tr>\n",
       "      <th>527</th>\n",
       "      <td>science</td>\n",
       "      <td>575</td>\n",
       "    </tr>\n",
       "    <tr>\n",
       "      <th>220</th>\n",
       "      <td>fiction</td>\n",
       "      <td>564</td>\n",
       "    </tr>\n",
       "    <tr>\n",
       "      <th>222</th>\n",
       "      <td>film</td>\n",
       "      <td>549</td>\n",
       "    </tr>\n",
       "    <tr>\n",
       "      <th>389</th>\n",
       "      <td>mystery</td>\n",
       "      <td>481</td>\n",
       "    </tr>\n",
       "    <tr>\n",
       "      <th>90</th>\n",
       "      <td>biography</td>\n",
       "      <td>463</td>\n",
       "    </tr>\n",
       "    <tr>\n",
       "      <th>45</th>\n",
       "      <td>animated</td>\n",
       "      <td>418</td>\n",
       "    </tr>\n",
       "    <tr>\n",
       "      <th>219</th>\n",
       "      <td>fi</td>\n",
       "      <td>398</td>\n",
       "    </tr>\n",
       "  </tbody>\n",
       "</table>\n",
       "</div>"
      ],
      "text/plain": [
       "         Genre  Count\n",
       "190      drama   9465\n",
       "145     comedy   7298\n",
       "508    romance   2646\n",
       "20      action   2489\n",
       "623   thriller   1779\n",
       "160      crime   1606\n",
       "260     horror   1591\n",
       "659    western    974\n",
       "385    musical    947\n",
       "26   adventure    866\n",
       "212     family    633\n",
       "656        war    609\n",
       "215    fantasy    602\n",
       "527    science    575\n",
       "220    fiction    564\n",
       "222       film    549\n",
       "389    mystery    481\n",
       "90   biography    463\n",
       "45    animated    418\n",
       "219         fi    398"
      ]
     },
     "execution_count": 3,
     "metadata": {},
     "output_type": "execute_result"
    }
   ],
   "source": [
    "movies_df['Genre'].replace({\"romcom\":\"romance, comedy\",\n",
    "                            \"screwball\":\"romance, comedy\",\n",
    "                            \"dramedy\":\"drama, comedy\",\n",
    "                            \"biodrama\":\"biography, drama\",\n",
    "                            \"docudrama\":\"documentary, drama\",\n",
    "                            \"tokusatsu\":\"action, fantasy\",\n",
    "                            \"kaiju\":\"action, fantasy\",\n",
    "                            \"fairy tale\":\"folklore\"}, inplace=True)\n",
    "\n",
    "# Splitting genre labels using regular expressions\n",
    "movies_df['Genre'] = movies_df['Genre'].apply(lambda x: re.split(r'\\s|,|-|/|\\'|\\(|\\)|\\[|\\]', x))\n",
    "\n",
    "# Flattening the genre labels\n",
    "movies_df = movies_df.explode('Genre')\n",
    "\n",
    "# Remove leading/trailing whitespace\n",
    "movies_df['Genre'] = movies_df['Genre'].str.strip()\n",
    "\n",
    "# Replace genres containing \"doc\" with \"documentary\" and genres starting with \"rom\" with \"romance\"\n",
    "movies_df['Genre'] = movies_df['Genre'].str.replace('^doc.*', 'documentary', case=False, regex=True)\n",
    "movies_df['Genre'] = movies_df['Genre'].str.replace('^rom.*', 'romance', case=False, regex=True)\n",
    "movies_df['Genre'] = movies_df['Genre'].str.replace('^histo.*', 'history', case=False, regex=True)\n",
    "movies_df['Genre'] = movies_df['Genre'].str.replace('^bio.*', 'biography', case=False, regex=True)\n",
    "movies_df['Genre'] = movies_df['Genre'].str.replace('^trag.*', 'drama', case=False, regex=True)\n",
    "movies_df['Genre'] = movies_df['Genre'].str.replace('^ero.*', 'adult', case=False, regex=True)\n",
    "\n",
    "# Filter out empty or whitespace genre labels\n",
    "genres = movies_df[movies_df['Genre'].str.strip()!='']\n",
    "genres = genres[['Genre', 'Count']].groupby(['Genre'], as_index=False).sum().sort_values(['Count'], ascending=False)\n",
    "\n",
    "print(\"Number of unique words in the 'Genre' column:\",len(genres))\n",
    "\n",
    "genres.head(20)"
   ]
  },
  {
   "cell_type": "markdown",
   "id": "1ad77ee1",
   "metadata": {},
   "source": [
    "Από τον παραπάνω κώδικα, φαίνεται πως τα μοναδικά είδη ταινιών δεν είναι 2264 αλλά 708. Αυτός ο αριθμός όμως περιέχει πολλές εκδοχές ίδιων ή παρόμοιων ειδών, καθώς και λέξεις που προκύπτουν από τον διαχωρισμό των δεδομένων (splitting), οπότε συνεχίζουμε την προεπεξεργασία της στήλης \"Genre\", ώστε να περιορίσουμε όσο το δυνατόν περισσότερο τις επαναλήψεις ειδών και τις άσχετες λέξεις. Επίσης, επειδή ο διαχωρισμός και η αντικατάσταση των ειδών οδηγούν σε διπλές εγγραφές ειδών (π.χ. μία ταινία έχει ως είδη ['spy','acion'], τα οποία μετατρέπονται σε ['action','action']), διαγράφουμε τα αντίγραφα και κρατάμε μόνο την πρώτη εμφάνιση του είδους για κάθε ταινία. Τέλος, στην τελική μορφή της στήλης \"Genre\" κρατάμε μόνο όσα είδη έχουν πάνω από 20 εμφανίσεις μέσα στο dataset, γιατί πολλές από τις λέξεις με λιγότερες των 20 εμφανίσεων δεν αποτελούν καν είδος ταινίας."
   ]
  },
  {
   "cell_type": "code",
   "execution_count": 4,
   "id": "5a25973b",
   "metadata": {
    "scrolled": true
   },
   "outputs": [
    {
     "name": "stdout",
     "output_type": "stream",
     "text": [
      "['western' 'comedy' 'short' 'action' 'crime' 'film' 'biography' 'drama'\n",
      " 'adventure' 'fantasy' 'silent' 'sports' 'horror' '' 'history'\n",
      " 'documentary' 'series' 'epic' 'comedy–drama' 'romance' 'mystery' 'adult'\n",
      " 'hygiene' 'war' 'spy' 'propaganda' 'animation' 'melodrama' 'family'\n",
      " 'thriller' 'american' 'football' 'semi' 'staged' 'biblical' 'race'\n",
      " 'musical' 'operetta' 'detective' 'science fiction' '2' 'reeler'\n",
      " 'military' 'gangster' 'pic' 'screwball' 'charlie' 'chan' 'aviation'\n",
      " 'comedy;' '6' 'separate' 'stories' 'anthology' 'musical–comedy' 'subject'\n",
      " 'experimental' 'nature' 'educational' 'black' 'comedy–horror' 'cold' '3'\n",
      " 'd' 'p.o.w.' 'trilogy' 'warner' 'bros.' 'paramount.' 'united' 'artists.'\n",
      " 'disaster' 'political' 'travel' 'satire' 'feature' 'neo' 'pow'\n",
      " 'compilation' 'stop' 'motion' 'outlaw' 'spoof' 'true' 'mockumentary'\n",
      " 'psychological' 'blaxploitation' 'martial arts' 'superhero' '16' 'mm'\n",
      " 'teen' 'cult' 'and' 'priquitianism' 'avant' 'garde' 'road' 'family.'\n",
      " 'clay' 'imax' 'student' 's' 'shakespearean' 'space' 'opera' 'independent'\n",
      " 'reality' 'live' '007' 'dance' 'horror–thriller' 'concert' 'lgbt'\n",
      " 'themed' 'buddy' 'cop' 'dramedy' 'christian' 'supernatural' 'legal'\n",
      " 'social' 'direct' 'to' 'dvd' '3d' 'of' 'age' 'movie' 'survival' 'slahser'\n",
      " 'auli' 'i' 'cravalho' 'dwayne' 'johnson' 'reese' 'witherspoon' 'scarlett'\n",
      " 'johansson' 'post' 'apocalyptic' 'zombie' 'usa' 'can' 'surf' 'imdb'\n",
      " '30min' 'pseudo' 'liberation' 'chanchal' 'chowdhury' 'masuma' 'rahman'\n",
      " 'nabila' 'partha' 'barua' 'world' 'ii' 'literary' 'australian' 'based'\n",
      " 'on' 'radio' 'comic' 'strip' 'south' 'african' 'malyana' 'emergency'\n",
      " 'adaptation' 'korean' 'colonial' 'james' 'bond' 'futuristic'\n",
      " 'prehistoric' 'psy' 'british' 'german' 'co' 'production' 'counterculture'\n",
      " 'portmanteau' 'b' 'punk' 'occult' 'rock' 'socio' 'surreal' 'dram' 'urban'\n",
      " 'august' '25' 'nfb' 'the' 'novel' 'by' 'stephen' 'vizinczey' 'a' 'story'\n",
      " 'summer' 'camp' 'play' 'bernard' 'slade' 'medical' 'national' 'board'\n",
      " 'cbc' 'produced' 'gothic' 'time' 'modern' 'day' 'passion' 'travelling'\n",
      " 'wartime' 'with' 'j.g.' 'ballard' 'adapted' 'from' 'michel' 'marc'\n",
      " 'bouchard' 'russell' 'banks;' 'rohinton' 'mistry' 'religious' 'set' '4'\n",
      " '000' 'years' 'ago' 'in' 'canadian' 'arctic' 'bram' 'stoker' 'early'\n",
      " 'hitler' 'police' 'alice' 'robitaille' 'loosely' 'oliver' 'twist' 'aids'\n",
      " 'about' 'montreal' 'canadiens' 'star' 'maurice' 'richard' 'alzheimer’s'\n",
      " 'disease' 'munro.' 'made' 'interactive' 'cinema' 'margaret' 'laurence'\n",
      " 'inuit' 'immigrant' 'mordecai' 'richler' 'home' 'video' 'wajdi' 'mouawad'\n",
      " 'same' 'name' '3d.' 'hockey' 'vampire' 'child' 'soldiers' 'sf' 'colm'\n",
      " 'tóibín' 'name.' 'pioneering' 'photographer' 'eadweard' 'muybridge'\n",
      " 'afghan' 'into' 'forest' 'jean' 'hegland' 'screenplay' 'emma' 'donoghue'\n",
      " 'alexandre' 'goyette' 'conspiracy' 'canada' 'triad' 'wuxia' 'related'\n",
      " 'art' 'homosexual' 'huangmei' 'sword' 'thai' 'bruceploitation' 'gun'\n",
      " 'fantay' 'crime.' 'duology' 'lee' 'sin' 'je' 'yuen' 'lai' 'kei'\n",
      " 'physiological' 'tapas' 'paul' 'debashree' 'roy' 'jeet' 'nusrat' 'faria'\n",
      " 'mazhar' 'shraddha' 'das' 'dev' 'jahan' 'yash' 'dasgupta' 'mimi'\n",
      " 'chakraborty' 'mythology' 'devotional' 'legend' 'double' 'role' 'muslim'\n",
      " 'triangle' 'reincarnation' '1' 'girl' '&' 'suitors' 'classic'\n",
      " 'revolutionary' 'sentiment' 'triller' 'nadeem' 'shravan' 'business'\n",
      " 'thriler' 'found' 'footage' 'yeh' 'saali' 'zindagi' 'computer' 'masala'\n",
      " 'hills' 'studio' 'raj' 'films' 'panorama' 'studios' 'bbc' 'movies'\n",
      " 'knkspl' 'ttriller' 'colour' 'yellow' 'productions' 'international'\n",
      " 'viacom' '18' 'pictures' 'bholenath' 'cinekorn' 'entertainment' 'dharma'\n",
      " 'red' 'chillies' 'b.r' 'k9' 'action;' 'artistic' 'patriotism' 'revenge'\n",
      " 'stoner' 'environmental' 'human' 'rights' 'investigative' 'humour' '140'\n",
      " '144' 'comedey' 'heist' 'travelogue' 'biju' 'menon' 'krishnashankar'\n",
      " 'samskruti' 'shenoy' 'yogesh' 'dattatraya' 'gosavi' 'directorial'\n",
      " 'debut.' '9' 'vigilante' 'critically' 'acclaimed' 'cultural' 'familya'\n",
      " 'perodic' 'famil' 'piece' 'action—masala' 'genre' 'folklore' 'remake'\n",
      " 'cowboy' 'chakravarthy' 'hit' 'super' 'fim' 'mythological' 'stylish'\n",
      " 'ram' 'ileana' 'cruz' 'raghava' 'lawrence' 'prabhu' 'deva' 'raja'\n",
      " 'charmme' 'kamalini' 'mukherjee' 'siddharth' 'narayan' 'sada' 'ravi'\n",
      " 'teja' 'jyothika' 'kalyan' 'arjun' 'jagapati' 'babu' 'd.' 'ramanaidu'\n",
      " 'kalyani' 'rajasekhar' 'brahmanandam' 'kondavalasa' 'lakshmana' 'rao'\n",
      " 'allari' 'naresh' 'madhu' 'sharma' 'shashank' 'bramhanandam' 'prabhas'\n",
      " 'trisha' 'krishnan' 'srikanth' 'rajendra' 'prasad' 'sindhu' 'tolani'\n",
      " 'mahesh' 'prakash' 'pawan' 'reema' 'sen' 'meera' 'chopra' 'mukesh'\n",
      " 'rishi' 'priyadarshini' 'viswendar' 'reddy' 'radhika' 'joshi' 'sumanth'\n",
      " 'kamalinee' 'rajiv' 'kanakala' 'saloni' 'aswani' 'siva' 'balaji'\n",
      " 'anushka' 'shetty' 'mohanlal' 'mammootty' 'nedumudi' 'venu' 'bharath'\n",
      " 'gopi' 'ajay' 'kota' 'srinivasa' 'jr.' 'ntr' 'sameera' 'sonu' 'sood'\n",
      " 'suhasini' 'sharwanand' 'shriya' 'genelia' 'souza' 'jayasudha' 'sunil'\n",
      " 'arti' 'agarwal' 'mohit' 'ahlawat' 'priyanka' 'kothari' 'chiranjeevi'\n",
      " 'khushboo' 'indira' 'amperiani' 'bhaskara' 's.' 'narayanan' 'nagarjuna'\n",
      " 'saran' 'nayantara' 'poonam' 'bajwa' 'sivaji' 'krishna' 'bhagavaan' 'ali'\n",
      " 'madhav' 'arya' 'pooja' 'padmapriya' 'bhoomika' 'chawla' 'p.' 'balu'\n",
      " 'charmy' 'kaur' 'uday' 'kiran' 'vimala' 'raman' 'asin' 'sandhya'\n",
      " 'balakrishna' 'nandamuri' 'sneha' 'tabu' 'bhavana' 'entertainer' '–'\n",
      " 'inspired' 'event' 'jidaigeki' 'samurai' 'keiji' 'not' 'citation' 'given'\n",
      " 'chambara' 'kaiju' 'eiga' 'pink' 'jidai' 'geki' 'chanbara' 'yakuza'\n",
      " 'mocatsu' 'for' 'fighting' 'magical' 'j' 'tokusatsu' 'v' 'house' 'ken'\n",
      " 'ichi' 'maysuyama' 'koyuki' 'splatter' 'dystopia' 'cyberpunk' 'bicycle'\n",
      " 'racing' 'idol' 'poker' 'karuta' 'supeheroes' 'mecha' 'steampunk' 'harem'\n",
      " 'shogi' 'chess' 'aquatics' 'swimming' 'volleyball' 'olga' 'khokhlova'\n",
      " 'sergey' 'krapiventsev' 'oleg' 'sukachenko' 'glukoza']\n"
     ]
    }
   ],
   "source": [
    "# Simplify movie genres\n",
    "movies_df['Genre'].replace({\"com\":\"comedy\",\n",
    "                            \"comedic\":\"comedy\",\n",
    "                            \"slapstick\":\"comedy\",\n",
    "                            \"parody\":\"comedy\",\n",
    "                            \"love\":\"romance\",\n",
    "                            \"mob\":\"crime\",\n",
    "                            \"noir\":\"crime\",\n",
    "                            \"slice\":\"drama\",\n",
    "                            \"life\":\"drama\",\n",
    "                            \"dramatic\":\"drama\",\n",
    "                            \"murder\":\"crime\",\n",
    "                            \"prison\":\"crime\",\n",
    "                            \"politics\":\"political\",\n",
    "                            \"psycho\":\"psychological\",\n",
    "                            \"science\":\"science fiction\",\n",
    "                            \"fiction\":\"science fiction\",\n",
    "                            \"sci\":\"science fiction\",\n",
    "                            \"fi\":\"science fiction\",\n",
    "                            \"satirical\":\"satire\",\n",
    "                            \"campus\":\"teen\",\n",
    "                            \"school\":\"teen\",\n",
    "                            \"youth\":\"teen\",\n",
    "                            \"coming\":\"teen\",\n",
    "                            \"music\":\"musical\",\n",
    "                            \"children\":\"family\",\n",
    "                            \"kids\":\"family\",\n",
    "                            \"suspense\":\"thriller\",\n",
    "                            \"monster\":\"horror\",\n",
    "                            \"gore\":\"horror\",\n",
    "                            \"slasher\":\"horror\",\n",
    "                            \"adventures\":\"adventure\",\n",
    "                            \"ancient\":\"history\",\n",
    "                            \"costume\":\"history\",\n",
    "                            \"period\":\"history\",\n",
    "                            \"historic\":\"history\",\n",
    "                            \"historical\":\"history\",\n",
    "                            \"miniseries\":\"series\",\n",
    "                            \"television\":\"series\",\n",
    "                            \"serial\":\"series\",\n",
    "                            \"tv\":\"series\",\n",
    "                            \"espionage\":\"spy\",\n",
    "                            \"swashbuckler\":\"action\",\n",
    "                            \"swashbuckling\":\"action\",\n",
    "                            \"superheroes\":\"superhero\",\n",
    "                            \"animated\":\"animation\",\n",
    "                            \"cartoon\":\"animation\",\n",
    "                            \"anime\":\"animation\",\n",
    "                            \"sex\":\"adult\",\n",
    "                            \"porno\":\"adult\",\n",
    "                            \"sexual\":\"adult\",\n",
    "                            \"exploitation\":\"adult\",\n",
    "                            \"sexploitation\":\"adult\",\n",
    "                            \"martial\":\"martial arts\",\n",
    "                            \"arts\":\"martial arts\",\n",
    "                            \"kung\":\"martial arts\",\n",
    "                            \"fu\":\"martial arts\",\n",
    "                            \"boxing\":\"sports\",\n",
    "                            \"biker\":\"sports\",\n",
    "                            \"sport\":\"sports\",\n",
    "                            \"dark\":\"black\",\n",
    "                            \"patriotic\":\"patriotism\",\n",
    "                            \"holocaust\":\"war\",\n",
    "                            \"patriotic\":\"war\",\n",
    "                            \"ww1\":\"war\",\n",
    "                            \"wwii\":\"war\"}, inplace=True)\n",
    "\n",
    "# Remove duplicate occurrences of same genre in one movie\n",
    "movies_df.drop_duplicates(subset=['Genre', 'Plot'], keep='first', inplace=True)\n",
    "\n",
    "print(movies_df['Genre'].unique())"
   ]
  },
  {
   "cell_type": "code",
   "execution_count": 5,
   "id": "4707dda5",
   "metadata": {},
   "outputs": [
    {
     "data": {
      "text/html": [
       "<div>\n",
       "<style scoped>\n",
       "    .dataframe tbody tr th:only-of-type {\n",
       "        vertical-align: middle;\n",
       "    }\n",
       "\n",
       "    .dataframe tbody tr th {\n",
       "        vertical-align: top;\n",
       "    }\n",
       "\n",
       "    .dataframe thead th {\n",
       "        text-align: right;\n",
       "    }\n",
       "</style>\n",
       "<table border=\"1\" class=\"dataframe\">\n",
       "  <thead>\n",
       "    <tr style=\"text-align: right;\">\n",
       "      <th></th>\n",
       "      <th>Genre</th>\n",
       "      <th>Count</th>\n",
       "    </tr>\n",
       "  </thead>\n",
       "  <tbody>\n",
       "    <tr>\n",
       "      <th>10</th>\n",
       "      <td>drama</td>\n",
       "      <td>9363</td>\n",
       "    </tr>\n",
       "    <tr>\n",
       "      <th>6</th>\n",
       "      <td>comedy</td>\n",
       "      <td>7278</td>\n",
       "    </tr>\n",
       "    <tr>\n",
       "      <th>26</th>\n",
       "      <td>romance</td>\n",
       "      <td>2638</td>\n",
       "    </tr>\n",
       "    <tr>\n",
       "      <th>0</th>\n",
       "      <td>action</td>\n",
       "      <td>2453</td>\n",
       "    </tr>\n",
       "    <tr>\n",
       "      <th>7</th>\n",
       "      <td>crime</td>\n",
       "      <td>1953</td>\n",
       "    </tr>\n",
       "    <tr>\n",
       "      <th>37</th>\n",
       "      <td>thriller</td>\n",
       "      <td>1894</td>\n",
       "    </tr>\n",
       "    <tr>\n",
       "      <th>15</th>\n",
       "      <td>horror</td>\n",
       "      <td>1573</td>\n",
       "    </tr>\n",
       "    <tr>\n",
       "      <th>39</th>\n",
       "      <td>western</td>\n",
       "      <td>965</td>\n",
       "    </tr>\n",
       "    <tr>\n",
       "      <th>21</th>\n",
       "      <td>musical</td>\n",
       "      <td>960</td>\n",
       "    </tr>\n",
       "    <tr>\n",
       "      <th>28</th>\n",
       "      <td>science fiction</td>\n",
       "      <td>958</td>\n",
       "    </tr>\n",
       "    <tr>\n",
       "      <th>3</th>\n",
       "      <td>animation</td>\n",
       "      <td>891</td>\n",
       "    </tr>\n",
       "    <tr>\n",
       "      <th>2</th>\n",
       "      <td>adventure</td>\n",
       "      <td>857</td>\n",
       "    </tr>\n",
       "    <tr>\n",
       "      <th>12</th>\n",
       "      <td>family</td>\n",
       "      <td>681</td>\n",
       "    </tr>\n",
       "    <tr>\n",
       "      <th>38</th>\n",
       "      <td>war</td>\n",
       "      <td>614</td>\n",
       "    </tr>\n",
       "    <tr>\n",
       "      <th>13</th>\n",
       "      <td>fantasy</td>\n",
       "      <td>573</td>\n",
       "    </tr>\n",
       "    <tr>\n",
       "      <th>22</th>\n",
       "      <td>mystery</td>\n",
       "      <td>477</td>\n",
       "    </tr>\n",
       "    <tr>\n",
       "      <th>4</th>\n",
       "      <td>biography</td>\n",
       "      <td>460</td>\n",
       "    </tr>\n",
       "    <tr>\n",
       "      <th>14</th>\n",
       "      <td>history</td>\n",
       "      <td>325</td>\n",
       "    </tr>\n",
       "    <tr>\n",
       "      <th>30</th>\n",
       "      <td>short</td>\n",
       "      <td>241</td>\n",
       "    </tr>\n",
       "    <tr>\n",
       "      <th>31</th>\n",
       "      <td>social</td>\n",
       "      <td>222</td>\n",
       "    </tr>\n",
       "    <tr>\n",
       "      <th>33</th>\n",
       "      <td>spy</td>\n",
       "      <td>148</td>\n",
       "    </tr>\n",
       "    <tr>\n",
       "      <th>32</th>\n",
       "      <td>sports</td>\n",
       "      <td>138</td>\n",
       "    </tr>\n",
       "    <tr>\n",
       "      <th>17</th>\n",
       "      <td>martial arts</td>\n",
       "      <td>132</td>\n",
       "    </tr>\n",
       "    <tr>\n",
       "      <th>9</th>\n",
       "      <td>documentary</td>\n",
       "      <td>115</td>\n",
       "    </tr>\n",
       "    <tr>\n",
       "      <th>1</th>\n",
       "      <td>adult</td>\n",
       "      <td>105</td>\n",
       "    </tr>\n",
       "    <tr>\n",
       "      <th>34</th>\n",
       "      <td>superhero</td>\n",
       "      <td>93</td>\n",
       "    </tr>\n",
       "    <tr>\n",
       "      <th>29</th>\n",
       "      <td>series</td>\n",
       "      <td>88</td>\n",
       "    </tr>\n",
       "    <tr>\n",
       "      <th>5</th>\n",
       "      <td>black</td>\n",
       "      <td>83</td>\n",
       "    </tr>\n",
       "    <tr>\n",
       "      <th>36</th>\n",
       "      <td>teen</td>\n",
       "      <td>63</td>\n",
       "    </tr>\n",
       "    <tr>\n",
       "      <th>24</th>\n",
       "      <td>political</td>\n",
       "      <td>61</td>\n",
       "    </tr>\n",
       "    <tr>\n",
       "      <th>19</th>\n",
       "      <td>melodrama</td>\n",
       "      <td>46</td>\n",
       "    </tr>\n",
       "    <tr>\n",
       "      <th>18</th>\n",
       "      <td>masala</td>\n",
       "      <td>40</td>\n",
       "    </tr>\n",
       "    <tr>\n",
       "      <th>35</th>\n",
       "      <td>supernatural</td>\n",
       "      <td>39</td>\n",
       "    </tr>\n",
       "    <tr>\n",
       "      <th>27</th>\n",
       "      <td>satire</td>\n",
       "      <td>37</td>\n",
       "    </tr>\n",
       "    <tr>\n",
       "      <th>25</th>\n",
       "      <td>psychological</td>\n",
       "      <td>37</td>\n",
       "    </tr>\n",
       "    <tr>\n",
       "      <th>11</th>\n",
       "      <td>epic</td>\n",
       "      <td>36</td>\n",
       "    </tr>\n",
       "    <tr>\n",
       "      <th>20</th>\n",
       "      <td>mockumentary</td>\n",
       "      <td>33</td>\n",
       "    </tr>\n",
       "    <tr>\n",
       "      <th>8</th>\n",
       "      <td>disaster</td>\n",
       "      <td>31</td>\n",
       "    </tr>\n",
       "    <tr>\n",
       "      <th>23</th>\n",
       "      <td>mythology</td>\n",
       "      <td>24</td>\n",
       "    </tr>\n",
       "    <tr>\n",
       "      <th>16</th>\n",
       "      <td>literary</td>\n",
       "      <td>21</td>\n",
       "    </tr>\n",
       "  </tbody>\n",
       "</table>\n",
       "</div>"
      ],
      "text/plain": [
       "              Genre  Count\n",
       "10            drama   9363\n",
       "6            comedy   7278\n",
       "26          romance   2638\n",
       "0            action   2453\n",
       "7             crime   1953\n",
       "37         thriller   1894\n",
       "15           horror   1573\n",
       "39          western    965\n",
       "21          musical    960\n",
       "28  science fiction    958\n",
       "3         animation    891\n",
       "2         adventure    857\n",
       "12           family    681\n",
       "38              war    614\n",
       "13          fantasy    573\n",
       "22          mystery    477\n",
       "4         biography    460\n",
       "14          history    325\n",
       "30            short    241\n",
       "31           social    222\n",
       "33              spy    148\n",
       "32           sports    138\n",
       "17     martial arts    132\n",
       "9       documentary    115\n",
       "1             adult    105\n",
       "34        superhero     93\n",
       "29           series     88\n",
       "5             black     83\n",
       "36             teen     63\n",
       "24        political     61\n",
       "19        melodrama     46\n",
       "18           masala     40\n",
       "35     supernatural     39\n",
       "27           satire     37\n",
       "25    psychological     37\n",
       "11             epic     36\n",
       "20     mockumentary     33\n",
       "8          disaster     31\n",
       "23        mythology     24\n",
       "16         literary     21"
      ]
     },
     "execution_count": 5,
     "metadata": {},
     "output_type": "execute_result"
    }
   ],
   "source": [
    "# Remove remaining words of simplified genres\n",
    "non_genres = ['film', 'world', 'i', 'ii', 'of', 's', 'the', 'national', 'live', 'pic', 'board', '']\n",
    "movies_df = movies_df[~movies_df['Genre'].isin(non_genres)]\n",
    "\n",
    "# Count the occurrences of each genre\n",
    "genre_counts = movies_df['Genre'].value_counts()\n",
    "\n",
    "# Remove genres that appear in less than 20 movies\n",
    "mask = genre_counts[movies_df['Genre']].values < 20\n",
    "movies_df = movies_df[~mask]\n",
    "\n",
    "# Filter out empty or whitespace genre labels\n",
    "genres = movies_df[movies_df['Genre'].str.strip() != '']\n",
    "genres = genres[['Genre', 'Count']].groupby(['Genre'], as_index = False).sum().sort_values(['Count'], ascending = False)\n",
    "\n",
    "# Show all movie genres with more than 20 occurrences in descending order\n",
    "genres"
   ]
  },
  {
   "cell_type": "markdown",
   "id": "ef26fdbf",
   "metadata": {},
   "source": [
    "Ακολουθεί η οπτικοποίηση της ενημερωμένης στήλης ειδών ταινιών."
   ]
  },
  {
   "cell_type": "code",
   "execution_count": 6,
   "id": "85027160",
   "metadata": {},
   "outputs": [
    {
     "name": "stdout",
     "output_type": "stream",
     "text": [
      "Number of genres remaining: 40\n"
     ]
    },
    {
     "data": {
      "image/png": "[encoded data removed]",
      "text/plain": [
       "<Figure size 1200x800 with 1 Axes>"
      ]
     },
     "metadata": {},
     "output_type": "display_data"
    }
   ],
   "source": [
    "# Print the number of remaining genres\n",
    "sum_genres = movies_df['Genre'].nunique()\n",
    "print(\"Number of genres remaining:\", sum_genres)\n",
    "\n",
    "# Count the occurrences of each genre in descending order\n",
    "genre_order = movies_df['Genre'].value_counts().index\n",
    "\n",
    "# Set up the plot\n",
    "plt.figure(figsize=(12,8))\n",
    "\n",
    "sns.set_style(\"whitegrid\")\n",
    "sns.countplot(data=movies_df, y='Genre', order=genre_order, palette=\"tab10\")\n",
    "\n",
    "plt.title('Number of movies per genre',fontsize=14)\n",
    "plt.xlabel('Number of occurrences',fontsize=12)\n",
    "plt.ylabel('Movie genres',fontsize=12)\n",
    "plt.show()"
   ]
  },
  {
   "cell_type": "markdown",
   "id": "3ed0a2fa",
   "metadata": {},
   "source": [
    "Για την καλύτερη κατανόηση των πλοκών από τον αλγόριθμο ταξινόμησης, \"καθαρίζουμε\" τα κείμενα των πλοκών αφαιρώντας σημεία στίξης και ειδικούς χαρακτήρες, αλφαριθμητικά, και μετατρέποντας όλα τα κεφαλαία σε πεζά γράμματα."
   ]
  },
  {
   "cell_type": "code",
   "execution_count": 7,
   "id": "45582a15-02de-42c2-bc4e-c2d38beb999e",
   "metadata": {
    "id": "45582a15-02de-42c2-bc4e-c2d38beb999e"
   },
   "outputs": [
    {
     "data": {
      "text/html": [
       "<div>\n",
       "<style scoped>\n",
       "    .dataframe tbody tr th:only-of-type {\n",
       "        vertical-align: middle;\n",
       "    }\n",
       "\n",
       "    .dataframe tbody tr th {\n",
       "        vertical-align: top;\n",
       "    }\n",
       "\n",
       "    .dataframe thead th {\n",
       "        text-align: right;\n",
       "    }\n",
       "</style>\n",
       "<table border=\"1\" class=\"dataframe\">\n",
       "  <thead>\n",
       "    <tr style=\"text-align: right;\">\n",
       "      <th></th>\n",
       "      <th>Plot</th>\n",
       "      <th>Clean Plot</th>\n",
       "    </tr>\n",
       "  </thead>\n",
       "  <tbody>\n",
       "    <tr>\n",
       "      <th>11688</th>\n",
       "      <td>Lawrence \"Larry the Liquidator\" Garfield (Dann...</td>\n",
       "      <td>lawrence larry the liquidator garfield danny d...</td>\n",
       "    </tr>\n",
       "    <tr>\n",
       "      <th>25723</th>\n",
       "      <td>Raja (Ajay Devgn) and Madhu (Karisma Kapoor) m...</td>\n",
       "      <td>raja ajay devgn and madhu karisma kapoor meet ...</td>\n",
       "    </tr>\n",
       "    <tr>\n",
       "      <th>23497</th>\n",
       "      <td>Bud Gay and Bud Yan travel back in time to the...</td>\n",
       "      <td>bud gay and bud yan travel back in time to the...</td>\n",
       "    </tr>\n",
       "  </tbody>\n",
       "</table>\n",
       "</div>"
      ],
      "text/plain": [
       "                                                    Plot  \\\n",
       "11688  Lawrence \"Larry the Liquidator\" Garfield (Dann...   \n",
       "25723  Raja (Ajay Devgn) and Madhu (Karisma Kapoor) m...   \n",
       "23497  Bud Gay and Bud Yan travel back in time to the...   \n",
       "\n",
       "                                              Clean Plot  \n",
       "11688  lawrence larry the liquidator garfield danny d...  \n",
       "25723  raja ajay devgn and madhu karisma kapoor meet ...  \n",
       "23497  bud gay and bud yan travel back in time to the...  "
      ]
     },
     "execution_count": 7,
     "metadata": {},
     "output_type": "execute_result"
    }
   ],
   "source": [
    "# Function for text cleaning\n",
    "def clean_text(text):\n",
    "    # Remove backslash-apostrophe\n",
    "    text = re.sub(\"\\'\", \"\", text)\n",
    "    # Remove everything alphabets\n",
    "    text = re.sub(\"[^a-zA-Z]\",\" \",text)\n",
    "    # Remove whitespaces\n",
    "    text = ' '.join(text.split())\n",
    "    # Convert text to lowercase\n",
    "    text = text.lower()\n",
    "    \n",
    "    return text\n",
    "\n",
    "# Apply text-cleaning function to our dataset\n",
    "movies_df['Clean Plot'] = movies_df['Plot'].apply(lambda x: clean_text(x))\n",
    "\n",
    "# Check 3 random entries for plot changes\n",
    "movies_df[['Plot', 'Clean Plot']].sample(3)"
   ]
  },
  {
   "cell_type": "markdown",
   "id": "b17f40f9",
   "metadata": {},
   "source": [
    "Στη συνέχεια, δημιουργούμε μία συνάρτηση για να εξετάζουμε τις πιο συχνές λέξεις που εμφανίζονται στις περιγραφές των πλοκών των ταινιών."
   ]
  },
  {
   "cell_type": "code",
   "execution_count": 8,
   "id": "2bc06e09",
   "metadata": {
    "id": "2bc06e09"
   },
   "outputs": [
    {
     "data": {
      "image/png": "[encoded data removed]",
      "text/plain": [
       "<Figure size 1000x1000 with 1 Axes>"
      ]
     },
     "metadata": {},
     "output_type": "display_data"
    }
   ],
   "source": [
    "# Function for most frequent terms in plots\n",
    "def freq_words(x, terms = 20):\n",
    "  all_words = ' '.join([text for text in x])\n",
    "  all_words = all_words.split()\n",
    "  \n",
    "  fdist = nltk.FreqDist(all_words)\n",
    "  movies_df = pd.DataFrame({'Word':list(fdist.keys()),'Count':list(fdist.values())})\n",
    "  \n",
    "  # Select top 20 most frequent words\n",
    "  d = movies_df.nlargest(columns=\"Count\", n=terms) \n",
    "  plt.figure(figsize=(10,10))\n",
    "  ax = sns.barplot(data=d, x=\"Count\", y=\"Word\")\n",
    "  ax.set(ylabel='Word')\n",
    "  plt.show()\n",
    "\n",
    "# Print top 50 most frequent words    \n",
    "freq_words(movies_df['Clean Plot'], 50)"
   ]
  },
  {
   "cell_type": "markdown",
   "id": "c2b60356",
   "metadata": {},
   "source": [
    "Όπως είναι αναμενόμενο, οι λέξεις με τις περισσότερες εμφανίσεις είναι κυρίως άρθρα, προθέσεις, κλπ. Το σύνολο των λέξεων αυτών στην αγγλική ονομάζονται **stopwords** και επιλέγουμε να το αφαιρέσουμε ώστε να μην παρέμβει στην ανάλυση των κειμένων των πλοκών."
   ]
  },
  {
   "cell_type": "code",
   "execution_count": 9,
   "id": "0844d3b7",
   "metadata": {},
   "outputs": [
    {
     "name": "stderr",
     "output_type": "stream",
     "text": [
      "[nltk_data] Downloading package stopwords to /home/olga/nltk_data...\n",
      "[nltk_data]   Package stopwords is already up-to-date!\n"
     ]
    },
    {
     "data": {
      "image/png": "[encoded data removed]",
      "text/plain": [
       "<Figure size 1000x1000 with 1 Axes>"
      ]
     },
     "metadata": {},
     "output_type": "display_data"
    }
   ],
   "source": [
    "# Download the stopwords\n",
    "nltk.download('stopwords')\n",
    "stop_words = set(stopwords.words('english'))\n",
    "\n",
    "# Function to remove stopwords\n",
    "def remove_stopwords(text):\n",
    "    no_stopword_text = [w for w in text.split() if not w in stop_words]\n",
    "    return ' '.join(no_stopword_text)\n",
    "\n",
    "movies_df['Clean Plot'] = movies_df['Clean Plot'].apply(lambda x: remove_stopwords(x))\n",
    "\n",
    "# Print updated top 50 most frequent words    \n",
    "freq_words(movies_df['Clean Plot'], 50)"
   ]
  },
  {
   "cell_type": "markdown",
   "id": "8fae6b9c",
   "metadata": {},
   "source": [
    "Για τη γρηγορότερη επεξεργασία του συνόλου δεδομένων της εργασίας, απομακρύνουμε τις στήλες με δεδομένα που δεν αφορούν το παρόν πρόβλημα."
   ]
  },
  {
   "cell_type": "code",
   "execution_count": 10,
   "id": "2a2bf45a-e0b2-4521-a28d-a180e74a2c07",
   "metadata": {
    "id": "2a2bf45a-e0b2-4521-a28d-a180e74a2c07",
    "scrolled": true
   },
   "outputs": [
    {
     "data": {
      "text/html": [
       "<div>\n",
       "<style scoped>\n",
       "    .dataframe tbody tr th:only-of-type {\n",
       "        vertical-align: middle;\n",
       "    }\n",
       "\n",
       "    .dataframe tbody tr th {\n",
       "        vertical-align: top;\n",
       "    }\n",
       "\n",
       "    .dataframe thead th {\n",
       "        text-align: right;\n",
       "    }\n",
       "</style>\n",
       "<table border=\"1\" class=\"dataframe\">\n",
       "  <thead>\n",
       "    <tr style=\"text-align: right;\">\n",
       "      <th></th>\n",
       "      <th>Title</th>\n",
       "      <th>Genre</th>\n",
       "      <th>Plot</th>\n",
       "      <th>Clean Plot</th>\n",
       "    </tr>\n",
       "  </thead>\n",
       "  <tbody>\n",
       "    <tr>\n",
       "      <th>0</th>\n",
       "      <td>Why Did I Get Married?</td>\n",
       "      <td>drama, comedy</td>\n",
       "      <td>Dianne falls asleep not long after arriving wi...</td>\n",
       "      <td>dianne falls asleep long arriving blackberry c...</td>\n",
       "    </tr>\n",
       "    <tr>\n",
       "      <th>1</th>\n",
       "      <td>Close My Eyes</td>\n",
       "      <td>drama</td>\n",
       "      <td>In 1985, town planning student Richard Gillesp...</td>\n",
       "      <td>town planning student richard gillespie walks ...</td>\n",
       "    </tr>\n",
       "    <tr>\n",
       "      <th>2</th>\n",
       "      <td>Born to the West</td>\n",
       "      <td>western</td>\n",
       "      <td>On the vast mountainous Montana vista, to the ...</td>\n",
       "      <td>vast mountainous montana vista soft strains ri...</td>\n",
       "    </tr>\n",
       "    <tr>\n",
       "      <th>3</th>\n",
       "      <td>If I Were Free</td>\n",
       "      <td>drama</td>\n",
       "      <td>Unhappily married, a man and a woman try to ma...</td>\n",
       "      <td>unhappily married man woman try maintain succe...</td>\n",
       "    </tr>\n",
       "    <tr>\n",
       "      <th>4</th>\n",
       "      <td>Nobody Walks</td>\n",
       "      <td>comedy, drama</td>\n",
       "      <td>23-year-old Martine (Olivia Thirlby) has just...</td>\n",
       "      <td>year old martine olivia thirlby arrived silver...</td>\n",
       "    </tr>\n",
       "  </tbody>\n",
       "</table>\n",
       "</div>"
      ],
      "text/plain": [
       "                    Title          Genre  \\\n",
       "0  Why Did I Get Married?  drama, comedy   \n",
       "1           Close My Eyes          drama   \n",
       "2        Born to the West        western   \n",
       "3          If I Were Free          drama   \n",
       "4            Nobody Walks  comedy, drama   \n",
       "\n",
       "                                                Plot  \\\n",
       "0  Dianne falls asleep not long after arriving wi...   \n",
       "1  In 1985, town planning student Richard Gillesp...   \n",
       "2  On the vast mountainous Montana vista, to the ...   \n",
       "3  Unhappily married, a man and a woman try to ma...   \n",
       "4   23-year-old Martine (Olivia Thirlby) has just...   \n",
       "\n",
       "                                          Clean Plot  \n",
       "0  dianne falls asleep long arriving blackberry c...  \n",
       "1  town planning student richard gillespie walks ...  \n",
       "2  vast mountainous montana vista soft strains ri...  \n",
       "3  unhappily married man woman try maintain succe...  \n",
       "4  year old martine olivia thirlby arrived silver...  "
      ]
     },
     "execution_count": 10,
     "metadata": {},
     "output_type": "execute_result"
    }
   ],
   "source": [
    "# Remove unnecessary columns\n",
    "movies_df.drop(columns = ['Release Year', 'Origin/Ethnicity', 'Director', 'Cast', 'Wiki Page', 'Count'], axis = 1, inplace = True)\n",
    "\n",
    "# Merge the genres for each movie into a single cell\n",
    "movies_df = movies_df.groupby('Plot').agg({'Genre': ', '.join, 'Title': 'first', 'Clean Plot': 'first'}).reset_index()\n",
    "\n",
    "# Remove leading newline characters from the plot column\n",
    "movies_df['Plot'] = movies_df['Plot'].str.lstrip('\\r\\n')\n",
    "\n",
    "# Reorder the columns\n",
    "movies_df = movies_df[['Title', 'Genre', 'Plot', 'Clean Plot']]\n",
    "\n",
    "# Display the first few rows of the merged dataset\n",
    "movies_df.head()"
   ]
  },
  {
   "cell_type": "markdown",
   "id": "2474b1f2",
   "metadata": {},
   "source": [
    "### 3. Εξαγωγή Χαρακτηριστικών (Feature Extraction)"
   ]
  },
  {
   "cell_type": "markdown",
   "id": "981497c0",
   "metadata": {},
   "source": []
  },
  {
   "cell_type": "markdown",
   "id": "984fee0f",
   "metadata": {},
   "source": [
    "80% training set, 20% test set"
   ]
  },
  {
   "cell_type": "code",
   "execution_count": 13,
   "id": "d6c435ee",
   "metadata": {},
   "outputs": [
    {
     "name": "stdout",
     "output_type": "stream",
     "text": [
      "Training features shape: (22445, 119839)\n",
      "Testing features shape: (5612, 119839)\n",
      "                        Title          Genre  \\\n",
      "23943         The Beachcomber  comedy, drama   \n",
      "885         The Frozen Limits         comedy   \n",
      "16057  Nancy Drew... Reporter        mystery   \n",
      "\n",
      "                                                    Plot  \\\n",
      "23943  The new British Resident of the Welcome Island...   \n",
      "885    A group of British pioneers decide to take par...   \n",
      "16057  Nancy Drew, competing in the local newspaper's...   \n",
      "\n",
      "                                              Clean Plot  \n",
      "23943  new british resident welcome islands ewart gra...  \n",
      "885    group british pioneers decide take part alaska...  \n",
      "16057  nancy drew competing local newspapers amateur ...                Title     Genre  \\\n",
      "6633  Testosterone    action   \n",
      "2974         Glory   musical   \n",
      "5601       Phantom  thriller   \n",
      "\n",
      "                                                   Plot  \\\n",
      "6633  Dean Seagrave (David Sutcliffe) is a thirty-so...   \n",
      "2974  Agnes Tilbee and granddaughter Clarabell are e...   \n",
      "5601  Captain Dmitri \"Demi\" Zubov (Harris) is a vete...   \n",
      "\n",
      "                                             Clean Plot  \n",
      "6633  dean seagrave david sutcliffe thirty something...  \n",
      "2974  agnes tilbee granddaughter clarabell excited f...  \n",
      "5601  captain dmitri demi zubov harris veteran sovie...  \n"
     ]
    }
   ],
   "source": [
    "# Split the data into training and testing sets\n",
    "train_data, test_data = train_test_split(movies_df, test_size=0.2, random_state=42)\n",
    "\n",
    "# Initialize the TF-IDF vectorizer\n",
    "vectorizer = TfidfVectorizer()\n",
    "\n",
    "# Fit the vectorizer on the training data and transform the training data\n",
    "train_features = vectorizer.fit_transform(train_data['Clean Plot'])\n",
    "\n",
    "# Transform the testing data using the fitted vectorizer\n",
    "test_features = vectorizer.transform(test_data['Clean Plot'])\n",
    "\n",
    "# Print the shape of the training and testing features\n",
    "print(\"Training features shape:\", train_features.shape)\n",
    "print(\"Testing features shape:\", test_features.shape)\n",
    "print(train_data.sample(3), test_data.sample(3))"
   ]
  },
  {
   "cell_type": "markdown",
   "id": "7ff3f72b",
   "metadata": {},
   "source": [
    "### 4. Κατασκευή και Εκπαίδευση του Μοντέλου Πρόβλεψης (Building and Training of Prediciton Model)"
   ]
  },
  {
   "cell_type": "markdown",
   "id": "469c9cd5",
   "metadata": {},
   "source": []
  },
  {
   "cell_type": "code",
   "execution_count": 14,
   "id": "59197078",
   "metadata": {},
   "outputs": [
    {
     "data": {
      "text/html": [
       "<style>#sk-container-id-1 {color: black;background-color: white;}#sk-container-id-1 pre{padding: 0;}#sk-container-id-1 div.sk-toggleable {background-color: white;}#sk-container-id-1 label.sk-toggleable__label {cursor: pointer;display: block;width: 100%;margin-bottom: 0;padding: 0.3em;box-sizing: border-box;text-align: center;}#sk-container-id-1 label.sk-toggleable__label-arrow:before {content: \"▸\";float: left;margin-right: 0.25em;color: #696969;}#sk-container-id-1 label.sk-toggleable__label-arrow:hover:before {color: black;}#sk-container-id-1 div.sk-estimator:hover label.sk-toggleable__label-arrow:before {color: black;}#sk-container-id-1 div.sk-toggleable__content {max-height: 0;max-width: 0;overflow: hidden;text-align: left;background-color: #f0f8ff;}#sk-container-id-1 div.sk-toggleable__content pre {margin: 0.2em;color: black;border-radius: 0.25em;background-color: #f0f8ff;}#sk-container-id-1 input.sk-toggleable__control:checked~div.sk-toggleable__content {max-height: 200px;max-width: 100%;overflow: auto;}#sk-container-id-1 input.sk-toggleable__control:checked~label.sk-toggleable__label-arrow:before {content: \"▾\";}#sk-container-id-1 div.sk-estimator input.sk-toggleable__control:checked~label.sk-toggleable__label {background-color: #d4ebff;}#sk-container-id-1 div.sk-label input.sk-toggleable__control:checked~label.sk-toggleable__label {background-color: #d4ebff;}#sk-container-id-1 input.sk-hidden--visually {border: 0;clip: rect(1px 1px 1px 1px);clip: rect(1px, 1px, 1px, 1px);height: 1px;margin: -1px;overflow: hidden;padding: 0;position: absolute;width: 1px;}#sk-container-id-1 div.sk-estimator {font-family: monospace;background-color: #f0f8ff;border: 1px dotted black;border-radius: 0.25em;box-sizing: border-box;margin-bottom: 0.5em;}#sk-container-id-1 div.sk-estimator:hover {background-color: #d4ebff;}#sk-container-id-1 div.sk-parallel-item::after {content: \"\";width: 100%;border-bottom: 1px solid gray;flex-grow: 1;}#sk-container-id-1 div.sk-label:hover label.sk-toggleable__label {background-color: #d4ebff;}#sk-container-id-1 div.sk-serial::before {content: \"\";position: absolute;border-left: 1px solid gray;box-sizing: border-box;top: 0;bottom: 0;left: 50%;z-index: 0;}#sk-container-id-1 div.sk-serial {display: flex;flex-direction: column;align-items: center;background-color: white;padding-right: 0.2em;padding-left: 0.2em;position: relative;}#sk-container-id-1 div.sk-item {position: relative;z-index: 1;}#sk-container-id-1 div.sk-parallel {display: flex;align-items: stretch;justify-content: center;background-color: white;position: relative;}#sk-container-id-1 div.sk-item::before, #sk-container-id-1 div.sk-parallel-item::before {content: \"\";position: absolute;border-left: 1px solid gray;box-sizing: border-box;top: 0;bottom: 0;left: 50%;z-index: -1;}#sk-container-id-1 div.sk-parallel-item {display: flex;flex-direction: column;z-index: 1;position: relative;background-color: white;}#sk-container-id-1 div.sk-parallel-item:first-child::after {align-self: flex-end;width: 50%;}#sk-container-id-1 div.sk-parallel-item:last-child::after {align-self: flex-start;width: 50%;}#sk-container-id-1 div.sk-parallel-item:only-child::after {width: 0;}#sk-container-id-1 div.sk-dashed-wrapped {border: 1px dashed gray;margin: 0 0.4em 0.5em 0.4em;box-sizing: border-box;padding-bottom: 0.4em;background-color: white;}#sk-container-id-1 div.sk-label label {font-family: monospace;font-weight: bold;display: inline-block;line-height: 1.2em;}#sk-container-id-1 div.sk-label-container {text-align: center;}#sk-container-id-1 div.sk-container {/* jupyter's `normalize.less` sets `[hidden] { display: none; }` but bootstrap.min.css set `[hidden] { display: none !important; }` so we also need the `!important` here to be able to override the default hidden behavior on the sphinx rendered scikit-learn.org. See: https://github.com/scikit-learn/scikit-learn/issues/21755 */display: inline-block !important;position: relative;}#sk-container-id-1 div.sk-text-repr-fallback {display: none;}</style><div id=\"sk-container-id-1\" class=\"sk-top-container\"><div class=\"sk-text-repr-fallback\"><pre>OneVsRestClassifier(estimator=LinearSVC())</pre><b>In a Jupyter environment, please rerun this cell to show the HTML representation or trust the notebook. <br />On GitHub, the HTML representation is unable to render, please try loading this page with nbviewer.org.</b></div><div class=\"sk-container\" hidden><div class=\"sk-item sk-dashed-wrapped\"><div class=\"sk-label-container\"><div class=\"sk-label sk-toggleable\"><input class=\"sk-toggleable__control sk-hidden--visually\" id=\"sk-estimator-id-1\" type=\"checkbox\" ><label for=\"sk-estimator-id-1\" class=\"sk-toggleable__label sk-toggleable__label-arrow\">OneVsRestClassifier</label><div class=\"sk-toggleable__content\"><pre>OneVsRestClassifier(estimator=LinearSVC())</pre></div></div></div><div class=\"sk-parallel\"><div class=\"sk-parallel-item\"><div class=\"sk-item\"><div class=\"sk-label-container\"><div class=\"sk-label sk-toggleable\"><input class=\"sk-toggleable__control sk-hidden--visually\" id=\"sk-estimator-id-2\" type=\"checkbox\" ><label for=\"sk-estimator-id-2\" class=\"sk-toggleable__label sk-toggleable__label-arrow\">estimator: LinearSVC</label><div class=\"sk-toggleable__content\"><pre>LinearSVC()</pre></div></div></div><div class=\"sk-serial\"><div class=\"sk-item\"><div class=\"sk-estimator sk-toggleable\"><input class=\"sk-toggleable__control sk-hidden--visually\" id=\"sk-estimator-id-3\" type=\"checkbox\" ><label for=\"sk-estimator-id-3\" class=\"sk-toggleable__label sk-toggleable__label-arrow\">LinearSVC</label><div class=\"sk-toggleable__content\"><pre>LinearSVC()</pre></div></div></div></div></div></div></div></div></div></div>"
      ],
      "text/plain": [
       "OneVsRestClassifier(estimator=LinearSVC())"
      ]
     },
     "execution_count": 14,
     "metadata": {},
     "output_type": "execute_result"
    }
   ],
   "source": [
    "# Convert the 'Genre' column into a list of lists\n",
    "label_binarizer = MultiLabelBinarizer()\n",
    "train_labels = label_binarizer.fit_transform(train_data['Genre'].str.split(', '))\n",
    "test_labels = label_binarizer.transform(test_data['Genre'].str.split(', '))\n",
    "\n",
    "# Initialize the LinearSVC classifier\n",
    "classifier = LinearSVC()\n",
    "\n",
    "# Initialize the OneVsRestClassifier with the LinearSVC\n",
    "model = OneVsRestClassifier(classifier)\n",
    "\n",
    "# Fit the model on the training features and labels\n",
    "model.fit(train_features, train_labels)"
   ]
  },
  {
   "cell_type": "markdown",
   "id": "2c2b9b97",
   "metadata": {},
   "source": [
    "### 5. Αξιολόγηση του Μοντέλου (Evaluation of Model)"
   ]
  },
  {
   "cell_type": "markdown",
   "id": "4195aab9",
   "metadata": {},
   "source": []
  },
  {
   "cell_type": "code",
   "execution_count": 15,
   "id": "d31d9434",
   "metadata": {},
   "outputs": [
    {
     "name": "stdout",
     "output_type": "stream",
     "text": [
      "                 precision    recall  f1-score   support\n",
      "\n",
      "         action       0.61      0.26      0.36       476\n",
      "          adult       1.00      0.12      0.22        24\n",
      "      adventure       0.58      0.13      0.21       160\n",
      "      animation       0.93      0.36      0.52       184\n",
      "      biography       1.00      0.01      0.02        99\n",
      "          black       0.00      0.00      0.00        14\n",
      "         comedy       0.66      0.50      0.57      1488\n",
      "          crime       0.46      0.19      0.27       375\n",
      "       disaster       0.00      0.00      0.00         6\n",
      "    documentary       0.00      0.00      0.00        31\n",
      "          drama       0.57      0.47      0.52      1872\n",
      "           epic       0.00      0.00      0.00         6\n",
      "         family       0.33      0.02      0.04       130\n",
      "        fantasy       0.68      0.21      0.32       112\n",
      "        history       1.00      0.03      0.05        73\n",
      "         horror       0.80      0.50      0.62       304\n",
      "       literary       0.00      0.00      0.00         5\n",
      "   martial arts       1.00      0.12      0.21        26\n",
      "         masala       0.00      0.00      0.00         7\n",
      "      melodrama       0.00      0.00      0.00        10\n",
      "   mockumentary       0.00      0.00      0.00         5\n",
      "        musical       0.60      0.14      0.22       195\n",
      "        mystery       0.50      0.08      0.14        89\n",
      "      mythology       1.00      0.33      0.50         3\n",
      "      political       0.00      0.00      0.00        11\n",
      "  psychological       0.00      0.00      0.00         9\n",
      "        romance       0.62      0.26      0.37       543\n",
      "         satire       0.00      0.00      0.00         8\n",
      "science fiction       0.75      0.38      0.51       201\n",
      "         series       0.00      0.00      0.00        16\n",
      "          short       0.85      0.22      0.35        50\n",
      "         social       0.00      0.00      0.00        45\n",
      "         sports       0.00      0.00      0.00        28\n",
      "            spy       0.80      0.14      0.24        28\n",
      "      superhero       0.50      0.05      0.09        21\n",
      "   supernatural       0.00      0.00      0.00         8\n",
      "           teen       0.00      0.00      0.00        14\n",
      "       thriller       0.45      0.08      0.14       362\n",
      "            war       0.65      0.45      0.53       115\n",
      "        western       0.90      0.66      0.76       200\n",
      "\n",
      "      micro avg       0.63      0.35      0.45      7353\n",
      "      macro avg       0.43      0.14      0.19      7353\n",
      "   weighted avg       0.61      0.35      0.42      7353\n",
      "    samples avg       0.41      0.38      0.38      7353\n",
      "\n"
     ]
    },
    {
     "name": "stderr",
     "output_type": "stream",
     "text": [
      "/home/olga/.local/lib/python3.10/site-packages/sklearn/metrics/_classification.py:1344: UndefinedMetricWarning: Precision and F-score are ill-defined and being set to 0.0 in labels with no predicted samples. Use `zero_division` parameter to control this behavior.\n",
      "  _warn_prf(average, modifier, msg_start, len(result))\n",
      "/home/olga/.local/lib/python3.10/site-packages/sklearn/metrics/_classification.py:1344: UndefinedMetricWarning: Precision and F-score are ill-defined and being set to 0.0 in samples with no predicted labels. Use `zero_division` parameter to control this behavior.\n",
      "  _warn_prf(average, modifier, msg_start, len(result))\n"
     ]
    }
   ],
   "source": [
    "# Predict the labels for the testing features\n",
    "predictions = model.predict(test_features)\n",
    "\n",
    "# Inverse transform the predicted labels to their original genre representation\n",
    "predicted_labels = label_binarizer.inverse_transform(predictions)\n",
    "actual_labels = label_binarizer.inverse_transform(test_labels)\n",
    "\n",
    "# Print the classification report\n",
    "print(classification_report(test_labels, predictions, target_names=label_binarizer.classes_))"
   ]
  },
  {
   "cell_type": "code",
   "execution_count": 19,
   "id": "102428dc",
   "metadata": {},
   "outputs": [
    {
     "name": "stdout",
     "output_type": "stream",
     "text": [
      "Accuracy: 0.2758374910905203\n",
      "Precision: 0.612606101511934\n",
      "Recall: 0.35155718754249965\n",
      "F1-score: 0.42358500520967574\n"
     ]
    },
    {
     "name": "stderr",
     "output_type": "stream",
     "text": [
      "/home/olga/.local/lib/python3.10/site-packages/sklearn/metrics/_classification.py:1344: UndefinedMetricWarning: Precision is ill-defined and being set to 0.0 in labels with no predicted samples. Use `zero_division` parameter to control this behavior.\n",
      "  _warn_prf(average, modifier, msg_start, len(result))\n"
     ]
    }
   ],
   "source": [
    "# Calculate evaluation metrics\n",
    "accuracy = accuracy_score(test_labels, predictions)\n",
    "precision = precision_score(test_labels, predictions, average='weighted')\n",
    "recall = recall_score(test_labels, predictions, average='weighted')\n",
    "f1 = f1_score(test_labels, predictions, average='weighted')\n",
    "\n",
    "# Print the evaluation metrics\n",
    "print(\"Accuracy:\", accuracy)\n",
    "print(\"Precision:\", precision)\n",
    "print(\"Recall:\", recall)\n",
    "print(\"F1-score:\", f1)"
   ]
  },
  {
   "cell_type": "markdown",
   "id": "20f4ca03",
   "metadata": {},
   "source": [
    "### 6. Συμπερασματική Συνάρτηση (Inference Function)"
   ]
  },
  {
   "cell_type": "markdown",
   "id": "9d0a5d88",
   "metadata": {},
   "source": []
  },
  {
   "cell_type": "code",
   "execution_count": 17,
   "id": "50c6113c",
   "metadata": {},
   "outputs": [],
   "source": [
    "def infer_tags(q):\n",
    "    q = clean_text(q)\n",
    "    q = remove_stopwords(q)\n",
    "    q_vec = vectorizer.transform([q])\n",
    "    q_pred = model.predict(q_vec)\n",
    "    return label_binarizer.inverse_transform(q_pred)"
   ]
  },
  {
   "cell_type": "code",
   "execution_count": 18,
   "id": "b6996107",
   "metadata": {},
   "outputs": [
    {
     "name": "stdout",
     "output_type": "stream",
     "text": [
      "Movie: Parts: The Clonus Horror\n",
      "Predicted genre: [()]\n",
      "Actual genre: science fiction\n",
      "\n",
      "Movie: Don't Be a Menace to South Central While Drinking Your Juice in the Hood\n",
      "Predicted genre: [()]\n",
      "Actual genre: comedy\n",
      "\n",
      "Movie: The Last Emperor\n",
      "Predicted genre: [('drama',)]\n",
      "Actual genre: biography\n",
      "\n",
      "Movie: Dixie\n",
      "Predicted genre: [('comedy', 'musical')]\n",
      "Actual genre: musical, biography\n",
      "\n",
      "Movie: Two of a Kind\n",
      "Predicted genre: [('comedy',)]\n",
      "Actual genre: comedy\n",
      "\n",
      "Movie: Till We Meet Again\n",
      "Predicted genre: [()]\n",
      "Actual genre: drama, war\n",
      "\n",
      "Movie: A Blind Bargain\n",
      "Predicted genre: [('drama',)]\n",
      "Actual genre: horror\n",
      "\n",
      "Movie:  The 40-Year-Old Virgin\n",
      "Predicted genre: [()]\n",
      "Actual genre: comedy\n",
      "\n",
      "Movie: A Boy Called Dad\n",
      "Predicted genre: [('drama',)]\n",
      "Actual genre: drama\n",
      "\n",
      "Movie: World War Z\n",
      "Predicted genre: [('horror',)]\n",
      "Actual genre: action, adventure\n",
      "\n"
     ]
    }
   ],
   "source": [
    "for i in range(10):\n",
    "    k = test_data.sample(1).index[0]\n",
    "    print(\"Movie:\", movies_df['Title'][k])\n",
    "    print(\"Predicted genre:\", infer_tags(test_data['Plot'][k]))\n",
    "    print(\"Actual genre:\",movies_df['Genre'][k])\n",
    "    print()"
   ]
  },
  {
   "cell_type": "markdown",
   "id": "7118c241-512d-44d4-be0f-a3e4537f46f9",
   "metadata": {
    "id": "7118c241-512d-44d4-be0f-a3e4537f46f9",
    "tags": []
   },
   "source": [
    "## Αναφορές"
   ]
  },
  {
   "cell_type": "markdown",
   "id": "a863d88f-4be2-46c5-989f-e2af8ea7d3c9",
   "metadata": {
    "id": "6ef7108f-1233-4de3-bda2-8b242e206917"
   },
   "source": [
    "[1] Tasoulis, S. (2022-2023). *E-class material*. Undergraduate Course: \"Deep Leanring\", 8th Semester, Department of Computer Science and Biomedical Informatics, University of Thessaly, Lamia.\n",
    "\n",
    "[2] Wikipedia Movie Plots. (2018, October 15). *Kaggle*. https://www.kaggle.com/datasets/jrobischon/wikipedia-movie-plots\n",
    "\n",
    "[3] Abimbola, W. (2021, June 24). Text Classification of Movie Plot Summaries to Predict Movie Genres. *GitHub*. https://github.com/Wonuabimbola/movie-genre-prediction/tree/main\n",
    "\n",
    "[4] Jallouli, A. (2018, December 10). Genre classification based on wiki movies plots. *Kaggle*. https://www.kaggle.com/code/aminejallouli/genre-classification-based-on-wiki-movies-plots/notebook?scriptVersionId=8291374\n",
    "\n",
    "[5] Rahul, A. (2023, April 13). Movie Genre Classification. *Kaggle*. https://www.kaggle.com/code/adityarahul/movie-genre-classification\n",
    "\n",
    "[6] Gupta, K. (2021, December 10). Predicting Movie Genres Based on Plot Summaries. *Medium*. https://medium.com/@kunalgupta4595/predicting-movie-genres-based-on-plot-summaries-bae646e70e04\n",
    "\n",
    "[7] Joshi, P. (2022, July 19). Predicting Movie Genres using NLP – An Awesome Introduction to Multi-Label Classification. *Analytics Vidhya*. https://www.analyticsvidhya.com/blog/2019/04/predicting-movie-genres-nlp-multi-label-classification/\n",
    "\n",
    "[10] Kothari, M. (2023). Feature Extraction Techniques NLP. *GeeksforGeeks*. https://www.geeksforgeeks.org/feature-extraction-techniques-nlp/\n",
    "\n",
    "[11] Leung, K. (2022, September 13). Micro, Macro & Weighted Averages of F1 Score, Clearly Explained. *Medium*. https://towardsdatascience.com/micro-macro-weighted-averages-of-f1-score-clearly-explained-b603420b292f\n",
    "\n",
    "[12] Kollaros, G. (2020, October). *Linear Machine Learning Model Comparison for Multi-class Text Classification*. School of Applied Mathematical and Physical Sciences, National Technical University of Athens, Athens. https://dspace.lib.ntua.gr/xmlui/bitstream/handle/123456789/52629/George_Kollaros_NTUA_Thesis%20.pdf?sequence=3\n",
    "\n",
    "[13] Goyal, S. (2019, December 31). Wiki movie plots EDA. *Kaggle*. https://www.kaggle.com/code/shwetagoyal4/wiki-movie-plots-eda?scriptVersionId=17246825\n",
    "\n"
   ]
  },
  {
   "cell_type": "code",
   "execution_count": null,
   "id": "b0034aea-fc29-4702-a913-f9e57755f798",
   "metadata": {},
   "outputs": [],
   "source": []
  }
 ],
 "metadata": {
  "colab": {
   "provenance": []
  },
  "kernelspec": {
   "display_name": "Python 3 (ipykernel)",
   "language": "python",
   "name": "python3"
  },
  "language_info": {
   "codemirror_mode": {
    "name": "ipython",
    "version": 3
   },
   "file_extension": ".py",
   "mimetype": "text/x-python",
   "name": "python",
   "nbconvert_exporter": "python",
   "pygments_lexer": "ipython3",
   "version": "3.10.6"
  }
 },
 "nbformat": 4,
 "nbformat_minor": 5
}
