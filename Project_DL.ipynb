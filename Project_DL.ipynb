{
 "cells": [
  {
   "cell_type": "markdown",
   "id": "81e0bf47",
   "metadata": {
    "id": "81e0bf47"
   },
   "source": [
    "# **Wikipedia Movie Plots**\n",
    "## Εργασία εξαμήνου για το μάθημα *ΒΑΘΙΑ ΜΑΘΗΣΗ*\n",
    "Εκπονήθηκε από την Όλγα Βασιλείου, Α.Μ.: 01691, 5ο έτος\n",
    "***"
   ]
  },
  {
   "cell_type": "markdown",
   "id": "9facac89",
   "metadata": {},
   "source": [
    "## Πίνακας Περιεχομένων\n",
    "\n",
    "- [Εισαγωγή](#Εισαγωγή)\n",
    "- [Βιβλιογραφική ανασκόπηση](#Βιβλιογραφική-ανασκόπηση)\n",
    "- [Υλοποίηση](#Υλοποίηση)\n",
    "    - [Πείραμα 1: Ανθρώπινες Αποφάσεις](#Πείραμα-1:-Ανθρώπινες-Αποφάσεις)\n",
    "        - [1.1 Φόρτωση Δεδομένων](#1.1-Φόρτωση-Δεδομένων)\n",
    "        - [1.2 Προεπεξεργασία Δεδομένων](#1.2-Προεπεξεργασία-Δεδομένων)\n",
    "        - [1.3 Εξαγωγή Χαρακτηριστικών](#1.3-Εξαγωγή-Χαρακτηριστικών)\n",
    "        - [1.4 Κατασκευή, Εκπαίδευση και Αξιολόγηση του Μοντέλου Πρόβλεψης](#1.4-Κατασκευή,-Εκπαίδευση-και-Αξιολόγηση-του-Μοντέλου-Πρόβλεψης)\n",
    "    - [Πείραμα 2: Αλγοριθμικές Αποφάσεις](#Πείραμα-2:-Αλγοριθμικές-Αποφάσεις)\n",
    "        - [2.1 Φόρτωση Δεδομένων](#2.1-Φόρτωση-Δεδομένων)\n",
    "        - [2.2 Προεπεξεργασία Δεδομένων](#2.2-Προεπεξεργασία-Δεδομένων)\n",
    "        - [2.3 Εξαγωγή Χαρακτηριστικών](#2.3-Εξαγωγή-Χαρακτηριστικών)\n",
    "        - [2.4 Κατασκευή, Εκπαίδευση και Αξιολόγηση του Μοντέλου Πρόβλεψης](#2.4-Κατασκευή,-Εκπαίδευση-και-Αξιολόγηση-του-Μοντέλου-Πρόβλεψης)\n",
    "- [Συμπεράσματα](#Συμπεράσματα)\n",
    "- [Αναφορές](#Αναφορές)"
   ]
  },
  {
   "cell_type": "markdown",
   "id": "03fc9a30-20ca-42d6-94a1-54a61b4252d0",
   "metadata": {},
   "source": [
    "## Εισαγωγή\n",
    "\n",
    "Ένα ενδιαφέρον πρόβλημα στον τομέα της μηχανικής μάθησης είναι η διαχείριση της φυσικής γλώσσας. Μέχρι σήμερα υπάρχουν αρκετές έρευνες πάνω στην επεξεργασία φυσικής γλώσσας (Natural Language Processing - NLP), με εφαρμογές όπως η αναγνώριση θετικών και αρνητικών κριτικών, η αναγνώριση κειμένου παραγώμενο από ΑΙ κ.ά. Ένα ακόμα ενδιαφέρον πρόβλημα είναι η ταξινόμηση ειδών ταινίας με βάση την πλοκή, το οποίο έχει μελετηθεί κυρίως σε επίπεδο παραδοσιακών αλγορίθμων μηχανικής μάθησης.\n",
    "\n",
    "Σκοπός της παρούσας εργασίας είναι να διερευνηθεί η ικανότητα ενός νευρωνικού δικτύου να εκπαιδευτεί στην πρόβλεψη του είδους μιας ταινίας με βάση την περιγραφή της πλοκής της ταινίας. Η υλοποίηση αφορά το σύνολο δεδομένων [Wikipedia Movie Plots](https://www.kaggle.com/datasets/jrobischon/wikipedia-movie-plots), το οποίο περιέχει γνωρίσματα από 34,886 ταινίες παγκοσμίως. Οι στήλες του dataset αποτελούν και τα γνωρίσματα της κάθε ταινίας, τα οποία είναι:\n",
    "- Έτος Κυκλοφορίας (Release Year)\n",
    "- Τίτλος (Title)\n",
    "- Προέλευση/Εθνικότητα (Origin/Ethnicity)\n",
    "- Σκηνοθέτης (Director)\n",
    "- Ηθοποιοί (Cast)\n",
    "- Είδος (Genre)\n",
    "- Σελίδα στη Βικιπαίδεια (Wiki Page)\n",
    "- Πλοκή (Plot)\n",
    "\n",
    "Ένας αρχικός περιορισμός αποτελεί το γεγονός πως υπάρχουν διπλότυπες εγγραφές και ταινίες που ανήκουν σε άγνωστη κατηγορία. Παράλληλα, οι γνωστές κατηγορίες είναι γραμμένες με διαφορετικούς τρόπους ή μία ταινία ανήκει σε πολλές κατηγορίες. Είναι προφανές, λοιπόν, πως πρέπει να ληφθούν αποφάσεις για την διαχείρηση των κατηγοριών που θα χρησιμοποιηθούν στην εκπαίδευση. Βιβλιογραφικά, είτε επιλέγονται λίγες κλάσεις είτε γίνεται μία μικρή ομαδοποίηση manually με βάση το ατομικό κριτήριο. Για παράδειγμα, ταινίες με είδος \"science fiction\", \"science-fiction\", \"sci fi\" και \"sci-fi\" λάμβανουν όλες την ίδια ονομασία. Ταυτόχρονα, λαμβάνονται αποφάσεις για ταινίες που ανήκουν σε πολλαπλές κατηγορίες, όπως για παράδειγμα μία ρομαντική κομεντί θα μπει στην κατηγορία \"romance\". Ωστόσο, μία λάθος απόφαση μπορεί να στοιχίσει στην εκπαίδευση, ενώ είναι και μία διαδικάσια εξαιρετικά χρονοβόρα. Ένας εναλλακτικός και δημιουργικός τρόπος είναι η ομαδοποίηση με τη χρήση αλγορίθμου (k-means). Στην παρούσα εργασία διερευνούνται δύο μέθοδοι:\n",
    "1. Ανθρώπινες αποφάσεις\n",
    "2. Αλγοριθμηκές αποφάσεις"
   ]
  },
  {
   "cell_type": "markdown",
   "id": "cd99b9f8-d373-466a-8b98-b1342a090e7c",
   "metadata": {},
   "source": [
    "## Βιβλιογραφική ανασκόπηση\n",
    "\n",
    "Η μελέτη σχετικών προσεγγίσεων επικεντρώθηκε σε αρχιτεκτονικές Αναδρομικών Νευρωνικών Δικτύων (Recurrent Neural Networks - RNN), καθώς η δυνατότητά τους να καταγράφουν ακολουθιακά δεδομένα κατά την ταξινόμηση κειμένων φυσικής γλώσσας τα καθιστά πιο κατάλληλα από τα Συνελικτικά Νευρωνικά Δίκτυα (Convolutional Neural Networks - CNN) για την επεξεργασία των πλοκών του dataset. Παρακάτω παρουσιάζονται οι 5 πιο σχετικές εργασίες που μελετήθηκαν:\n",
    "\n",
    "| Source | Dataset | Classification Type | Word Embedding | Architecture |\n",
    "| :- | :- | :- | :- | :- |\n",
    "| [Movie Genre Classification from Plot Summaries using Bidirectional LSTM](https://ieeexplore.ieee.org/document/8334466) | MovieLens, OMDb API | Single-label | - | Bidirectional LSTM |\n",
    "| [Using Machine Learning to Identify Movie Genres through Online Movie Synopses](https://doi.org/10.1109/itca52113.2020.00008) | TMDB 5000 Movie Dataset, ROTTEN TOMATOES website | Single-label | Doc2Vec | k-NN, SVM, CNN, RNN, RNN-LSTM |\n",
    "| [Master Movie Genre Prediction with NLP](https://datadrivenscience.com/master-movie-genre-prediction-with-nlp-a-comprehensive-guide-to-imdb-dataset-analysis-and-lstm-modeling/) | IMDb Non-Commercial Datasets | Multi-label | GLoVe | LSTM |\n",
    "| * [Multilabel-category-prediction](https://www.kaggle.com/code/rodsaldanha/multilabel-category-prediction/notebook) (Kaggle) | Netflix Movies and TV Shows | Multi-label | Keras in-built, GloVe | CNN, LSTM |\n",
    "| [Movie_Genre_Prediction](https://github.com/fdonel99/Movie-Genre-Prediction/blob/main/Movie_Genre_Prediction_.ipynb) (GitHub) | Wikipedia Movie Plots | Single-label | Bigrams, Trigrams, GloVe | Bidirectional LSTM |\n",
    "| [movie-genre-prediction](https://github.com/avijit2verma/movie-genre-prediction/tree/master) (GitHub) | Custom dataset based on IMDb | Multi-label | GloVe | LSTM |\n",
    "\n",
    "Η πλειονότητα των εργασιών αξιοποιούν τη μέθοδο διανυσματικών παραστάσεων λέξεων **GloVe**,  ένα προεκπαιδευμένο εργαλείο που αφορά σύνολα δεδομένων μεγάλου όγκου και μοντέλα που απαιτούν προσοχή στις ακολουθίες (σειρές) λέξεων και τις σχέσεις μεταξύ αυτών. Εξίσου έντονη είναι η χρήση του **Long Short-Term Memory (LSTM)** δικτύου. Τα LSTM δίκτυα είναι ένα είδος RNN ειδικά σχεδιασμένο να χειρίζεται σειριακά δεδομένα, όπως χρονοσειρές, ομιλία και κείμενο, λόγω της ικανότητάς του να μαθαίνει μακροπρόθεσμες εξαρτήσεις μεταξύ των δεδομένων. Πέρα από το παραδοσιακό LSTM, χρησιμοποιείται και το αμφίδρομο δίκτυο (Bidirectional LSTM ή BiLSTM), το οποίο λαμβάνει υπόψιν τόσο τα δεδομένα που προηγούνται της λέξης που εξετάζεται, όσο και τα δεδομένα που την διαδέχονται, αυξάνοντας την ακρίβεια της εκπαίδευσης του μοντέλου. Ωστόσο, το BiLSTM δίκτυο απαιτεί περισσότερους υπολογιστικούς πόρους, οπότε δεν προτιμάται στην προκειμένη περίπτωση.\n",
    "\n",
    "Δεδομένου ότι οι περισσότερες ταινίες, ανεξαρτήτου συνόλου δεδομένων, ανήκουν σε παραπάνω από ένα είδος (κατηγορία), οι περισσότερες προσεγγίσεις αντιμετωπίζουν το πρόβλημα ως ταξινόμηση πολλαπλών ετικετών (multi-label classification), ενώ άλλες επιλέγουν να κρατήσουν είτε τα πιο συχνά είδη είτε την απλοποίηση και ομαδοποίηση των κατηγοριών ταινιών, ώστε η κάθε ταινία να ανήκει σε ένα μόνο είδος. Για μείωση της πολυπλοκότητας του μοντέλου, η παρούσα εργασία εφαρμόζει single-label classification.\n",
    "\n",
    "\\* Εδώ εξετάστηκαν επίσης μέθοδοι μηχανικής μάθησης με ταξινομητές όπως Logistic Regression, Multinomial Naive Bayes, Gaussian Naive Bayes, Linear SVC, κ.ά."
   ]
  },
  {
   "cell_type": "markdown",
   "id": "1dcb2592",
   "metadata": {},
   "source": [
    "## Υλοποίηση\n",
    "\n",
    "Ακολουθούν οι δύο μέθοδοι που εξετάστηκαν στα πλαίσια της εργασίας. Ο κώδικας ακολουθεί την ίδια ροή και στα δύο πειράματα, με τη μόνη διαφορά ότι στο πρώτο πείραμα η απλοποίηση και ομαδοποίηση των κατηγοριών ταινιών γίνεται χειροκίνητα και με βάση σχετική έρευνα στο διαδίκτυο, ενώ στο δεύτερο πείραμα η ομαδοποίηση επιτυχάνεται μέσω του αλγορίθμου K-Means."
   ]
  },
  {
   "cell_type": "markdown",
   "id": "32ded9f4",
   "metadata": {
    "id": "32ded9f4"
   },
   "source": [
    "### Πείραμα 1: Ανθρώπινες Αποφάσεις\n",
    "\n",
    "#### 1.1 Φόρτωση Δεδομένων\n",
    "Αρχικά, εισάγονται τις απαραίτητες βιβλιοθήκες για την μεταγλώτισση και εκτέλεση του κώδικα."
   ]
  },
  {
   "cell_type": "code",
   "execution_count": 47,
   "id": "c6d7be8e",
   "metadata": {
    "colab": {
     "base_uri": "https://localhost:8080/",
     "height": 397
    },
    "executionInfo": {
     "elapsed": 3158,
     "status": "error",
     "timestamp": 1663139724968,
     "user": {
      "displayName": "Olga V",
      "userId": "02608012643997117320"
     },
     "user_tz": -180
    },
    "id": "c6d7be8e",
    "outputId": "c8a994c1-f366-4743-ec99-a2586f14b9a1",
    "scrolled": true
   },
   "outputs": [],
   "source": [
    "# Import necessary libraries and packages\n",
    "import pandas as pd\n",
    "import numpy as np\n",
    "import seaborn as sns\n",
    "import matplotlib.pyplot as plt\n",
    "import string\n",
    "\n",
    "import nltk, re\n",
    "from nltk.corpus import stopwords\n",
    "from nltk.stem import WordNetLemmatizer\n",
    "from nltk.tokenize import word_tokenize\n",
    "\n",
    "import tensorflow as tf\n",
    "from tensorflow.keras.preprocessing.text import Tokenizer\n",
    "from tensorflow.keras.preprocessing.sequence import pad_sequences\n",
    "from tensorflow.keras.models import Sequential\n",
    "from tensorflow.keras.layers import Input, Embedding, LSTM, MaxPooling1D, Dropout, Dense\n",
    "from keras.callbacks import EarlyStopping, ReduceLROnPlateau\n",
    "\n",
    "from sklearn.utils import class_weight\n",
    "from sklearn.model_selection import train_test_split\n",
    "from sklearn.preprocessing import LabelEncoder\n",
    "from sklearn.metrics import classification_report, accuracy_score, precision_score, recall_score, f1_score, confusion_matrix"
   ]
  },
  {
   "cell_type": "markdown",
   "id": "61685b3e",
   "metadata": {},
   "source": [
    "Κατόπιν, φορτώνεται το αρχείο της εκφώνησης, δηλαδή το dataset με τις πλοκές ταινιών από την Βικιπαίδεια, το οποίο είναι κατεβασμένο τοπικά, και εμφανίζονται οι πρώτες δέκα εγγραφές του αρχείου για την εξοικείωση με τη μορφή του dataset."
   ]
  },
  {
   "cell_type": "code",
   "execution_count": 2,
   "id": "f8832f48",
   "metadata": {},
   "outputs": [
    {
     "name": "stdout",
     "output_type": "stream",
     "text": [
      "Dataset movies: 34886 \n",
      "\n"
     ]
    },
    {
     "data": {
      "text/html": [
       "<div>\n",
       "<style scoped>\n",
       "    .dataframe tbody tr th:only-of-type {\n",
       "        vertical-align: middle;\n",
       "    }\n",
       "\n",
       "    .dataframe tbody tr th {\n",
       "        vertical-align: top;\n",
       "    }\n",
       "\n",
       "    .dataframe thead th {\n",
       "        text-align: right;\n",
       "    }\n",
       "</style>\n",
       "<table border=\"1\" class=\"dataframe\">\n",
       "  <thead>\n",
       "    <tr style=\"text-align: right;\">\n",
       "      <th></th>\n",
       "      <th>Release Year</th>\n",
       "      <th>Title</th>\n",
       "      <th>Origin/Ethnicity</th>\n",
       "      <th>Director</th>\n",
       "      <th>Cast</th>\n",
       "      <th>Genre</th>\n",
       "      <th>Wiki Page</th>\n",
       "      <th>Plot</th>\n",
       "    </tr>\n",
       "  </thead>\n",
       "  <tbody>\n",
       "    <tr>\n",
       "      <th>0</th>\n",
       "      <td>1901</td>\n",
       "      <td>Kansas Saloon Smashers</td>\n",
       "      <td>American</td>\n",
       "      <td>Unknown</td>\n",
       "      <td>NaN</td>\n",
       "      <td>unknown</td>\n",
       "      <td>https://en.wikipedia.org/wiki/Kansas_Saloon_Sm...</td>\n",
       "      <td>A bartender is working at a saloon, serving dr...</td>\n",
       "    </tr>\n",
       "    <tr>\n",
       "      <th>1</th>\n",
       "      <td>1901</td>\n",
       "      <td>Love by the Light of the Moon</td>\n",
       "      <td>American</td>\n",
       "      <td>Unknown</td>\n",
       "      <td>NaN</td>\n",
       "      <td>unknown</td>\n",
       "      <td>https://en.wikipedia.org/wiki/Love_by_the_Ligh...</td>\n",
       "      <td>The moon, painted with a smiling face hangs ov...</td>\n",
       "    </tr>\n",
       "    <tr>\n",
       "      <th>2</th>\n",
       "      <td>1901</td>\n",
       "      <td>The Martyred Presidents</td>\n",
       "      <td>American</td>\n",
       "      <td>Unknown</td>\n",
       "      <td>NaN</td>\n",
       "      <td>unknown</td>\n",
       "      <td>https://en.wikipedia.org/wiki/The_Martyred_Pre...</td>\n",
       "      <td>The film, just over a minute long, is composed...</td>\n",
       "    </tr>\n",
       "    <tr>\n",
       "      <th>3</th>\n",
       "      <td>1901</td>\n",
       "      <td>Terrible Teddy, the Grizzly King</td>\n",
       "      <td>American</td>\n",
       "      <td>Unknown</td>\n",
       "      <td>NaN</td>\n",
       "      <td>unknown</td>\n",
       "      <td>https://en.wikipedia.org/wiki/Terrible_Teddy,_...</td>\n",
       "      <td>Lasting just 61 seconds and consisting of two ...</td>\n",
       "    </tr>\n",
       "    <tr>\n",
       "      <th>4</th>\n",
       "      <td>1902</td>\n",
       "      <td>Jack and the Beanstalk</td>\n",
       "      <td>American</td>\n",
       "      <td>George S. Fleming, Edwin S. Porter</td>\n",
       "      <td>NaN</td>\n",
       "      <td>unknown</td>\n",
       "      <td>https://en.wikipedia.org/wiki/Jack_and_the_Bea...</td>\n",
       "      <td>The earliest known adaptation of the classic f...</td>\n",
       "    </tr>\n",
       "  </tbody>\n",
       "</table>\n",
       "</div>"
      ],
      "text/plain": [
       "   Release Year                             Title Origin/Ethnicity  \\\n",
       "0          1901            Kansas Saloon Smashers         American   \n",
       "1          1901     Love by the Light of the Moon         American   \n",
       "2          1901           The Martyred Presidents         American   \n",
       "3          1901  Terrible Teddy, the Grizzly King         American   \n",
       "4          1902            Jack and the Beanstalk         American   \n",
       "\n",
       "                             Director Cast    Genre  \\\n",
       "0                             Unknown  NaN  unknown   \n",
       "1                             Unknown  NaN  unknown   \n",
       "2                             Unknown  NaN  unknown   \n",
       "3                             Unknown  NaN  unknown   \n",
       "4  George S. Fleming, Edwin S. Porter  NaN  unknown   \n",
       "\n",
       "                                           Wiki Page  \\\n",
       "0  https://en.wikipedia.org/wiki/Kansas_Saloon_Sm...   \n",
       "1  https://en.wikipedia.org/wiki/Love_by_the_Ligh...   \n",
       "2  https://en.wikipedia.org/wiki/The_Martyred_Pre...   \n",
       "3  https://en.wikipedia.org/wiki/Terrible_Teddy,_...   \n",
       "4  https://en.wikipedia.org/wiki/Jack_and_the_Bea...   \n",
       "\n",
       "                                                Plot  \n",
       "0  A bartender is working at a saloon, serving dr...  \n",
       "1  The moon, painted with a smiling face hangs ov...  \n",
       "2  The film, just over a minute long, is composed...  \n",
       "3  Lasting just 61 seconds and consisting of two ...  \n",
       "4  The earliest known adaptation of the classic f...  "
      ]
     },
     "execution_count": 2,
     "metadata": {},
     "output_type": "execute_result"
    }
   ],
   "source": [
    "# Read dataset\n",
    "movies_df = pd.read_csv('wiki_movie_plots_deduped.csv')\n",
    "\n",
    "# Show dataset shape\n",
    "print(\"Dataset movies:\",movies_df.shape[0],\"\\n\")\n",
    "\n",
    "# Show first 5 rows of data\n",
    "movies_df.head(5)"
   ]
  },
  {
   "cell_type": "markdown",
   "id": "2fc780be",
   "metadata": {},
   "source": [
    "#### 1.2 Προεπεξεργασία Δεδομένων\n",
    "\n",
    "Όπως φανερώνει ο στόχος της εργασίας, τα δεδομένα που χρειάζονται για την ανάπτυξη ενός μοντέλου πρόβλεψης του είδους μιας ταινίας με βάση την περιγραφή της πλοκής της ταινίας, είναι αυτά στις στήλες \"Genre\" και \"Plot\". Επομένως, απομακρύνονται οι υπόλοιπες στήλες του dataset, εκτός από τη στήλη \"Title\", η οποία θα αξιοποιηθεί παρακάτω."
   ]
  },
  {
   "cell_type": "code",
   "execution_count": 3,
   "id": "93fe3654-e7ea-41d2-81cc-5f4c3f6c8f59",
   "metadata": {},
   "outputs": [],
   "source": [
    "# Remove unnecessary columns\n",
    "movies_df.drop(columns = ['Release Year', 'Origin/Ethnicity', 'Director', 'Cast', 'Wiki Page'], axis = 1, inplace = True)"
   ]
  },
  {
   "cell_type": "markdown",
   "id": "73c56b11",
   "metadata": {},
   "source": [
    "##### Στήλη 'Genre'\n",
    "Πρώτο βήμα είναι η μετατροπή των άγνωστων τιμών του πεδίου \"Genre\" (είδος) σε NULL τιμές και η αφαίρεσή τους από το αρχείο. Κατόπιν ελέγχεται το σύνολο των ταινιών. Συγκεκριμένα, μία ταινία της οποίας ο τίτλος και η πλοκή επαναλαμβάνονται, αποτελεί διπλότυπη εγγραφή και διαγράφεται."
   ]
  },
  {
   "cell_type": "code",
   "execution_count": 4,
   "id": "a04f0d68",
   "metadata": {
    "id": "05e018a4-3b28-4444-b3aa-a7135b54066f"
   },
   "outputs": [
    {
     "name": "stdout",
     "output_type": "stream",
     "text": [
      "Unique movies: 28560\n"
     ]
    }
   ],
   "source": [
    "# Replace \"unknown\" genre entries with NaN\n",
    "movies_df['Genre'] = movies_df['Genre'].replace('unknown',np.nan)\n",
    "\n",
    "# Remove NaN values\n",
    "movies_df = movies_df.dropna(axis = 0, subset = ['Genre'])\n",
    "\n",
    "# Remove duplicates based on the 'Title' and 'Plot' columns\n",
    "movies_df.drop_duplicates(subset = ['Title','Plot'], keep = 'first', inplace = True)\n",
    "\n",
    "# Show updated number of movies\n",
    "print(\"Unique movies:\", movies_df.shape[0])"
   ]
  },
  {
   "cell_type": "markdown",
   "id": "c64ad07d-bbd2-4d31-b963-799d1ec55a5a",
   "metadata": {},
   "source": [
    "Στη συνέχεια, ελέγχονται οι μοναδικές τιμές της στήλης \"Genre\" για να μάθουμε πόσες κατηγορίες ταινιών περιέχει το σύνολο δεδομένων της εργασίας."
   ]
  },
  {
   "cell_type": "code",
   "execution_count": 5,
   "id": "8e478de8-37eb-41b5-abd4-552cafdbdf9e",
   "metadata": {},
   "outputs": [
    {
     "name": "stdout",
     "output_type": "stream",
     "text": [
      "Dataset genres: 2241\n"
     ]
    }
   ],
   "source": [
    "# Find unique values in 'Genre'\n",
    "unique_genres = movies_df['Genre'].unique()\n",
    "\n",
    "# Display number of unique genres\n",
    "print(\"Dataset genres:\", len(unique_genres))"
   ]
  },
  {
   "cell_type": "markdown",
   "id": "15147542-502d-4fbb-a0ee-c85a2a158634",
   "metadata": {},
   "source": [
    "Σε αυτό το σημείο ολοκληρώνεται η κοινή προεπεξεργασία των δεδομένων για τα δύο πειράματα και συνεχίζει ο manual διαχωρισμός των ειδών ταινίας. Επομένως, γίνεται αντιγραφή του αρχείου, δημιουργώντας το dataset του πειράματος 1."
   ]
  },
  {
   "cell_type": "code",
   "execution_count": 6,
   "id": "3b552d43-b9ca-4082-855c-4a7570954084",
   "metadata": {},
   "outputs": [],
   "source": [
    "# Create copy of dataset for first model\n",
    "data1 = movies_df.copy()"
   ]
  },
  {
   "cell_type": "markdown",
   "id": "46ad4d00",
   "metadata": {},
   "source": [
    "Συνεχίζοντας, από την εκτύπωση του συνόλου τιμών της ανανεωμένης στήλης \"Genre\" φαίνεται πως οι μοναδικές τιμές είναι 2241, παρόλο που οι τιμές αυτές δεν αντιστοιχούν σε 2241 πραγματικά μοναδικά είδη ταινιών. Μελετώντας το dataset, ανακαλύπτουμε πως υπάρχουν πολλά είδη που αποτελούν συνδυασμό άλλων ή παράγωγα πιο γνωστών ειδών, οπότε το επόμενο βήμα είναι ο διαχωρισμός των ειδών κάθε ταινίας, η αντικατάσταση μερικών από αυτά τα είδη, η απομάκρυνση των κενών ετικετών που προκύπτουν από τον διαχωρισμό και η εμφάνιση των 20 δημοφιλέστερων ειδών που προκύπτουν από τις αλλαγές που εφαρμόστηκαν."
   ]
  },
  {
   "cell_type": "code",
   "execution_count": 7,
   "id": "42a8539d",
   "metadata": {},
   "outputs": [
    {
     "name": "stdout",
     "output_type": "stream",
     "text": [
      "Unique genres: 650 \n",
      "\n"
     ]
    },
    {
     "data": {
      "text/html": [
       "<div>\n",
       "<style scoped>\n",
       "    .dataframe tbody tr th:only-of-type {\n",
       "        vertical-align: middle;\n",
       "    }\n",
       "\n",
       "    .dataframe tbody tr th {\n",
       "        vertical-align: top;\n",
       "    }\n",
       "\n",
       "    .dataframe thead th {\n",
       "        text-align: right;\n",
       "    }\n",
       "</style>\n",
       "<table border=\"1\" class=\"dataframe\">\n",
       "  <thead>\n",
       "    <tr style=\"text-align: right;\">\n",
       "      <th></th>\n",
       "      <th>Genre</th>\n",
       "      <th>Count</th>\n",
       "    </tr>\n",
       "  </thead>\n",
       "  <tbody>\n",
       "    <tr>\n",
       "      <th>176</th>\n",
       "      <td>drama</td>\n",
       "      <td>9448</td>\n",
       "    </tr>\n",
       "    <tr>\n",
       "      <th>139</th>\n",
       "      <td>comedy</td>\n",
       "      <td>7303</td>\n",
       "    </tr>\n",
       "    <tr>\n",
       "      <th>489</th>\n",
       "      <td>romance</td>\n",
       "      <td>2629</td>\n",
       "    </tr>\n",
       "    <tr>\n",
       "      <th>19</th>\n",
       "      <td>action</td>\n",
       "      <td>2429</td>\n",
       "    </tr>\n",
       "    <tr>\n",
       "      <th>595</th>\n",
       "      <td>thriller</td>\n",
       "      <td>1803</td>\n",
       "    </tr>\n",
       "    <tr>\n",
       "      <th>147</th>\n",
       "      <td>crime</td>\n",
       "      <td>1580</td>\n",
       "    </tr>\n",
       "    <tr>\n",
       "      <th>245</th>\n",
       "      <td>horror</td>\n",
       "      <td>1568</td>\n",
       "    </tr>\n",
       "    <tr>\n",
       "      <th>634</th>\n",
       "      <td>western</td>\n",
       "      <td>969</td>\n",
       "    </tr>\n",
       "    <tr>\n",
       "      <th>505</th>\n",
       "      <td>science fiction</td>\n",
       "      <td>957</td>\n",
       "    </tr>\n",
       "    <tr>\n",
       "      <th>368</th>\n",
       "      <td>musical</td>\n",
       "      <td>942</td>\n",
       "    </tr>\n",
       "    <tr>\n",
       "      <th>44</th>\n",
       "      <td>animation</td>\n",
       "      <td>897</td>\n",
       "    </tr>\n",
       "    <tr>\n",
       "      <th>25</th>\n",
       "      <td>adventure</td>\n",
       "      <td>851</td>\n",
       "    </tr>\n",
       "    <tr>\n",
       "      <th>197</th>\n",
       "      <td>family</td>\n",
       "      <td>628</td>\n",
       "    </tr>\n",
       "    <tr>\n",
       "      <th>631</th>\n",
       "      <td>war</td>\n",
       "      <td>609</td>\n",
       "    </tr>\n",
       "    <tr>\n",
       "      <th>205</th>\n",
       "      <td>fiction</td>\n",
       "      <td>558</td>\n",
       "    </tr>\n",
       "    <tr>\n",
       "      <th>200</th>\n",
       "      <td>fantasy</td>\n",
       "      <td>553</td>\n",
       "    </tr>\n",
       "    <tr>\n",
       "      <th>207</th>\n",
       "      <td>film</td>\n",
       "      <td>539</td>\n",
       "    </tr>\n",
       "    <tr>\n",
       "      <th>372</th>\n",
       "      <td>mystery</td>\n",
       "      <td>480</td>\n",
       "    </tr>\n",
       "    <tr>\n",
       "      <th>87</th>\n",
       "      <td>biography</td>\n",
       "      <td>456</td>\n",
       "    </tr>\n",
       "    <tr>\n",
       "      <th>204</th>\n",
       "      <td>fi</td>\n",
       "      <td>388</td>\n",
       "    </tr>\n",
       "  </tbody>\n",
       "</table>\n",
       "</div>"
      ],
      "text/plain": [
       "               Genre  Count\n",
       "176            drama   9448\n",
       "139           comedy   7303\n",
       "489          romance   2629\n",
       "19            action   2429\n",
       "595         thriller   1803\n",
       "147            crime   1580\n",
       "245           horror   1568\n",
       "634          western    969\n",
       "505  science fiction    957\n",
       "368          musical    942\n",
       "44         animation    897\n",
       "25         adventure    851\n",
       "197           family    628\n",
       "631              war    609\n",
       "205          fiction    558\n",
       "200          fantasy    553\n",
       "207             film    539\n",
       "372          mystery    480\n",
       "87         biography    456\n",
       "204               fi    388"
      ]
     },
     "execution_count": 7,
     "metadata": {},
     "output_type": "execute_result"
    }
   ],
   "source": [
    "# Split genre labels using regular expressions\n",
    "data1['Genre'] = data1['Genre'].apply(lambda x: re.split(r'\\s|,|-|/|\\'|\\(|\\)|\\[|\\]', x))\n",
    "\n",
    "# Flatten the genre labels\n",
    "data1 = data1.explode('Genre')\n",
    "\n",
    "# Remove leading/trailing whitespace\n",
    "data1['Genre'] = data1['Genre'].str.strip()\n",
    "\n",
    "# Replace genres containing or starting with a particular letter sequence\n",
    "data1['Genre'] = data1['Genre'].str.replace('.*dram.*', 'drama', case=False, regex=True)\n",
    "data1['Genre'] = data1['Genre'].str.replace('^rom.*', 'romance', case=False, regex=True)\n",
    "data1['Genre'] = data1['Genre'].str.replace('^com.*', 'comedy', case=False, regex=True)\n",
    "data1['Genre'] = data1['Genre'].str.replace('^satir.*', 'comedy', case=False, regex=True)\n",
    "data1['Genre'] = data1['Genre'].str.replace('^sci.*', 'science fiction', case=False, regex=True)\n",
    "data1['Genre'] = data1['Genre'].str.replace('^psycho.*', 'thriller', case=False, regex=True)\n",
    "data1['Genre'] = data1['Genre'].str.replace('^doc.*', 'documentary', case=False, regex=True)\n",
    "data1['Genre'] = data1['Genre'].str.replace('^anim.*', 'animation', case=False, regex=True)\n",
    "data1['Genre'] = data1['Genre'].str.replace('^bio.*', 'biography', case=False, regex=True)\n",
    "data1['Genre'] = data1['Genre'].str.replace('^histo.*', 'history', case=False, regex=True)\n",
    "data1['Genre'] = data1['Genre'].str.replace('.*ser.*', 'series', case=False, regex=True)\n",
    "data1['Genre'] = data1['Genre'].str.replace('^sex.*', 'adult', case=False, regex=True)\n",
    "data1['Genre'] = data1['Genre'].str.replace('^ero.*', 'adult', case=False, regex=True)\n",
    "data1['Genre'] = data1['Genre'].str.replace('^ww.*', 'war', case=False, regex=True)\n",
    "\n",
    "# Filter out empty or whitespace genre labels and sort genres\n",
    "data1['Count'] = 1\n",
    "genres = data1[data1['Genre'].str.strip()!='']\n",
    "genres = genres[['Genre', 'Count']].groupby(['Genre'], as_index=False).sum().sort_values(['Count'], ascending=False)\n",
    "\n",
    "#Print updated number of unique genres\n",
    "print(\"Unique genres:\",len(genres),\"\\n\")\n",
    "\n",
    "# Show top 20 genres\n",
    "genres.head(20)"
   ]
  },
  {
   "cell_type": "markdown",
   "id": "1ad77ee1",
   "metadata": {},
   "source": [
    "Από τον παραπάνω κώδικα, φαίνεται πως τα μοναδικά είδη ταινιών δεν είναι 2264 αλλά 650. Αυτός ο αριθμός όμως περιέχει πολλές εκδοχές ίδιων ή παρόμοιων ειδών, οπότε συνεχίζεται η προεπεξεργασία της στήλης \"Genre\", ώστε να περιοριστούν όσο το δυνατόν περισσότερο οι επαναλήψεις ειδών. Επίσης, επειδή ο διαχωρισμός των ειδών οδηγεί σε κατηγορίες που δεν αποτελούν είδη ταινίας (π.χ. `'martial arts'` χωρίζεται σε `'martial'` και `'arts'` με το δεύτερο να απλοποιείται σε 'action' και το δεύτερο να απομακρύνεται από τη λίστα ειδών), διαγράφονται τα κατάλοιπα των ειδών αυτών."
   ]
  },
  {
   "cell_type": "code",
   "execution_count": 8,
   "id": "5a25973b",
   "metadata": {
    "scrolled": true
   },
   "outputs": [],
   "source": [
    "# Simplify movie genres\n",
    "data1['Genre'].replace({\"love\":\"romance\",\n",
    "                        \"tokusatsu\":\"fantasy\",\n",
    "                        \"folklore\":\"fantasy\",\n",
    "                        \"kaiju\":\"fantasy\",\n",
    "                        \"fairy\":\"fantasy\",\n",
    "                        \"literary\":\"drama\",\n",
    "                        \"epic\":\"history\",\n",
    "                        \"period\":\"history\",\n",
    "                        \"costume\":\"history\",\n",
    "                        \"parody\":\"comedy\",\n",
    "                        \"music\":\"musical\",\n",
    "                        \"kids\":\"family\",\n",
    "                        \"teen\":\"family\",\n",
    "                        \"children\":\"family\",\n",
    "                        \"cartoon\":\"animation\",\n",
    "                        \"superheroes\":\"action\",\n",
    "                        \"superhero\":\"action\",\n",
    "                        \"western\":\"action\",\n",
    "                        \"martial\":\"action\",\n",
    "                        \"kung\":\"action\",\n",
    "                        \"noir\":\"crime\",\n",
    "                        \"mystery\":\"crime\",\n",
    "                        \"espionage\":\"spy\",\n",
    "                        \"zombie\":\"horror\",\n",
    "                        \"slasher\":\"horror\",\n",
    "                        \"footage\":\"horror\",\n",
    "                        \"suspense\":\"thriller\",\n",
    "                        \"supernatural\":\"thriller\",\n",
    "                        \"television\":\"series\",\n",
    "                        \"slapstick\":\"comedy\",\n",
    "                        \"screwball\":\"comedy\",\n",
    "                        \"mockumentary\":\"documentary\"}, inplace=True)\n",
    "\n",
    "# Remove remaining words of simplified genres\n",
    "non_genres = ['fi','fu','film','arts','short','world','']\n",
    "data1 = data1[~data1['Genre'].isin(non_genres)]"
   ]
  },
  {
   "cell_type": "markdown",
   "id": "b7d22912-edfb-4fb5-bfcb-dcb772cc5a0e",
   "metadata": {},
   "source": [
    "Για να ανήκει κάθε ταινία σε μία μόνο κατηγορία, διαγράφονται όσες διπλότυπες εγγραφές προέκυψαν κατά την προεπεξεργασία της στήλης \"Genre\". Παράλληλα, απομακρύνονται όσες κατηγορίες εμφανίζονται λιγότερο από 1000 φορές στο dataset, ώστε να είναι όσο το δυνατόν πιο ισορροπημένο το  σύνολο δεδομένω."
   ]
  },
  {
   "cell_type": "code",
   "execution_count": 9,
   "id": "65971f2a-7e23-43ad-9672-08296d2f817c",
   "metadata": {},
   "outputs": [
    {
     "name": "stdout",
     "output_type": "stream",
     "text": [
      "Final genres: 7 \n",
      "\n"
     ]
    },
    {
     "data": {
      "text/html": [
       "<div>\n",
       "<style scoped>\n",
       "    .dataframe tbody tr th:only-of-type {\n",
       "        vertical-align: middle;\n",
       "    }\n",
       "\n",
       "    .dataframe tbody tr th {\n",
       "        vertical-align: top;\n",
       "    }\n",
       "\n",
       "    .dataframe thead th {\n",
       "        text-align: right;\n",
       "    }\n",
       "</style>\n",
       "<table border=\"1\" class=\"dataframe\">\n",
       "  <thead>\n",
       "    <tr style=\"text-align: right;\">\n",
       "      <th></th>\n",
       "      <th>Genre</th>\n",
       "      <th>Count</th>\n",
       "    </tr>\n",
       "  </thead>\n",
       "  <tbody>\n",
       "    <tr>\n",
       "      <th>3</th>\n",
       "      <td>drama</td>\n",
       "      <td>6914</td>\n",
       "    </tr>\n",
       "    <tr>\n",
       "      <th>1</th>\n",
       "      <td>comedy</td>\n",
       "      <td>5656</td>\n",
       "    </tr>\n",
       "    <tr>\n",
       "      <th>0</th>\n",
       "      <td>action</td>\n",
       "      <td>3077</td>\n",
       "    </tr>\n",
       "    <tr>\n",
       "      <th>5</th>\n",
       "      <td>romance</td>\n",
       "      <td>1951</td>\n",
       "    </tr>\n",
       "    <tr>\n",
       "      <th>2</th>\n",
       "      <td>crime</td>\n",
       "      <td>1948</td>\n",
       "    </tr>\n",
       "    <tr>\n",
       "      <th>4</th>\n",
       "      <td>horror</td>\n",
       "      <td>1379</td>\n",
       "    </tr>\n",
       "    <tr>\n",
       "      <th>6</th>\n",
       "      <td>thriller</td>\n",
       "      <td>1227</td>\n",
       "    </tr>\n",
       "  </tbody>\n",
       "</table>\n",
       "</div>"
      ],
      "text/plain": [
       "      Genre  Count\n",
       "3     drama   6914\n",
       "1    comedy   5656\n",
       "0    action   3077\n",
       "5   romance   1951\n",
       "2     crime   1948\n",
       "4    horror   1379\n",
       "6  thriller   1227"
      ]
     },
     "execution_count": 9,
     "metadata": {},
     "output_type": "execute_result"
    }
   ],
   "source": [
    "# Remove duplicate occurrences of the same movie\n",
    "data1.drop_duplicates(subset=['Plot'], keep='first', inplace=True)\n",
    "\n",
    "# Count the occurrences of each genre\n",
    "genre_counts = data1['Genre'].value_counts()\n",
    "\n",
    "# Remove genres that appear in less than 1000 movies\n",
    "mask = genre_counts[data1['Genre']].values < 1000\n",
    "data1 = data1[~mask]\n",
    "\n",
    "# Filter out empty or whitespace genre labels\n",
    "genres = data1[data1['Genre'].str.strip() != '']\n",
    "genres = genres[['Genre', 'Count']].groupby(['Genre'], as_index = False).sum().sort_values(['Count'], ascending = False)\n",
    "\n",
    "# Print the number of remaining genres\n",
    "print(\"Final genres:\",len(genres),\"\\n\")\n",
    "\n",
    "# Show all movie genres with more than 100 occurrences in descending order\n",
    "genres"
   ]
  },
  {
   "cell_type": "markdown",
   "id": "ef26fdbf",
   "metadata": {},
   "source": [
    "Ακολουθεί η οπτικοποίηση της ενημερωμένης στήλης ειδών ταινιών."
   ]
  },
  {
   "cell_type": "code",
   "execution_count": 10,
   "id": "85027160",
   "metadata": {},
   "outputs": [
    {
     "data": {
      "image/png": "[encoded data removed]",
      "text/plain": [
       "<Figure size 800x500 with 1 Axes>"
      ]
     },
     "metadata": {},
     "output_type": "display_data"
    }
   ],
   "source": [
    "# Count the occurrences of each genre\n",
    "genres_count = data1['Genre'].value_counts()\n",
    "\n",
    "# Plot genres\n",
    "plt.figure(figsize=(8,5))\n",
    "genres_count.plot(kind='bar')\n",
    "plt.xlabel('Genres')\n",
    "plt.title('Movies per genre')\n",
    "plt.xticks(rotation=45)\n",
    "plt.show()"
   ]
  },
  {
   "cell_type": "markdown",
   "id": "eae549cf-5049-46ea-a483-114ab23df732",
   "metadata": {},
   "source": [
    "Παρά την απομάκρυνση κατηγοριών με λίγες εμφανίσεις, οι κατηγορίες 'drama' και 'comedy' ακόμα περιέχουν από 2 έως και 6 φορές περισσότερα δεδομένα από τις υπόλοιπες κατηγορίες, γεγονός που καθιστά το dataset μη ισορροπημένο. Αυτό μπορεί να επηρεάσει την εκπαίδευση του μοντέλου και τον υπολογισμό των μέτρων απόδοσής του. Επομένως, επιλέγεται η μέθοδος weighting, η οποία αναθέτει υψηλότερα βάρη στις λιγότερο συχνές κατηγορίες, με στόχο την αποφυγή υπερ-προσαρμογής (overfitting) του μοντέλου και τη βελτίωση της απόδοσής του."
   ]
  },
  {
   "cell_type": "code",
   "execution_count": 11,
   "id": "b4533fb5-2669-4acc-99e6-ad38b9526a82",
   "metadata": {},
   "outputs": [],
   "source": [
    "# Compute class weights to handle imbalanced dataset\n",
    "class_weights = class_weight.compute_class_weight(class_weight='balanced', classes=data1['Genre'].unique(), y=data1['Genre'])\n",
    "\n",
    "# Convert the class weights to a dictionary\n",
    "class_weight_dict = dict(enumerate(class_weights))"
   ]
  },
  {
   "cell_type": "markdown",
   "id": "3ed0a2fa",
   "metadata": {},
   "source": [
    "##### Στήλη 'Plot'\n",
    "\n",
    "Για την καλύτερη κατανόηση των πλοκών από το μοντέλο ταξινόμησης, τα κείμενα της στήλης \"Plot\" περνούν από μία διαδικασία \"καθαρισμού\". Συγκεκριμένα, στο στάδιο αυτό αφαιρούνται από τις πλοκές των ταινιών τα σημεία στίξης, οι ειδικοί χαρακτήρες και τα αλφαριθμητικά που θεωρούνται θόρυβος στα κείμενα, και μετατρέπονται όλα τα κεφαλαία σε πεζά γράμματα. Ταυτόχρονα, οι λέξεις της κάθε πλοκής απομονώνονται ως σύμβολα (tokens) και μετατρέπονται στη βασική τους μορφή με τη διαδικασία της λημματοποίησης (lemmatization), ενώ διαγράφονται και οι \"ενδιάμεσες\" λέξεις *stopwords* για να μην επηρεάσουν την ανάλυση των κειμένων των πλοκών."
   ]
  },
  {
   "cell_type": "code",
   "execution_count": 12,
   "id": "e5fef743",
   "metadata": {},
   "outputs": [
    {
     "name": "stderr",
     "output_type": "stream",
     "text": [
      "[nltk_data] Downloading package punkt to\n",
      "[nltk_data]     C:\\Users\\Eugenia\\AppData\\Roaming\\nltk_data...\n",
      "[nltk_data]   Package punkt is already up-to-date!\n",
      "[nltk_data] Downloading package wordnet to\n",
      "[nltk_data]     C:\\Users\\Eugenia\\AppData\\Roaming\\nltk_data...\n",
      "[nltk_data]   Package wordnet is already up-to-date!\n",
      "[nltk_data] Downloading package stopwords to\n",
      "[nltk_data]     C:\\Users\\Eugenia\\AppData\\Roaming\\nltk_data...\n",
      "[nltk_data]   Package stopwords is already up-to-date!\n"
     ]
    },
    {
     "data": {
      "text/html": [
       "<div>\n",
       "<style scoped>\n",
       "    .dataframe tbody tr th:only-of-type {\n",
       "        vertical-align: middle;\n",
       "    }\n",
       "\n",
       "    .dataframe tbody tr th {\n",
       "        vertical-align: top;\n",
       "    }\n",
       "\n",
       "    .dataframe thead th {\n",
       "        text-align: right;\n",
       "    }\n",
       "</style>\n",
       "<table border=\"1\" class=\"dataframe\">\n",
       "  <thead>\n",
       "    <tr style=\"text-align: right;\">\n",
       "      <th></th>\n",
       "      <th>Plot</th>\n",
       "      <th>Clean Plot</th>\n",
       "    </tr>\n",
       "  </thead>\n",
       "  <tbody>\n",
       "    <tr>\n",
       "      <th>6</th>\n",
       "      <td>The film opens with two bandits breaking into ...</td>\n",
       "      <td>[film, open, two, bandit, breaking, railroad, ...</td>\n",
       "    </tr>\n",
       "    <tr>\n",
       "      <th>7</th>\n",
       "      <td>The film is about a family who move to the sub...</td>\n",
       "      <td>[film, family, move, suburb, hoping, quiet, li...</td>\n",
       "    </tr>\n",
       "    <tr>\n",
       "      <th>11</th>\n",
       "      <td>The film features a train traveling through th...</td>\n",
       "      <td>[film, feature, train, traveling, rockies, hol...</td>\n",
       "    </tr>\n",
       "  </tbody>\n",
       "</table>\n",
       "</div>"
      ],
      "text/plain": [
       "                                                 Plot  \\\n",
       "6   The film opens with two bandits breaking into ...   \n",
       "7   The film is about a family who move to the sub...   \n",
       "11  The film features a train traveling through th...   \n",
       "\n",
       "                                           Clean Plot  \n",
       "6   [film, open, two, bandit, breaking, railroad, ...  \n",
       "7   [film, family, move, suburb, hoping, quiet, li...  \n",
       "11  [film, feature, train, traveling, rockies, hol...  "
      ]
     },
     "execution_count": 12,
     "metadata": {},
     "output_type": "execute_result"
    }
   ],
   "source": [
    "# Download NLTK resources (only once)\n",
    "nltk.download('punkt')\n",
    "nltk.download('wordnet')\n",
    "nltk.download('stopwords')\n",
    "\n",
    "# Load stopwords and lemmatizer\n",
    "stop_words = set(stopwords.words('english'))\n",
    "lemmatizer = WordNetLemmatizer()\n",
    "\n",
    "# Function to tokenize and remove stopwords\n",
    "def preprocess_plot(text, stop_words):\n",
    "    # Tokenization and lowercase conversion\n",
    "    tokens = word_tokenize(text.lower())\n",
    "    \n",
    "    # Remove stopwords and punctuation\n",
    "    tokens = [word for word in tokens if word not in stop_words and word not in string.punctuation]\n",
    "    \n",
    "    # Lemmatization\n",
    "    tokens = [lemmatizer.lemmatize(word) for word in tokens]\n",
    "    \n",
    "    return tokens\n",
    "\n",
    "# Apply text preprocessing to the 'Plot' column\n",
    "data1['Clean Plot'] = data1['Plot'].apply(lambda x: preprocess_plot(x, stop_words))\n",
    "\n",
    "# Check 3 random entries for plot changes\n",
    "data1[['Plot', 'Clean Plot']].head(3)"
   ]
  },
  {
   "cell_type": "markdown",
   "id": "8fae6b9c",
   "metadata": {},
   "source": [
    "Εδώ ολοκληρώνεται το στάδιο της προεπεξεργασίας των δεδομένων, οπότε βεβαιωνόμαστε πως το σύνολο δεδομένων έχει την κατάλληλη μορφή και εμφανίζουμε το τελικό σύνολο ταινιών του dataset."
   ]
  },
  {
   "cell_type": "code",
   "execution_count": 13,
   "id": "2a2bf45a-e0b2-4521-a28d-a180e74a2c07",
   "metadata": {
    "id": "2a2bf45a-e0b2-4521-a28d-a180e74a2c07"
   },
   "outputs": [
    {
     "name": "stdout",
     "output_type": "stream",
     "text": [
      "Updated unique movies: 22152 \n",
      "\n"
     ]
    },
    {
     "data": {
      "text/html": [
       "<div>\n",
       "<style scoped>\n",
       "    .dataframe tbody tr th:only-of-type {\n",
       "        vertical-align: middle;\n",
       "    }\n",
       "\n",
       "    .dataframe tbody tr th {\n",
       "        vertical-align: top;\n",
       "    }\n",
       "\n",
       "    .dataframe thead th {\n",
       "        text-align: right;\n",
       "    }\n",
       "</style>\n",
       "<table border=\"1\" class=\"dataframe\">\n",
       "  <thead>\n",
       "    <tr style=\"text-align: right;\">\n",
       "      <th></th>\n",
       "      <th>Title</th>\n",
       "      <th>Genre</th>\n",
       "      <th>Plot</th>\n",
       "      <th>Clean Plot</th>\n",
       "    </tr>\n",
       "  </thead>\n",
       "  <tbody>\n",
       "    <tr>\n",
       "      <th>6</th>\n",
       "      <td>The Great Train Robbery</td>\n",
       "      <td>action</td>\n",
       "      <td>The film opens with two bandits breaking into ...</td>\n",
       "      <td>[film, open, two, bandit, breaking, railroad, ...</td>\n",
       "    </tr>\n",
       "    <tr>\n",
       "      <th>7</th>\n",
       "      <td>The Suburbanite</td>\n",
       "      <td>comedy</td>\n",
       "      <td>The film is about a family who move to the sub...</td>\n",
       "      <td>[film, family, move, suburb, hoping, quiet, li...</td>\n",
       "    </tr>\n",
       "    <tr>\n",
       "      <th>11</th>\n",
       "      <td>From Leadville to Aspen: A Hold-Up in the Rockies</td>\n",
       "      <td>action</td>\n",
       "      <td>The film features a train traveling through th...</td>\n",
       "      <td>[film, feature, train, traveling, rockies, hol...</td>\n",
       "    </tr>\n",
       "    <tr>\n",
       "      <th>14</th>\n",
       "      <td>How Brown Saw the Baseball Game</td>\n",
       "      <td>comedy</td>\n",
       "      <td>Before heading out to a baseball game at a nea...</td>\n",
       "      <td>[heading, baseball, game, nearby, ballpark, sp...</td>\n",
       "    </tr>\n",
       "    <tr>\n",
       "      <th>15</th>\n",
       "      <td>Laughing Gas</td>\n",
       "      <td>comedy</td>\n",
       "      <td>The plot is that of a black woman going to the...</td>\n",
       "      <td>[plot, black, woman, going, dentist, toothache...</td>\n",
       "    </tr>\n",
       "  </tbody>\n",
       "</table>\n",
       "</div>"
      ],
      "text/plain": [
       "                                                Title   Genre  \\\n",
       "6                             The Great Train Robbery  action   \n",
       "7                                     The Suburbanite  comedy   \n",
       "11  From Leadville to Aspen: A Hold-Up in the Rockies  action   \n",
       "14                    How Brown Saw the Baseball Game  comedy   \n",
       "15                                       Laughing Gas  comedy   \n",
       "\n",
       "                                                 Plot  \\\n",
       "6   The film opens with two bandits breaking into ...   \n",
       "7   The film is about a family who move to the sub...   \n",
       "11  The film features a train traveling through th...   \n",
       "14  Before heading out to a baseball game at a nea...   \n",
       "15  The plot is that of a black woman going to the...   \n",
       "\n",
       "                                           Clean Plot  \n",
       "6   [film, open, two, bandit, breaking, railroad, ...  \n",
       "7   [film, family, move, suburb, hoping, quiet, li...  \n",
       "11  [film, feature, train, traveling, rockies, hol...  \n",
       "14  [heading, baseball, game, nearby, ballpark, sp...  \n",
       "15  [plot, black, woman, going, dentist, toothache...  "
      ]
     },
     "execution_count": 13,
     "metadata": {},
     "output_type": "execute_result"
    }
   ],
   "source": [
    "# Reorder the columns\n",
    "data1 = data1[['Title', 'Genre', 'Plot', 'Clean Plot']]\n",
    "\n",
    "# Print updated rows of dataset and display first few rows of the merged dataset\n",
    "print(\"Updated unique movies:\",data1.shape[0],\"\\n\")\n",
    "data1.head()"
   ]
  },
  {
   "cell_type": "markdown",
   "id": "981497c0",
   "metadata": {},
   "source": [
    "#### 1.3 Εξαγωγή Χαρακτηριστικών\n",
    "\n",
    "Σε αυτό το βήμα της υλοποίησης πραγματοποιείται η εξαγωγή χαρακτηριστικών από τα κείμενα των πλοκών των ταινιών, η ακέραιη αναπαράσταση των κατηγοριών ταινίας και ο διαχωρισμός του συνόλου δεδομένων σε δύο υποσύνολα, ένα σύνολο εκπαίδευσης και ένα σύνολο ελέγχου.\n",
    "\n",
    "Αρχικά, προσδιορίζεται το σύνολο των μοναδικών λέξεων (συμβόλων) που εμφανίζονται στις πλοκές των ταινιών, δηλαδή το μέγεθος του λεξιλογίου του dataset. Παράλληλα, υπολογίζεται το μέγεθος των ακολουθιών λέξεων των πλοκών και συγκεκριμένα το μήκος ακολουθιών που παρατηρείται στο 95% των πλοκών και όχι το μέγιστο πιθανό μήκος. Έτσι, προκύπτει ένα μήκος κατάλληλο για τα περισσότερα δεδομένα του dataset.\n",
    "\n",
    "Το μέγεθος του λεξιλογίου του dataset και το μήκος των ακολουθιών θα χρησιμοποιηθεί αργότερα στον ορισμό του Embedding layer του μοντέλου, καθώς η εφαρμογή της μεθόδου GloVe δεν ήταν εφικτή στην παρούσα προσέγγιση."
   ]
  },
  {
   "cell_type": "code",
   "execution_count": 14,
   "id": "06026731-62fe-41ad-813c-bcadc08742a4",
   "metadata": {},
   "outputs": [
    {
     "name": "stdout",
     "output_type": "stream",
     "text": [
      "Unique words in plots: 114064\n",
      "Sequence length of most plots: 514\n"
     ]
    }
   ],
   "source": [
    "# Analyze word frequencies\n",
    "all_words = [word for tokens in data1['Clean Plot'] for word in tokens]\n",
    "word_freq = nltk.FreqDist(all_words)\n",
    "\n",
    "# Determine vocabulary size based on word frequency\n",
    "vocab_size = len(word_freq)\n",
    "print(\"Unique words in plots:\", vocab_size)\n",
    "      \n",
    "# Determine sequence length\n",
    "sequence_length = int(np.percentile([len(tokens) for tokens in data1['Clean Plot']], 95))\n",
    "print(\"Sequence length of most plots:\", sequence_length)"
   ]
  },
  {
   "cell_type": "markdown",
   "id": "41d26fd2-eb6d-4cdb-a32d-808487cb954d",
   "metadata": {},
   "source": [
    "Στη συνέχεια, φορτώνονται τα δεδομένα των πλοκών και των κατηγοριών ταινιών στις μεταβλητές μας, οι οποίες όμως δεν βρίσκονται ακόμα στην επιθυμητή μορφή."
   ]
  },
  {
   "cell_type": "code",
   "execution_count": 15,
   "id": "8c894b6b-f3b5-4f75-8875-88a04723e7db",
   "metadata": {},
   "outputs": [],
   "source": [
    "# Load data in X,y variables\n",
    "X_raw = data1['Clean Plot']\n",
    "y_raw = data1['Genre']"
   ]
  },
  {
   "cell_type": "markdown",
   "id": "8b314361-e900-4cdb-8781-56e24aa02b30",
   "metadata": {},
   "source": [
    "Πρώτα, προετοιμάζεται η στήλη των πλοκών μετατρέποντας κάθε σύμβολο/λέξη σε έναν ακέραιο και \"γεμίζοντας\" την κάθε ακολουθία ακεραίων ώστε να έχουν όλες το ίδιο μήκος, απαραίτητο για την εκπαίδευση των δεδομένων."
   ]
  },
  {
   "cell_type": "code",
   "execution_count": 16,
   "id": "743cea55-cf32-4af4-bc65-370e0497cfcf",
   "metadata": {},
   "outputs": [],
   "source": [
    "# Tokenize the plot data\n",
    "tokenizer = Tokenizer(num_words = vocab_size)\n",
    "tokenizer.fit_on_texts(X_raw)\n",
    "sequences = tokenizer.texts_to_sequences(X_raw)\n",
    "X = pad_sequences(sequences, sequence_length)"
   ]
  },
  {
   "cell_type": "markdown",
   "id": "d8b6bd1c-3492-4fc3-b93d-e31affff7bab",
   "metadata": {},
   "source": [
    "Έπειτα, οι ετικέτες των ειδών μετατρέπονται σε ακέραιες αναπαραστάσεις με τεχνική *One-Hot Encoding*, η οποία στοχεύει στην αριθμητική αναπαράσταση κατηγορικών μεταβλητών, δηλαδή μεταβλητών που δεν αφορούν μετρήσιμα μεγέθη."
   ]
  },
  {
   "cell_type": "code",
   "execution_count": 17,
   "id": "10886a21-59d8-4996-89d9-38cdeb64762c",
   "metadata": {},
   "outputs": [],
   "source": [
    "# Convert raw genre labels into binary array format\n",
    "mlb = LabelEncoder()\n",
    "y = mlb.fit_transform(y_raw)"
   ]
  },
  {
   "cell_type": "markdown",
   "id": "469c9cd5",
   "metadata": {},
   "source": [
    "#### 1.4 Κατασκευή, Εκπαίδευση και Αξιολόγηση του Μοντέλου Πρόβλεψης\n",
    "\n",
    "Πλέον τα δεδομένα είναι στην κατάλληλη μορφή για το RNN μοντέλο, οπότε μπορούν να χωριστούν σε σύνολο εκπαίδευσης (`training set`) με 80% των αρχικών δεδομένων και σύνολο ελέγχου (`testing set`) με 20% των αρχικών δεδομένων."
   ]
  },
  {
   "cell_type": "code",
   "execution_count": 18,
   "id": "5b6ef974-ebfa-4d9c-a383-981d3e8ae089",
   "metadata": {},
   "outputs": [
    {
     "name": "stdout",
     "output_type": "stream",
     "text": [
      "Training set shapes:\n",
      "X_train shape: (17721, 514)\n",
      "y_train shape: (17721,)\n",
      "\n",
      "Testing set shapes:\n",
      "X_test shape: (4431, 514)\n",
      "y_test shape: (4431,)\n"
     ]
    }
   ],
   "source": [
    "# Split data into training and testing sets\n",
    "X_train,X_test,y_train,y_test = train_test_split(X, y, test_size=0.2, random_state=42)\n",
    "\n",
    "# Print the shape of the training and testing sets\n",
    "print(\"Training set shapes:\")\n",
    "print(\"X_train shape:\", X_train.shape)\n",
    "print(\"y_train shape:\", y_train.shape)\n",
    "\n",
    "print(\"\\nTesting set shapes:\")\n",
    "print(\"X_test shape:\", X_test.shape)\n",
    "print(\"y_test shape:\", y_test.shape)"
   ]
  },
  {
   "cell_type": "markdown",
   "id": "2ca5053c-0afd-4daa-a299-f24cf8e1b1ce",
   "metadata": {},
   "source": [
    "##### Κατασκευή\n",
    "\n",
    "Σε αυτό το στάδιο δημιουργείται το RNN νευρωνικό δίκτυο. Συγκεκριμένα, ορίζεται με τη χρήση του Sequential API ένα μοντέλο κατάλληλο για απλές αρχιτεκτονικές και σειριακές προσεγγίσεις, το οποίο αποτελείται από:\n",
    "* `Embedding`: το επίπεδο ενσωμάτωσης με διαστάσεις εισόδου ίσες με το μέγεθος του λεξιλογίου του dataset και διαστάσεις εξόδου 128, που σημαίνει πως κάθε λέξη-σύμβολο αναπαριστάται από ένα διάνυσμα 128 αριθμών,\n",
    "* `LSTM`: το επίπεδο τεχνητού νευρωνικού δικτύου με 64 νευρώνες και την ικανότητα να επιστρέφει ακολουθία την οποία θα δεχτεί το επόμενο LSTM επίπεδο σαν είσοδο,\n",
    "* `MaxPooling1D`: ένα επίπεδο μέγιστης δειγματοληψίας 1Δ, το οποίο μειώνει τις διαστάσεις της εισόδου, λαμβάνοντας τα πιο σημαντικά χαρακτηριστικά με στόχο την πρόληψη υπερ-προσαρμογής (overfitting),\n",
    "* `LSTM`: ένα ακόμη επίπεδο με 128 νευρώνες,\n",
    "* `Dense`: ένα επίπεδο ταξινόμησης με συνάρτηση ενεργοποίησης *ReLU* για αυξημένη αποδοτικότητα και αποφυγή υπερ-προσαρμογής,\n",
    "* `Dropout`: ένα επίπεδο κανονικοποίησης για πρόληψη υπερ-προσαρμογής, και\n",
    "* `Dense`: το τελευταίο επίπεδο, με συνάρτηση ενεργοποίησης *softmax* για multiclass classification και αριθμό νευρώνων ίσο με το σύνολο των διαφορετικών κλάσεων (ειδών ταινίας)."
   ]
  },
  {
   "cell_type": "code",
   "execution_count": 19,
   "id": "b86a70da-82ae-4ba6-94e3-f4a55306f5eb",
   "metadata": {},
   "outputs": [],
   "source": [
    "# Define the model\n",
    "model = Sequential([\n",
    "    Embedding(input_dim = vocab_size, output_dim = 128, input_length = sequence_length),\n",
    "    LSTM(64, return_sequences = True),\n",
    "    MaxPooling1D(pool_size = 2),\n",
    "    LSTM(128),\n",
    "    Dense(128, activation = 'relu'),\n",
    "    Dropout(0.5),\n",
    "    Dense(len(genres), activation = 'softmax')\n",
    "])"
   ]
  },
  {
   "cell_type": "markdown",
   "id": "9028167b-19fe-408a-82c7-c32d46ce4212",
   "metadata": {},
   "source": [
    "Για την εκπαίδευση του μοντέλου, χρειάζονται επίσης:\n",
    "* `adam`: Αλγόριθμος βελτιστοποίησης για την εύρεση του βέλτιστου ρυθμού εκμάθησης της κάθε παραμέτρου.\n",
    "* `sparse_categorical_crossentropy`: Συνάρτηση σφάλματος, κατάλληλη για ανεξάρτητες κλάσεις (κατηγορίες).\n",
    "* `accuracy`: Μετρική της ακρίβειας, η οποία μετράει το ποσοστό των σωστών προβλέψεων."
   ]
  },
  {
   "cell_type": "code",
   "execution_count": 20,
   "id": "58640e32-2e38-456a-9876-b9f9aa812260",
   "metadata": {},
   "outputs": [
    {
     "name": "stdout",
     "output_type": "stream",
     "text": [
      "Model: \"sequential\"\n",
      "_________________________________________________________________\n",
      " Layer (type)                Output Shape              Param #   \n",
      "=================================================================\n",
      " embedding (Embedding)       (None, 514, 128)          14600192  \n",
      "                                                                 \n",
      " lstm (LSTM)                 (None, 514, 64)           49408     \n",
      "                                                                 \n",
      " max_pooling1d (MaxPooling1  (None, 257, 64)           0         \n",
      " D)                                                              \n",
      "                                                                 \n",
      " lstm_1 (LSTM)               (None, 128)               98816     \n",
      "                                                                 \n",
      " dense (Dense)               (None, 128)               16512     \n",
      "                                                                 \n",
      " dropout (Dropout)           (None, 128)               0         \n",
      "                                                                 \n",
      " dense_1 (Dense)             (None, 7)                 903       \n",
      "                                                                 \n",
      "=================================================================\n",
      "Total params: 14765831 (56.33 MB)\n",
      "Trainable params: 14765831 (56.33 MB)\n",
      "Non-trainable params: 0 (0.00 Byte)\n",
      "_________________________________________________________________\n"
     ]
    }
   ],
   "source": [
    "# Compile the model\n",
    "model.compile(optimizer='adam', loss='sparse_categorical_crossentropy', metrics=['accuracy'])\n",
    "\n",
    "# Display a summary of the model architecture\n",
    "model.summary()"
   ]
  },
  {
   "cell_type": "markdown",
   "id": "5dc43e83-af36-4dfe-9a60-6ed68da1c165",
   "metadata": {},
   "source": [
    "##### Εκπαίδευση\n",
    "\n",
    "Για την αποφυγή υπερ-προσαρμογής του μοντέλου, χρησιμοποιείται ένας συνδυασμός callbacks. Συγκεκριμένα:\n",
    "* `EarlyStopping`: Πρόωρος τερματισμός της εκπαίδευσης, αν η απόδοση του μοντέλου δεν έχει βελτιωθεί για 10 εποχές.\n",
    "* `ReduceLROnPlateau`: Μείωση του ρυθμού εκμάθησης, αν η απόδοση του μοντέλου δεν έχει βελτιωθεί για 5 εποχές. Η μείωση αυτή θα πραγματοποιηθεί κατά παράγοντα 0.1, ενώ ο ελάχιστος ρυθμός ορίζεται ως 0.001.\n",
    "\n",
    "Η εκπαίδευση του μοντέλου πραγματοποιείται για 20 εποχές με μέγεθος της ομάδας παρατηρήσεων (batch size) ίσο με 32. Αυξάνοντας τις εποχές, επιτρέπουμε στο μοντέλο να εκπαιδευτεί καλύτερα και να αυξήσει την ακρίβεια των προβλέψεών του. Σε αυτό το σημείο χρησιμοποιούνται και τα βάρη που υπολογίστηκαν νωρίτερα με σκοπό την εξισορρόπηση του dataset."
   ]
  },
  {
   "cell_type": "code",
   "execution_count": 21,
   "id": "f8c1723b-d943-4217-aa82-bd432cc94d23",
   "metadata": {},
   "outputs": [
    {
     "name": "stdout",
     "output_type": "stream",
     "text": [
      "Epoch 1/20\n",
      "554/554 [==============================] - 224s 399ms/step - loss: 2.0593 - accuracy: 0.3354 - val_loss: 1.7156 - val_accuracy: 0.3541 - lr: 0.0010\n",
      "Epoch 2/20\n",
      "554/554 [==============================] - 246s 444ms/step - loss: 1.5208 - accuracy: 0.4546 - val_loss: 1.6786 - val_accuracy: 0.4263 - lr: 0.0010\n",
      "Epoch 3/20\n",
      "554/554 [==============================] - 273s 493ms/step - loss: 0.9353 - accuracy: 0.6614 - val_loss: 1.6939 - val_accuracy: 0.4444 - lr: 0.0010\n",
      "Epoch 4/20\n",
      "554/554 [==============================] - 280s 506ms/step - loss: 0.5015 - accuracy: 0.8203 - val_loss: 2.2261 - val_accuracy: 0.4570 - lr: 0.0010\n",
      "Epoch 5/20\n",
      "554/554 [==============================] - 275s 497ms/step - loss: 0.2589 - accuracy: 0.9029 - val_loss: 2.6553 - val_accuracy: 0.4414 - lr: 0.0010\n",
      "Epoch 6/20\n",
      "554/554 [==============================] - 273s 494ms/step - loss: 0.1425 - accuracy: 0.9466 - val_loss: 2.9721 - val_accuracy: 0.4331 - lr: 0.0010\n",
      "Epoch 7/20\n",
      "554/554 [==============================] - 253s 456ms/step - loss: 0.0928 - accuracy: 0.9642 - val_loss: 3.3980 - val_accuracy: 0.4281 - lr: 0.0010\n",
      "Epoch 8/20\n",
      "554/554 [==============================] - 268s 484ms/step - loss: 0.0825 - accuracy: 0.9717 - val_loss: 3.4115 - val_accuracy: 0.4543 - lr: 0.0010\n",
      "Epoch 9/20\n",
      "554/554 [==============================] - 269s 486ms/step - loss: 0.0725 - accuracy: 0.9773 - val_loss: 3.5064 - val_accuracy: 0.4482 - lr: 0.0010\n",
      "Epoch 10/20\n",
      "554/554 [==============================] - 270s 487ms/step - loss: 0.0586 - accuracy: 0.9828 - val_loss: 3.7660 - val_accuracy: 0.4509 - lr: 0.0010\n",
      "Epoch 11/20\n",
      "554/554 [==============================] - 270s 488ms/step - loss: 0.0460 - accuracy: 0.9865 - val_loss: 3.7769 - val_accuracy: 0.4484 - lr: 0.0010\n",
      "Epoch 12/20\n",
      "554/554 [==============================] - 266s 481ms/step - loss: 0.0227 - accuracy: 0.9929 - val_loss: 4.1782 - val_accuracy: 0.4333 - lr: 0.0010\n"
     ]
    }
   ],
   "source": [
    "# Define callbacks\n",
    "early_stopping = EarlyStopping(monitor='val_loss', patience=10, restore_best_weights=True)\n",
    "reduce_lr = ReduceLROnPlateau(monitor='val_loss', factor=0.1, patience=5, min_lr=0.001)\n",
    "\n",
    "# Train the model with optimizations\n",
    "history = model.fit(X_train, y_train, epochs=20, batch_size=32, validation_data=(X_test, y_test), verbose=1, callbacks=[early_stopping, reduce_lr], class_weight=class_weight_dict)"
   ]
  },
  {
   "cell_type": "markdown",
   "id": "4195aab9",
   "metadata": {},
   "source": [
    "##### Αξιολόγηση\n",
    "\n",
    "Κατά τη διάρκεια της εκπαίδευσης και επαλήθευσης παρατηρούμε τις τιμές της συνάρτησης σφάλματος και της ακρίβειας ανά εποχή. Ας δούμε, όμως, και γραφικά τις σχέσεις μεταξύ των μετρικών εκπαίδευσης και επαλήθευσης."
   ]
  },
  {
   "cell_type": "code",
   "execution_count": 22,
   "id": "06aa0a92-bc22-4e45-8d8e-107cd7477dfa",
   "metadata": {},
   "outputs": [
    {
     "data": {
      "image/png": "[encoded data removed]",
      "text/plain": [
       "<Figure size 800x600 with 1 Axes>"
      ]
     },
     "metadata": {},
     "output_type": "display_data"
    }
   ],
   "source": [
    "# Plot the training and validation accuracy\n",
    "plt.figure(figsize = (8,6))\n",
    "plt.plot(history.history['accuracy'], label = 'Training Accuracy')\n",
    "plt.plot(history.history['val_accuracy'], label = 'Validation Accuracy')\n",
    "plt.title('Training and Validation Accuracy')\n",
    "plt.xlabel('Epoch')\n",
    "plt.ylabel('Accuracy')\n",
    "plt.legend()\n",
    "plt.show()"
   ]
  },
  {
   "cell_type": "code",
   "execution_count": 23,
   "id": "c0e063df-d194-4f31-aa85-257a7720ef2f",
   "metadata": {},
   "outputs": [
    {
     "data": {
      "image/png": "[encoded data removed]",
      "text/plain": [
       "<Figure size 800x600 with 1 Axes>"
      ]
     },
     "metadata": {},
     "output_type": "display_data"
    }
   ],
   "source": [
    "# Plot the training and validation loss\n",
    "plt.figure(figsize = (8,6))\n",
    "plt.plot(history.history['loss'], label = 'Training Loss')\n",
    "plt.plot(history.history['val_loss'], label = 'Validation Loss')\n",
    "plt.title('Training and Validation Loss')\n",
    "plt.xlabel('Epoch')\n",
    "plt.ylabel('Loss')\n",
    "plt.legend()\n",
    "plt.show()"
   ]
  },
  {
   "cell_type": "markdown",
   "id": "b736567e-1c4d-45ab-a26b-f816f5ef8e61",
   "metadata": {},
   "source": [
    "Από τις γραφικές φαίνεται ακόμη πιο καθαρά η μεγάλη διαφορά μεταξύ των μετρικών εκπαίδευσης και των μετρικών επαλήθευσης. Συγκεκριμένα, συμπεραίνουμε πως το μοντέλο δεν έχει καλή απόδοση, συγκρίνοντας τις τιμές των συναρτήσεων απώλειας της εκπαίδευσης και της επαλήθευσης. Η τέσσερις φορές μεγαλύτερη απώλεια επαλήθευσης φανερώνει πως το μοντέλο έχει πρόβλημα υπερ-προσαρμογής.\n",
    "\n",
    "Για την περαιτέρω κατανόηση και αξιολόγηση των αποτελεσμάτων, αξιοποιούμε τη συνάρτηση `predict()` για προβλέψεις στο σύνολο ελέγχου. Πιο αναλυτικά, προβλέπεται η πιθανότητα ένα δείγμα να ανήκει σε μία κλάση για κάθε δείγμα του test set. Τα αποτελέσματα των προβλέψεων χρησιμοποιούνται μαζί με τις ετικέτες του συνόλου δεδομένων ελέγχου για τον υπολογισμό της αναφοράς ταξινόμησης *classification report*. Η αναφορά αυτή παρέχει όλες τις απαραίτητες πληροφορίες για την αξιολόγηση της απόδοσης του μοντέλου, αφού επιστρέφει τις μετρικές για κάθε είδος ταινίας (κλάση)."
   ]
  },
  {
   "cell_type": "code",
   "execution_count": 24,
   "id": "6778f6a2-eda4-4c47-bb50-93f3a218a12d",
   "metadata": {},
   "outputs": [
    {
     "name": "stdout",
     "output_type": "stream",
     "text": [
      "139/139 [==============================] - 16s 113ms/step\n",
      "              precision    recall  f1-score   support\n",
      "\n",
      "      action       0.47      0.46      0.46       606\n",
      "      comedy       0.60      0.13      0.21      1128\n",
      "       drama       1.00      0.00      0.00       396\n",
      "      horror       0.42      0.84      0.56      1379\n",
      "       crime       0.51      0.70      0.59       291\n",
      "     romance       0.31      0.23      0.26       382\n",
      "    thriller       0.11      0.07      0.09       249\n",
      "\n",
      "    accuracy                           0.43      4431\n",
      "   macro avg       0.49      0.35      0.31      4431\n",
      "weighted avg       0.50      0.43      0.36      4431\n",
      "\n"
     ]
    }
   ],
   "source": [
    "# Predict the labels for the testing features\n",
    "y_pred = model.predict(X_test)\n",
    "\n",
    "# Convert predictions to class labels\n",
    "y_pred_labels = np.argmax(y_pred, axis = 1)\n",
    "\n",
    "# Print the classification report\n",
    "print(classification_report(y_test, y_pred_labels, target_names=y_raw.unique(), zero_division=1))"
   ]
  },
  {
   "cell_type": "markdown",
   "id": "20a8d290-48ac-4081-9720-95527f3de4c9",
   "metadata": {},
   "source": [
    "Τέλος, υπολογίζονται τα μέτρα απόδοσης του μοντέλου, δεν ξεχνάμε όμως ότι δυστυχώς οι τιμές των μέτρων είναι αναξιόπιστες, καθώς το σύνολο δεδομένων δεν είναι ισορροπημένο. Τα μέτρα αξιολόγησης είναι τα εξής:\n",
    "1. Ορθότητα (Accuracy): εκφράζει το ποσοστό των ορθών ταξινομήσεων\n",
    "2. Ακρίβεια (Precision): εκφράζει την πιθανότητα ορθής ταξινόμησης\n",
    "3. Ανάκληση (Recall): εκφράζει την πιθανότητα μια ορθή ταξινόμηση να είναι όντως ορθή\n",
    "4. Μέτρo F (F1-score): είναι ο αρμονικός μέσος της ακρίβειας και της ανάκλησης και παρέχει μια συνολική εκτίμηση του ταξινομητή\n",
    "\n",
    "Επίσης, γίνεται `weighted averaging`. Η παράμετρος αυτή χρησιμοποιείται για τον υπολογισμό των παραπάνω μετρικών όταν το πρόβλημα αποτελείται από περισσότερες από δύο κλάσεις. Επηρεάζει την κάθε μετρική ως εξής:\n",
    "* Κάθε μετρική ανά κλάση υπολογίζεται ξεχωριστά.\n",
    "* Αυτές οι μετρικές ανά κλάση σταθμίζονται με τον αριθμό των αληθών περιπτώσεων για κάθε κλάση και στη συνέχεια υπολογίζεται ο μέσος όρος.\n",
    "\n",
    "Σε κάθε περίπτωση αυτή η μέθοδος λαμβάνει υπόψη την ανισορροπία στο σύνολο δεδομένων. Οι κλάσεις με περισσότερες περιπτώσεις έχουν μεγαλύτερη επιρροή. Γενικά, είναι μια χρήσιμη τεχνική όταν υπάρχει ένα σύνολο δεδομένων όπου ορισμένες κλάσεις είναι σημαντικά μεγαλύτερες ή μικρότερες από άλλες. Βοηθά στην παροχή μιας πιο ισορροπημένης αξιολόγησης της απόδοσης του μοντέλου σε όλες τις κλάσεις, αντί να επηρεάζεται υπερβολικά από την πλειοψηφούσα κλάση.\n",
    "\n",
    "<u>Σημείωση</u>: Θέτουμε το `zero_division` ίσο με 1, έναντι της προεπιλεγμένης τιμής 0 για την απουσία εγγραφών με συγκεκριμένη ετικέτα στο σύνολο δεδομένων εκπαίδευσης, με στόχο την αποφυγή **`Warnings`**."
   ]
  },
  {
   "cell_type": "code",
   "execution_count": 25,
   "id": "102428dc",
   "metadata": {},
   "outputs": [
    {
     "name": "stdout",
     "output_type": "stream",
     "text": [
      "Accuracy: 0.4263146016700519 \n",
      "Precision: 0.5031156010987385 \n",
      "Recall: 0.4263146016700519 \n",
      "F1-score: 0.35790130958069466\n"
     ]
    }
   ],
   "source": [
    "# Calculate evaluation metrics\n",
    "accuracy = accuracy_score(y_test, y_pred_labels)\n",
    "precision = precision_score(y_test, y_pred_labels, average='weighted', zero_division=1)\n",
    "recall = recall_score(y_test, y_pred_labels, average='weighted')\n",
    "f1 = f1_score(y_test, y_pred_labels, average='weighted')\n",
    "\n",
    "# Print the evaluation metrics\n",
    "print(\"Accuracy:\", accuracy, \"\\nPrecision:\", precision, \"\\nRecall:\", recall, \"\\nF1-score:\", f1)"
   ]
  },
  {
   "cell_type": "markdown",
   "id": "9d0a5d88",
   "metadata": {},
   "source": [
    "##### Συμπερασματική Συνάρτηση\n",
    "\n",
    "Τελευταίο βήμα της υλοποίησης είναι η δημιουργία μιας συνάρτησης με την οποία μπορούν να εφαρμοστούν τα παραπάνω βήματα του μοντέλου για οποιαδήποτε νέα εγγραφή ή προσθήκη δεδομένων στο dataset, με στόχο την πρόβλεψη του είδους μιας ταινίας με βάση την περιγραφή της πλοκής της. "
   ]
  },
  {
   "cell_type": "code",
   "execution_count": 26,
   "id": "6dcb4aad-a9b2-49e9-97ef-2e128614428c",
   "metadata": {},
   "outputs": [],
   "source": [
    "# Function to clean text, make predictions and return predicted movie genre\n",
    "def infer_tags(text):\n",
    "    # Preprocess the text\n",
    "    tokens = preprocess_plot(' '.join(text), stop_words)\n",
    "\n",
    "    # Tokenize the preprocessed text\n",
    "    sequences = tokenizer.texts_to_sequences([tokens])\n",
    "    X = pad_sequences(sequences, sequence_length)\n",
    "\n",
    "    # Predict the label\n",
    "    y_pred = model.predict(X)\n",
    "\n",
    "    # Convert the prediction to a class label\n",
    "    y_pred_label = np.argmax(y_pred, axis = 1)\n",
    "    \n",
    "    return mlb.inverse_transform(y_pred_label)[0]"
   ]
  },
  {
   "cell_type": "markdown",
   "id": "4a9923b0",
   "metadata": {},
   "source": [
    "Στην προκειμένη περίπτωση χρησιμοποιούμε την τελική μορφή του dataset της εργασίας ως έχει και επιλέγουμε τυχαία 5 εγγραφές για να ελέγξουμε την αποτελεσματικότητα του μοντέλου πρόβλεψης του είδους μιας ταινίας."
   ]
  },
  {
   "cell_type": "code",
   "execution_count": 27,
   "id": "ef831625-6711-4869-80e7-df329eff3297",
   "metadata": {},
   "outputs": [
    {
     "name": "stdout",
     "output_type": "stream",
     "text": [
      "1/1 [==============================] - 0s 38ms/step\n",
      "Movie: Love in High Gear\n",
      "Predicted genre: drama\n",
      "Actual genre: drama\n",
      "\n",
      "1/1 [==============================] - 0s 36ms/step\n",
      "Movie title not found.\n",
      "1/1 [==============================] - 0s 40ms/step\n",
      "Movie: Honeymoon Limited\n",
      "Predicted genre: drama\n",
      "Actual genre: drama\n",
      "\n",
      "1/1 [==============================] - 0s 39ms/step\n",
      "Movie: A Rogue's Romance\n",
      "Predicted genre: drama\n",
      "Actual genre: romance\n",
      "\n",
      "1/1 [==============================] - 0s 37ms/step\n",
      "Movie: Come On Marines!\n",
      "Predicted genre: action\n",
      "Actual genre: action\n",
      "\n"
     ]
    }
   ],
   "source": [
    "# Inference function to show predictions\n",
    "for i in range(5):\n",
    "    k = np.random.randint(len(X_test))\n",
    "    plot = X_raw.iloc[k]\n",
    "    actual_genre = y_raw.iloc[k]\n",
    "    predicted_genre = infer_tags(plot)\n",
    "\n",
    "    # Check if the index exists in the dataset\n",
    "    if k not in data1['Title']:\n",
    "        print(\"Movie title not found.\")\n",
    "    else:\n",
    "        print(\"Movie:\", data1['Title'][k])\n",
    "        print(\"Predicted genre:\", predicted_genre)\n",
    "        print(\"Actual genre:\", actual_genre)\n",
    "        print()"
   ]
  },
  {
   "cell_type": "markdown",
   "id": "ad4c8250-ab0d-4d0b-98f6-2360da923c2a",
   "metadata": {},
   "source": [
    "### Πείραμα 2: Αλγοριθμικές Αποφάσεις"
   ]
  },
  {
   "cell_type": "markdown",
   "id": "720a8f70",
   "metadata": {},
   "source": [
    "#### 2.1 Φόρτωση Δεδομένων\n",
    "\n",
    "Τα μόνα νέα πακέτα που χρειάζονται για το δεύτερο πείραμα είναι αυτά που θα επιτρέψουν την χρήση του K-Means αλγορίθμου ομαδοποίησης, έχοντας μετατρέψει τα δεδομένα στην κατάλληλη μορφή για τον αλγόριθμο μέσω του TF-IDF. Η Συχνότητα όρου - Αντίστροφη συχνότητα εγγράφου (*Term Frequency - Inverse Document Frequency ή TF-IDF*) είναι εξαιρετικά χρήσιμη μετρική, καθώς εκτιμά τον ρυθμό εμφάνισης μιας λέξης σε ένα \n",
    "κείμενο σε σχέση με το σύνολο των κειμένων."
   ]
  },
  {
   "cell_type": "code",
   "execution_count": 28,
   "id": "4d335ca8",
   "metadata": {
    "vscode": {
     "languageId": "plaintext"
    }
   },
   "outputs": [],
   "source": [
    "from sklearn.feature_extraction.text import TfidfVectorizer\n",
    "from sklearn.cluster import KMeans"
   ]
  },
  {
   "cell_type": "markdown",
   "id": "e3b9e39b-4fcf-4790-b160-e843a85b8a5a",
   "metadata": {},
   "source": [
    "Αρχικά, αντιγράφεται το αρχικό, επεξεργασμένο dataset για τη δημιουργία του dataset του πειράματος 2."
   ]
  },
  {
   "cell_type": "code",
   "execution_count": 29,
   "id": "120027b6",
   "metadata": {
    "vscode": {
     "languageId": "plaintext"
    }
   },
   "outputs": [],
   "source": [
    "# Create copy of dataset\n",
    "data2 = movies_df.copy()"
   ]
  },
  {
   "cell_type": "markdown",
   "id": "cbc396b6",
   "metadata": {},
   "source": [
    "#### 2.2 Προεπεξεργασία Δεδομένων"
   ]
  },
  {
   "cell_type": "markdown",
   "id": "9e638b4c",
   "metadata": {},
   "source": [
    "##### Στήλη 'Plot'\n",
    "\n",
    "Στο στάδιο της προεπεξεργασίας, εφαρμόζεται η συνάρτηση που ορίστηκε στο πρώτο πείραμα για τον \"καθαρισμό\" των κειμένων των πλοκών."
   ]
  },
  {
   "cell_type": "code",
   "execution_count": 30,
   "id": "93173191",
   "metadata": {
    "vscode": {
     "languageId": "plaintext"
    }
   },
   "outputs": [
    {
     "data": {
      "text/html": [
       "<div>\n",
       "<style scoped>\n",
       "    .dataframe tbody tr th:only-of-type {\n",
       "        vertical-align: middle;\n",
       "    }\n",
       "\n",
       "    .dataframe tbody tr th {\n",
       "        vertical-align: top;\n",
       "    }\n",
       "\n",
       "    .dataframe thead th {\n",
       "        text-align: right;\n",
       "    }\n",
       "</style>\n",
       "<table border=\"1\" class=\"dataframe\">\n",
       "  <thead>\n",
       "    <tr style=\"text-align: right;\">\n",
       "      <th></th>\n",
       "      <th>Plot</th>\n",
       "      <th>Clean Plot</th>\n",
       "    </tr>\n",
       "  </thead>\n",
       "  <tbody>\n",
       "    <tr>\n",
       "      <th>6</th>\n",
       "      <td>The film opens with two bandits breaking into ...</td>\n",
       "      <td>[film, open, two, bandit, breaking, railroad, ...</td>\n",
       "    </tr>\n",
       "    <tr>\n",
       "      <th>7</th>\n",
       "      <td>The film is about a family who move to the sub...</td>\n",
       "      <td>[film, family, move, suburb, hoping, quiet, li...</td>\n",
       "    </tr>\n",
       "    <tr>\n",
       "      <th>10</th>\n",
       "      <td>The Rarebit Fiend gorges on Welsh rarebit at a...</td>\n",
       "      <td>[rarebit, fiend, gorge, welsh, rarebit, restau...</td>\n",
       "    </tr>\n",
       "  </tbody>\n",
       "</table>\n",
       "</div>"
      ],
      "text/plain": [
       "                                                 Plot  \\\n",
       "6   The film opens with two bandits breaking into ...   \n",
       "7   The film is about a family who move to the sub...   \n",
       "10  The Rarebit Fiend gorges on Welsh rarebit at a...   \n",
       "\n",
       "                                           Clean Plot  \n",
       "6   [film, open, two, bandit, breaking, railroad, ...  \n",
       "7   [film, family, move, suburb, hoping, quiet, li...  \n",
       "10  [rarebit, fiend, gorge, welsh, rarebit, restau...  "
      ]
     },
     "execution_count": 30,
     "metadata": {},
     "output_type": "execute_result"
    }
   ],
   "source": [
    "# Apply text preprocessing to the 'Plot' column\n",
    "data2['Clean Plot'] = data2['Plot'].apply(lambda x: preprocess_plot(x, stop_words))\n",
    "\n",
    "# Check 3 random entries for plot changes\n",
    "data2[['Plot', 'Clean Plot']].head(3)"
   ]
  },
  {
   "cell_type": "markdown",
   "id": "656a645e-5f84-42ad-a644-bd71c40fc39c",
   "metadata": {},
   "source": [
    "Στο πρώτο πείραμα, το σύνολο δεδομένων είχε υποστεί διάφορες αλλαγές προτού υπολογιστεί το μέγεθος του λεξιλογίου του dataset και το μήκος των ακολουθιών των πλοκών. Επομένως, γράφεται ξανά το αντίστοιχο κομμάτι κώδικα για τον υπολογισμό των μεγεθών αυτών για το δεύτερο σύνολο δεδομένων."
   ]
  },
  {
   "cell_type": "code",
   "execution_count": 31,
   "id": "f30af78e-4f5a-46d4-ab9f-21c8a7078d8a",
   "metadata": {},
   "outputs": [
    {
     "name": "stdout",
     "output_type": "stream",
     "text": [
      "Unique words in plots: 139277\n",
      "Sequence length of each plot: 524\n"
     ]
    }
   ],
   "source": [
    "# Analyze word frequencies\n",
    "all_words = [word for tokens in data2['Clean Plot'] for word in tokens]\n",
    "word_freq = nltk.FreqDist(all_words)\n",
    "\n",
    "# Determine vocabulary size based on word frequency\n",
    "vocab_size = len(word_freq)\n",
    "print(\"Unique words in plots:\", vocab_size)\n",
    "\n",
    "# Determine sequence length\n",
    "sequence_length = int(np.percentile([len(tokens) for tokens in data2['Clean Plot']], 95))\n",
    "print(\"Sequence length of each plot:\", sequence_length)"
   ]
  },
  {
   "cell_type": "markdown",
   "id": "146ffced",
   "metadata": {},
   "source": [
    "##### Στήλη 'Genre'\n",
    "\n",
    "Σε αυτή την προσέγγιση, η μείωση των 2241 μοναδικών κατηγοριών ταινίας πραγματοποιείται με τη χρήση του αλγορίθμου K-Means. Ο αλγόριθμος αυτός ομαδοποιεί τα είδη ταινιών με βάση τις πλοκές τους, ώστε να περιοριστεί ο μεγάλος αριθμός κατηγοριών και να βελτιωθεί η απόδοση του μοντέλου.\n",
    "\n",
    "Αφού μετατραπούν τα κείμενα των πλοκών σε αριθμητική αναπαράσταση, εφαρμόζεται ο αλγόριθμος K-Means. Έπειτα από πολλές δοκιμές, θέτουμε τον αριθμό συστάδων ίσο με 30. Στη συνέχεια, ο αλγόριθμος βρίσκει το πιο δημοφιλές είδος ταινίας μέσα στην κάθε συστάδα και το θέτει ως την ετικέτα της συστάδας. Τέλος, ενημερώνεται η στήλη των συστάδων με τις ετικέτες ειδών που προέκυψαν από την ομαδοποίηση."
   ]
  },
  {
   "cell_type": "code",
   "execution_count": 32,
   "id": "5410ca63-f14d-41d7-be76-07b36d551d46",
   "metadata": {},
   "outputs": [],
   "source": [
    "# Extract the 'Clean Plot' column for clustering\n",
    "plots = data2['Clean Plot'].apply(' '.join)\n",
    "\n",
    "# Create a TF-IDF vectorizer\n",
    "tfidf_vectorizer = TfidfVectorizer(max_features = vocab_size, stop_words = 'english')\n",
    "plots_vec = tfidf_vectorizer.fit_transform(plots)\n",
    "\n",
    "# Apply K-Means clustering\n",
    "kmeans = KMeans(n_clusters = 30, n_init = 'auto', random_state = 5)\n",
    "cluster_labels = kmeans.fit_predict(plots_vec)\n",
    "\n",
    "# Assign cluster labels to your dataset\n",
    "data2['Cluster'] = cluster_labels\n",
    "\n",
    "# Initialize an empty dictionary to store the cluster-genre mapping\n",
    "cluster_genre_mapping = {}\n",
    "\n",
    "# Find unique cluster labels\n",
    "unique_clusters = data2['Cluster'].unique()\n",
    "\n",
    "# Loop through each unique cluster label\n",
    "for cluster_label in unique_clusters:\n",
    "    # Filter the data for movies in the current cluster\n",
    "    cluster_data = data2[data2['Cluster'] == cluster_label]\n",
    "    \n",
    "    # Find the most common genre in the current cluster\n",
    "    most_common_genre = cluster_data['Genre'].mode().iloc[0]\n",
    "    \n",
    "    # Store the cluster-genre mapping in the dictionary\n",
    "    cluster_genre_mapping[cluster_label] = most_common_genre\n",
    "\n",
    "# Replace cluster labels with genre names\n",
    "data2['Cluster'] = data2['Cluster'].map(cluster_genre_mapping)"
   ]
  },
  {
   "cell_type": "markdown",
   "id": "bf458407-3874-462a-8f86-b57dc6b31855",
   "metadata": {},
   "source": [
    "Τα είδη (κλάσεις) που προκύπτουν από την ομαδοποίηση είναι τα εξής:"
   ]
  },
  {
   "cell_type": "code",
   "execution_count": 33,
   "id": "4c64c2c0-71da-460c-9c65-60d99ea58a36",
   "metadata": {},
   "outputs": [
    {
     "name": "stdout",
     "output_type": "stream",
     "text": [
      "['western' 'drama' 'comedy' 'horror' 'animation']\n"
     ]
    }
   ],
   "source": [
    "# Find unique values in 'Genre'\n",
    "classes = data2['Cluster'].unique()\n",
    "\n",
    "# Print classes\n",
    "print(classes)"
   ]
  },
  {
   "cell_type": "markdown",
   "id": "f9da9485-15e8-489e-a90a-08f4b4b648c0",
   "metadata": {},
   "source": [
    "Ακολουθεί και η απεικόνιση των ειδών."
   ]
  },
  {
   "cell_type": "code",
   "execution_count": 34,
   "id": "72a961f6-3f37-4e0e-a9d1-086fdfe5acb8",
   "metadata": {},
   "outputs": [
    {
     "data": {
      "image/png": "[encoded data removed]",
      "text/plain": [
       "<Figure size 800x500 with 1 Axes>"
      ]
     },
     "metadata": {},
     "output_type": "display_data"
    }
   ],
   "source": [
    "# Convert 'Cluster' column to a categorical variable\n",
    "data2['Cluster'] = pd.Categorical(data2['Cluster'])\n",
    "\n",
    "plt.figure(figsize=(8, 5))\n",
    "sns.countplot(data=data2, x='Cluster')\n",
    "plt.xlabel('Cluster')\n",
    "plt.title('Distribution of Classes')\n",
    "plt.xticks(rotation = 45)\n",
    "plt.show()"
   ]
  },
  {
   "cell_type": "markdown",
   "id": "4f8de78f-9b1d-4687-b276-856aea717b5a",
   "metadata": {},
   "source": [
    "Παρατηρούνται ξανά μη ισορροπημένες κλάσεις, επομένως επαναλαμβάνεται ο κώδικας υπολογισμού των βαρών."
   ]
  },
  {
   "cell_type": "code",
   "execution_count": 35,
   "id": "30abbe2c-236f-4058-9546-72f420548de2",
   "metadata": {},
   "outputs": [],
   "source": [
    "# Compute class weights for the 'Cluster' labels\n",
    "class_weights = class_weight.compute_class_weight(class_weight='balanced', classes=classes, y=data2['Cluster'])\n",
    "\n",
    "# Convert the class weights to a dictionary\n",
    "class_weight_dict = dict(enumerate(class_weights))"
   ]
  },
  {
   "cell_type": "markdown",
   "id": "b6c55402-49ef-4d7a-9b5b-c84710221417",
   "metadata": {},
   "source": [
    "Εδώ ολοκληρώνεται το στάδιο της προεπεξεργασίας των δεδομένων, οπότε βεβαιωνόμαστε πως το σύνολο δεδομένων έχει την κατάλληλη μορφή και εμφανίζουμε το τελικό σύνολο ταινιών του dataset."
   ]
  },
  {
   "cell_type": "code",
   "execution_count": 36,
   "id": "0810e1d5",
   "metadata": {
    "vscode": {
     "languageId": "plaintext"
    }
   },
   "outputs": [
    {
     "name": "stdout",
     "output_type": "stream",
     "text": [
      "Updated unique movies: 28560 \n",
      "\n"
     ]
    },
    {
     "data": {
      "text/html": [
       "<div>\n",
       "<style scoped>\n",
       "    .dataframe tbody tr th:only-of-type {\n",
       "        vertical-align: middle;\n",
       "    }\n",
       "\n",
       "    .dataframe tbody tr th {\n",
       "        vertical-align: top;\n",
       "    }\n",
       "\n",
       "    .dataframe thead th {\n",
       "        text-align: right;\n",
       "    }\n",
       "</style>\n",
       "<table border=\"1\" class=\"dataframe\">\n",
       "  <thead>\n",
       "    <tr style=\"text-align: right;\">\n",
       "      <th></th>\n",
       "      <th>Title</th>\n",
       "      <th>Genre</th>\n",
       "      <th>Cluster</th>\n",
       "      <th>Plot</th>\n",
       "      <th>Clean Plot</th>\n",
       "    </tr>\n",
       "  </thead>\n",
       "  <tbody>\n",
       "    <tr>\n",
       "      <th>6</th>\n",
       "      <td>The Great Train Robbery</td>\n",
       "      <td>western</td>\n",
       "      <td>western</td>\n",
       "      <td>The film opens with two bandits breaking into ...</td>\n",
       "      <td>[film, open, two, bandit, breaking, railroad, ...</td>\n",
       "    </tr>\n",
       "    <tr>\n",
       "      <th>7</th>\n",
       "      <td>The Suburbanite</td>\n",
       "      <td>comedy</td>\n",
       "      <td>drama</td>\n",
       "      <td>The film is about a family who move to the sub...</td>\n",
       "      <td>[film, family, move, suburb, hoping, quiet, li...</td>\n",
       "    </tr>\n",
       "    <tr>\n",
       "      <th>10</th>\n",
       "      <td>Dream of a Rarebit Fiend</td>\n",
       "      <td>short</td>\n",
       "      <td>comedy</td>\n",
       "      <td>The Rarebit Fiend gorges on Welsh rarebit at a...</td>\n",
       "      <td>[rarebit, fiend, gorge, welsh, rarebit, restau...</td>\n",
       "    </tr>\n",
       "    <tr>\n",
       "      <th>11</th>\n",
       "      <td>From Leadville to Aspen: A Hold-Up in the Rockies</td>\n",
       "      <td>short action/crime western</td>\n",
       "      <td>drama</td>\n",
       "      <td>The film features a train traveling through th...</td>\n",
       "      <td>[film, feature, train, traveling, rockies, hol...</td>\n",
       "    </tr>\n",
       "    <tr>\n",
       "      <th>12</th>\n",
       "      <td>Kathleen Mavourneen</td>\n",
       "      <td>short film</td>\n",
       "      <td>comedy</td>\n",
       "      <td>Irish villager Kathleen is a tenant of Captain...</td>\n",
       "      <td>[irish, villager, kathleen, tenant, captain, c...</td>\n",
       "    </tr>\n",
       "  </tbody>\n",
       "</table>\n",
       "</div>"
      ],
      "text/plain": [
       "                                                Title  \\\n",
       "6                             The Great Train Robbery   \n",
       "7                                     The Suburbanite   \n",
       "10                           Dream of a Rarebit Fiend   \n",
       "11  From Leadville to Aspen: A Hold-Up in the Rockies   \n",
       "12                                Kathleen Mavourneen   \n",
       "\n",
       "                         Genre  Cluster  \\\n",
       "6                      western  western   \n",
       "7                       comedy    drama   \n",
       "10                       short   comedy   \n",
       "11  short action/crime western    drama   \n",
       "12                  short film   comedy   \n",
       "\n",
       "                                                 Plot  \\\n",
       "6   The film opens with two bandits breaking into ...   \n",
       "7   The film is about a family who move to the sub...   \n",
       "10  The Rarebit Fiend gorges on Welsh rarebit at a...   \n",
       "11  The film features a train traveling through th...   \n",
       "12  Irish villager Kathleen is a tenant of Captain...   \n",
       "\n",
       "                                           Clean Plot  \n",
       "6   [film, open, two, bandit, breaking, railroad, ...  \n",
       "7   [film, family, move, suburb, hoping, quiet, li...  \n",
       "10  [rarebit, fiend, gorge, welsh, rarebit, restau...  \n",
       "11  [film, feature, train, traveling, rockies, hol...  \n",
       "12  [irish, villager, kathleen, tenant, captain, c...  "
      ]
     },
     "execution_count": 36,
     "metadata": {},
     "output_type": "execute_result"
    }
   ],
   "source": [
    "# Reorder the columns\n",
    "data2 = data2[['Title', 'Genre', 'Cluster', 'Plot', 'Clean Plot']]\n",
    "\n",
    "# Print updated rows of dataset and display first few rows of the merged dataset\n",
    "print(\"Updated unique movies:\",data2.shape[0],\"\\n\")\n",
    "data2.head()"
   ]
  },
  {
   "cell_type": "markdown",
   "id": "6def3709",
   "metadata": {},
   "source": [
    "#### 2.3 Εξαγωγή Χαρακτηριστικών\n",
    "\n",
    "Αυτό το στάδιο της υλοποίησης δε διαφέρει καθόλου από το αντίστοιχο του πρώτου πειράματος, οπότε ακολουθούμε τα ίδια βήματα, αλλά για το δεύτερο dataset αυτή τη φορά."
   ]
  },
  {
   "cell_type": "code",
   "execution_count": 37,
   "id": "8ef25617-6bd3-4a6b-9e55-8c643717c6f1",
   "metadata": {},
   "outputs": [],
   "source": [
    "# Load data in X,y variables\n",
    "X_raw = data2['Clean Plot']\n",
    "y_raw = data2['Cluster']\n",
    "\n",
    "# Tokenize the plot data\n",
    "tokenizer = Tokenizer(num_words = vocab_size)\n",
    "tokenizer.fit_on_texts(X_raw)\n",
    "sequences = tokenizer.texts_to_sequences(X_raw)\n",
    "X = pad_sequences(sequences, sequence_length)\n",
    "\n",
    "# Convert raw genre labels into binary array format\n",
    "mlb = LabelEncoder()\n",
    "y = mlb.fit_transform(y_raw)"
   ]
  },
  {
   "cell_type": "markdown",
   "id": "97ed98bb",
   "metadata": {},
   "source": [
    "#### 2.4 Κατασκευή, Εκπαίδευση και Αξιολόγηση του Μοντέλου Πρόβλεψης\n",
    "\n",
    "Τα δεδομένα είναι πλέον έτοιμα να χωριστούν σε δύο υποσύνολα, το σύνολο εκπαίδευσης (`training set`) με 80% των αρχικών δεδομένων και το σύνολο ελέγχου (`testing set`) με 20% των αρχικών δεδομένων."
   ]
  },
  {
   "cell_type": "code",
   "execution_count": 38,
   "id": "f1165e87-b17c-4ffd-9874-877ddedb8158",
   "metadata": {},
   "outputs": [
    {
     "name": "stdout",
     "output_type": "stream",
     "text": [
      "Training set shapes:\n",
      "X_train shape: (22848, 524)\n",
      "y_train shape: (22848,)\n",
      "Testing set shapes:\n",
      "X_test shape: (5712, 524)\n",
      "y_test shape: (5712,)\n"
     ]
    }
   ],
   "source": [
    "# Split data into training and testing sets\n",
    "X_train,X_test,y_train,y_test = train_test_split(X, y, test_size=0.2, random_state=42)\n",
    "\n",
    "# Print the shape of the training and testing sets\n",
    "print(\"Training set shapes:\")\n",
    "print(\"X_train shape:\", X_train.shape)\n",
    "print(\"y_train shape:\", y_train.shape)\n",
    "\n",
    "print(\"Testing set shapes:\")\n",
    "print(\"X_test shape:\", X_test.shape)\n",
    "print(\"y_test shape:\", y_test.shape)"
   ]
  },
  {
   "cell_type": "markdown",
   "id": "a46e3067-d979-4fed-adf9-3f7a70603bb4",
   "metadata": {},
   "source": [
    "##### Κατασκευή\n",
    "\n",
    "Δεδομένων των διαφορών μεταξύ των δύο προσεγγίσεων (άνθρωπος vs. αλγόριθμος), θα ήταν πιο αποτελεσματική η δημιουργία ενός πιο κατάλληλου μοντέλου για το πείραμα 2. Αυτό, όμως, δε θα επέτρεπε τη σύγκριση των δύο πειραμάτων. Το μοντέλο, λοιπόν, παραμένει το ίδιο, εκτός από το επίπεδο εξόδου που έχει διαφορετικό αριθμό νευρώνων, ίσο με το σύνολο των κλάσεων της ομαδοποίησης."
   ]
  },
  {
   "cell_type": "code",
   "execution_count": 39,
   "id": "4ca651b2-a388-443a-a31c-3474630df365",
   "metadata": {},
   "outputs": [
    {
     "name": "stdout",
     "output_type": "stream",
     "text": [
      "Model: \"sequential_1\"\n",
      "_________________________________________________________________\n",
      " Layer (type)                Output Shape              Param #   \n",
      "=================================================================\n",
      " embedding_1 (Embedding)     (None, 524, 128)          17827456  \n",
      "                                                                 \n",
      " lstm_2 (LSTM)               (None, 524, 64)           49408     \n",
      "                                                                 \n",
      " max_pooling1d_1 (MaxPoolin  (None, 262, 64)           0         \n",
      " g1D)                                                            \n",
      "                                                                 \n",
      " lstm_3 (LSTM)               (None, 128)               98816     \n",
      "                                                                 \n",
      " dense_2 (Dense)             (None, 128)               16512     \n",
      "                                                                 \n",
      " dropout_1 (Dropout)         (None, 128)               0         \n",
      "                                                                 \n",
      " dense_3 (Dense)             (None, 5)                 645       \n",
      "                                                                 \n",
      "=================================================================\n",
      "Total params: 17992837 (68.64 MB)\n",
      "Trainable params: 17992837 (68.64 MB)\n",
      "Non-trainable params: 0 (0.00 Byte)\n",
      "_________________________________________________________________\n"
     ]
    }
   ],
   "source": [
    "# Define the model\n",
    "model = Sequential([\n",
    "    Embedding(input_dim = vocab_size, output_dim = 128, input_length = sequence_length),\n",
    "    LSTM(64, return_sequences = True),\n",
    "    MaxPooling1D(pool_size = 2),\n",
    "    LSTM(128),\n",
    "    Dense(128, activation = 'relu'),\n",
    "    Dropout(0.5),\n",
    "    Dense(len(classes), activation = 'softmax')\n",
    "])\n",
    "\n",
    "# Compile the model\n",
    "model.compile(optimizer='adam', loss='sparse_categorical_crossentropy', metrics=['accuracy'])\n",
    "\n",
    "# Display a summary of the model architecture\n",
    "model.summary()"
   ]
  },
  {
   "cell_type": "markdown",
   "id": "85081167-e413-4dec-963b-09a26374b963",
   "metadata": {},
   "source": [
    "##### Εκπαίδευση\n",
    "\n",
    "Πραγματοποιείται η εκπαίδευση του μοντέλου με τον ίδιο συνδυασμό callbacks που χρησιμοποιήθηκε στο πρώτο πείραμα, και με τη βοήθεια των βαρών που υπολογίστηκαν με βάση τις κλάσεις μας."
   ]
  },
  {
   "cell_type": "code",
   "execution_count": 40,
   "id": "20cac0fd-e0c6-4b36-bc40-a824732e40b0",
   "metadata": {},
   "outputs": [
    {
     "name": "stdout",
     "output_type": "stream",
     "text": [
      "Epoch 1/20\n",
      "714/714 [==============================] - 263s 365ms/step - loss: 1.4340 - accuracy: 0.3529 - val_loss: 1.3325 - val_accuracy: 0.5537 - lr: 0.0010\n",
      "Epoch 2/20\n",
      "714/714 [==============================] - 260s 364ms/step - loss: 0.9885 - accuracy: 0.4662 - val_loss: 1.0402 - val_accuracy: 0.5362 - lr: 0.0010\n",
      "Epoch 3/20\n",
      "714/714 [==============================] - 260s 364ms/step - loss: 0.5812 - accuracy: 0.5919 - val_loss: 0.8192 - val_accuracy: 0.6348 - lr: 0.0010\n",
      "Epoch 4/20\n",
      "714/714 [==============================] - 260s 365ms/step - loss: 0.3104 - accuracy: 0.8334 - val_loss: 0.8475 - val_accuracy: 0.6224 - lr: 0.0010\n",
      "Epoch 5/20\n",
      "714/714 [==============================] - 265s 372ms/step - loss: 0.1411 - accuracy: 0.9311 - val_loss: 0.7177 - val_accuracy: 0.7335 - lr: 0.0010\n",
      "Epoch 6/20\n",
      "714/714 [==============================] - 265s 371ms/step - loss: 0.0773 - accuracy: 0.9614 - val_loss: 0.8342 - val_accuracy: 0.7223 - lr: 0.0010\n",
      "Epoch 7/20\n",
      "714/714 [==============================] - 266s 373ms/step - loss: 0.0592 - accuracy: 0.9684 - val_loss: 1.1902 - val_accuracy: 0.7616 - lr: 0.0010\n",
      "Epoch 8/20\n",
      "714/714 [==============================] - 264s 370ms/step - loss: 0.0244 - accuracy: 0.9881 - val_loss: 1.3009 - val_accuracy: 0.7532 - lr: 0.0010\n",
      "Epoch 9/20\n",
      "714/714 [==============================] - 272s 380ms/step - loss: 0.1150 - accuracy: 0.9675 - val_loss: 1.2818 - val_accuracy: 0.7188 - lr: 0.0010\n",
      "Epoch 10/20\n",
      "714/714 [==============================] - 267s 374ms/step - loss: 0.0935 - accuracy: 0.9766 - val_loss: 1.4721 - val_accuracy: 0.7640 - lr: 0.0010\n",
      "Epoch 11/20\n",
      "714/714 [==============================] - 268s 375ms/step - loss: 0.0210 - accuracy: 0.9900 - val_loss: 1.4257 - val_accuracy: 0.7563 - lr: 0.0010\n",
      "Epoch 12/20\n",
      "714/714 [==============================] - 270s 379ms/step - loss: 0.1491 - accuracy: 0.9663 - val_loss: 1.3658 - val_accuracy: 0.7507 - lr: 0.0010\n",
      "Epoch 13/20\n",
      "714/714 [==============================] - 270s 377ms/step - loss: 0.0706 - accuracy: 0.9912 - val_loss: 1.6447 - val_accuracy: 0.7167 - lr: 0.0010\n",
      "Epoch 14/20\n",
      "714/714 [==============================] - 271s 379ms/step - loss: 0.0313 - accuracy: 0.9943 - val_loss: 1.6682 - val_accuracy: 0.7486 - lr: 0.0010\n",
      "Epoch 15/20\n",
      "714/714 [==============================] - 266s 373ms/step - loss: 0.0181 - accuracy: 0.9923 - val_loss: 1.6962 - val_accuracy: 0.7504 - lr: 0.0010\n"
     ]
    }
   ],
   "source": [
    "# Define callbacks\n",
    "early_stopping = EarlyStopping(monitor='val_loss', patience=10, restore_best_weights=True)\n",
    "reduce_lr = ReduceLROnPlateau(monitor='val_loss', factor=0.1, patience=5, min_lr=0.001)\n",
    "\n",
    "# Train the model with optimizations\n",
    "history = model.fit(X_train, y_train, epochs=20, batch_size=32, validation_data=(X_test, y_test), verbose=1, callbacks=[early_stopping, reduce_lr], class_weight=class_weight_dict)"
   ]
  },
  {
   "cell_type": "markdown",
   "id": "d330b457",
   "metadata": {},
   "source": [
    "##### Αξιολόγηση\n",
    "\n",
    "Ακολουθούν οι γραφικές παραστάσεις της ακρίβειας και της απώλειας."
   ]
  },
  {
   "cell_type": "code",
   "execution_count": 41,
   "id": "92c19929-81cc-40e9-a1be-4e92db1d3baa",
   "metadata": {},
   "outputs": [
    {
     "data": {
      "image/png": "[encoded data removed]",
      "text/plain": [
       "<Figure size 800x600 with 1 Axes>"
      ]
     },
     "metadata": {},
     "output_type": "display_data"
    },
    {
     "data": {
      "image/png": "[encoded data removed]",
      "text/plain": [
       "<Figure size 800x600 with 1 Axes>"
      ]
     },
     "metadata": {},
     "output_type": "display_data"
    }
   ],
   "source": [
    "# Plot the training and validation accuracy\n",
    "plt.figure(figsize = (8,6))\n",
    "plt.plot(history.history['accuracy'], label = 'Training Accuracy')\n",
    "plt.plot(history.history['val_accuracy'], label = 'Validation Accuracy')\n",
    "plt.title('Training and Validation Accuracy')\n",
    "plt.xlabel('Epoch')\n",
    "plt.ylabel('Accuracy')\n",
    "plt.legend()\n",
    "plt.show()\n",
    "\n",
    "# Plot the training and validation loss\n",
    "plt.figure(figsize = (8,6))\n",
    "plt.plot(history.history['loss'], label = 'Training Loss')\n",
    "plt.plot(history.history['val_loss'], label = 'Validation Loss')\n",
    "plt.title('Training and Validation Loss')\n",
    "plt.xlabel('Epoch')\n",
    "plt.ylabel('Loss')\n",
    "plt.legend()\n",
    "plt.show()"
   ]
  },
  {
   "cell_type": "markdown",
   "id": "14615725-df04-4cc5-9d42-0a4660610ac2",
   "metadata": {},
   "source": [
    "Η απόδοση του μοντέλου φαίνεται να είναι καλύτερη στην περίπτωση του K-Means. Για ακόμη μία φορά, όμως, δεν μπορούμε να εμπιστευτούμε πλήρως τις μετρικές αξιολόγησης του μοντέλου, αφού το σύνολο δεδομένων είναι μη ισορροπημένο."
   ]
  },
  {
   "cell_type": "code",
   "execution_count": 44,
   "id": "216a3e44",
   "metadata": {
    "vscode": {
     "languageId": "plaintext"
    }
   },
   "outputs": [
    {
     "name": "stdout",
     "output_type": "stream",
     "text": [
      "179/179 [==============================] - 14s 77ms/step\n",
      "Accuracy: 0.7335434173669467 \n",
      "Precision: 0.7340680945478342 \n",
      "Recall: 0.7335434173669467 \n",
      "F1-score: 0.7322912672205842\n"
     ]
    }
   ],
   "source": [
    "# Predict the labels for the testing features\n",
    "y_pred = model.predict(X_test)\n",
    "\n",
    "# Convert predictions to class labels\n",
    "y_pred_labels = np.argmax(y_pred, axis = 1)\n",
    "\n",
    "# Calculate evaluation metrics\n",
    "accuracy = accuracy_score(y_test, y_pred_labels)\n",
    "precision = precision_score(y_test, y_pred_labels, average='weighted', zero_division=1)\n",
    "recall = recall_score(y_test, y_pred_labels, average='weighted')\n",
    "f1 = f1_score(y_test, y_pred_labels, average='weighted', zero_division=1)\n",
    "\n",
    "# Print the evaluation metrics\n",
    "print(\"Accuracy:\", accuracy, \"\\nPrecision:\", precision, \"\\nRecall:\", recall, \"\\nF1-score:\", f1)"
   ]
  },
  {
   "cell_type": "markdown",
   "id": "0b5c45d3-66ca-4dd4-bd88-b45a57e73233",
   "metadata": {},
   "source": [
    "##### Συμπερασματική συνάρτηση\n",
    "\n",
    "Όπως και στο πείραμα 1, έτσι και στο πείραμα 2 χρησιμοποιείται η συμπερασματική συνάρτηση που ορίσαμε παραπάνω για τον έλεγχο της αποτελεσματικότητας του μοντέλου πρόβλεψης του είδους μιας ταινίας."
   ]
  },
  {
   "cell_type": "code",
   "execution_count": 45,
   "id": "3c8b938a-7054-4324-8543-cd3d9ae6a5e0",
   "metadata": {},
   "outputs": [
    {
     "name": "stdout",
     "output_type": "stream",
     "text": [
      "1/1 [==============================] - 0s 36ms/step\n",
      "Movie: The Penalty\n",
      "Predicted genre: drama\n",
      "Actual genre: drama\n",
      "\n",
      "1/1 [==============================] - 0s 37ms/step\n",
      "Movie: Twenty Million Sweethearts\n",
      "Predicted genre: drama\n",
      "Actual genre: drama\n",
      "\n",
      "1/1 [==============================] - 0s 38ms/step\n",
      "Movie: The Adventures of Martin Eden\n",
      "Predicted genre: drama\n",
      "Actual genre: drama\n",
      "\n",
      "1/1 [==============================] - 0s 37ms/step\n",
      "Movie: Double Harness\n",
      "Predicted genre: drama\n",
      "Actual genre: drama\n",
      "\n",
      "1/1 [==============================] - 0s 37ms/step\n",
      "Movie: The Mad Miss Manton\n",
      "Predicted genre: comedy\n",
      "Actual genre: comedy\n",
      "\n"
     ]
    }
   ],
   "source": [
    "# Inference function to show predictions\n",
    "for i in range(5):\n",
    "    k = np.random.randint(len(X_test))\n",
    "    plot = X_raw.iloc[k]\n",
    "    actual_genre = y_raw.iloc[k]\n",
    "    predicted_genre = infer_tags(plot)\n",
    "\n",
    "    # Check if the index exists in the dataset\n",
    "    if k not in data1['Title']:\n",
    "        print(\"Movie title not found.\")\n",
    "    else:\n",
    "        print(\"Movie:\", data2['Title'][k])\n",
    "        print(\"Predicted genre:\", predicted_genre)\n",
    "        print(\"Actual genre:\", actual_genre)\n",
    "        print()"
   ]
  },
  {
   "cell_type": "markdown",
   "id": "bfdf3c72",
   "metadata": {},
   "source": [
    "##### Confusion Matrix\n",
    "\n",
    "Τέλος, δημιουργείται ο confusion matrix για την καλύτερη ερμηνεία των αποτελεσμάτων. Λόγω overfitting, φαίνεται πως το μοντέλο είτε έλαβε λάθος ετικέτες για μερικές ταινίες είτε δεν εκπαιδεύτηκε σωστά.\n"
   ]
  },
  {
   "cell_type": "code",
   "execution_count": 49,
   "id": "f7fd3173",
   "metadata": {
    "vscode": {
     "languageId": "plaintext"
    }
   },
   "outputs": [
    {
     "data": {
      "image/png": "[encoded data removed]",
      "text/plain": [
       "<Figure size 800x800 with 2 Axes>"
      ]
     },
     "metadata": {},
     "output_type": "display_data"
    }
   ],
   "source": [
    "# Inverse transform label encoding for y_test\n",
    "y_test_labels = mlb.inverse_transform(y_test)\n",
    "\n",
    "# Create a confusion matrix\n",
    "cm = confusion_matrix(y_test_labels, mlb.inverse_transform(y_pred_labels))\n",
    "\n",
    "# Plot the confusion matrix with binary color\n",
    "plt.figure(figsize = (8,8))\n",
    "sns.heatmap(cm, annot = True, fmt = \"d\", cmap = \"Blues\", square = True, xticklabels = classes, yticklabels = classes)\n",
    "plt.xlabel('Predicted Label')\n",
    "plt.ylabel('True Label')\n",
    "plt.title('Confusion Matrix')\n",
    "plt.show()"
   ]
  },
  {
   "cell_type": "markdown",
   "id": "4fa96f72",
   "metadata": {
    "id": "4fa96f72"
   },
   "source": [
    "## Συμπεράσματα\n",
    "\n",
    "Τα αποτελέσματα αφήνουν πολλά περιθώρια βελτίωσης του μοντέλου, είτε με αύξηση του αριθμού των νευρώνων σε κάθε επίπεδο και τροποποίηση των επιπέδων της αρχιτεκτονικής, είτε με χρήση άλλων αρχιτεκτονικών που μελετήθηκαν στην ενότητα της Βιβλιογραφικής ανασκόπησης. Συγκεκριμένα, ένας τρόπος βελτίωσης του μοντέλου είναι η χρήση των προεκπαιδευμένων διανυσμάτων λέξεων GloVe, τα οποία είναι ιδανικά για εξαγωγή χαρακτηριστικών σε σύνολα δεδομένων μεγάλου όγκου. Η χρήση της τεχνικής GloVe, σε συνδυασμό με τα αμφίδρομα δίκτυα Bi-LSTM, υπόσχεται πιο ακριβή αποτελέσματα σύμφωνα με τη βιβλιογραφία, απαιτεί όμως περισσότερους υπολογιστικούς πόρους.\n",
    "\n",
    "Ένας ακόμη λόγος που δεν έγινε καλύτερη εκπαίδευση του μοντέλου του ανθρώπινου πειράματος, μπορεί να είναι ο τρόπος ομαδοποίησης των κατηγοριών (ειδών) ή/και το γεγονός ότι οι περισσότερες εγγραφές ανήκουν σε πάνω από ένα είδος ταινίας, γεγονός που εν τέλει μας αναγκάζει να προσεγγίσουμε το πρόβλημα ως multi-label για την καλύτερη ταξινόμηση των έντονα διαφοροποιήσιμων πλοκών ταινιών με ένα μόνο κοινό είδος. Οι πολλαπλές ετικέτες για μία ταινία και κατ' επέκταση για μία πλοκή, βοηθούν το μοντέλο να ταιριάξει καλύτερα τα είδη ή και τους συνδυασμούς αυτών, αυξάνοντας την ακρίβεια της εκπαίδευσης. Στην περίπτωση multi-label προσέγγισης, θα χρησιμοποιούσαμε τη σιγμοειδή συνάρτηση ενεργοποίησης (`sigmoid`) και τη συνάρτηση απώλειας δυαδικής εντροπίας (`binary_crossentropy`), καθώς η πρώτη επιτρέπει σε κάθε είδος να έχει ανεξάρτητη πιθανότητα εμφάνισης 0 ή 1, ενώ η δεύτερη έχει σχεδιαστεί για multi-label προβλήματα με δυαδικές ετικέτες (0 ή 1).  \n",
    "\n",
    "Όσον αφορά το αλγοριθμικό πείραμα με τη χρήση του K-Means, μελλοντικά θα εξεταστούν εναλλακτικά πλήθη συστάδων (`n_clusters`) και συνδυασμός αυτών με διάφορες τιμές της παραμέτρου `random_state`, η χρήση της οποίας διασφαλίζει την αναπαραγωγιμότητα του αλγορίθμου."
   ]
  },
  {
   "cell_type": "markdown",
   "id": "b67afb70-c97e-4dc8-96f1-a440a108e064",
   "metadata": {},
   "source": [
    "## Αναφορές\n",
    "#### Θεωρία\n",
    "* Τασουλής, Σ. (2022-2023). *E-class material*. ΠΠΣ: \"Βαθιά Μάθηση\", Τμήμα Πληροφορικής με Εφαρμογές στη Βιοϊτρική, Πανεπιστήμιο Θεσσαλίας, Λαμία.\n",
    "* Aggarwal, C. C. (2020). *Νευρωνικά δίκτυα και βαθιά μάθηση*. Εκδόσεις Fountas. ISBN: 9789603308027\n",
    "* Χατζηλυγερούδης, Ι. (2022, Δεκέμβριος). *Μια εισαγωγή στο Deep Learning*. ΜΠΣ: \"Ειδικά Θέματα Τεχνητής Νοημοσύνης\", Τμήμα Μηχανικών Η/Υ και Πληροφορικής, Πανεπιστήμιο Πατρών, Πάτρα.\n",
    "* Wikipedia Movie Plots. (2018, October 15). *Kaggle*. https://www.kaggle.com/datasets/jrobischon/wikipedia-movie-plots\n",
    "* Md. Rahman, M. & Malik, S. (2019, November). *Predicting Tags for Movies from Plot Synopses Using Deep Learning Techniques*. Department of Computer Science and Engineering, Islamic University of Technology, Bangladesh.\n",
    "* Talaviya, A. (2022, September 14). A guide to understanding word embeddings and building your first RNN model using Keras: A complete begineers guide. *Medium*. https://medium.com/@avikumart_/a-guide-to-understanding-word-embeddings-and-building-your-first-rnn-model-using-keras-a-complete-62ef4662d84b\n",
    "\n",
    "#### State of the Art\n",
    "* Ertugrul, A. M. & Karagoz, P. (2018). Movie Genre Classification from Plot Summaries Using Bidirectional LSTM. *2018 IEEE 12th International Conference on Semantic Computing (ICSC).* Laguna Hills, CA, USA, pp. 248-251, doi: 10.1109/ICSC.2018.00043\n",
    "* Wang, J. (2020). Using Machine Learning to Identify Movie Genres through Online Movie Synopses. *2020 2nd International Conference on Information Technology and Computer Application (ITCA)*. https://doi.org/10.1109/itca52113.2020.00008\n",
    "* Master Movie Genre Prediction with NLP: A Comprehensive Guide to IMDb Dataset Analysis and LSTM Modeling. (2023). *Data-Driven Science*. https://datadrivenscience.com/master-movie-genre-prediction-with-nlp-a-comprehensive-guide-to-imdb-dataset-analysis-and-lstm-modeling/\n",
    "* Saldanha, R. (2020, May 7). Multilabel-category-prediction. *Kaggle*. https://www.kaggle.com/code/rodsaldanha/multilabel-category-prediction/notebook\n",
    "* Donelli, F. (2020, December 25). Movie-Genre-Prediction. *GitHub*. https://github.com/fdonel99/Movie-Genre-Prediction\n",
    "* Verma, A. (2017, December 10). Movie Genre Prediction. *GitHub*. https://github.com/avijit2verma/movie-genre-prediction\n",
    "\n",
    "#### Ανάπτυξη κώδικα\n",
    "* Joshi, P. (2022, July 19). Predicting Movie Genres using NLP – An Awesome Introduction to Multi-Label Classification. *Analytics Vidhya*. https://www.analyticsvidhya.com/blog/2019/04/predicting-movie-genres-nlp-multi-label-classification/\n",
    "* tnsk25. (2020, January 17). Categorization-of-Amazon-Product-Reviews-. *GitHub*. https://github.com/tnsk25/Categorization-of-Amazon-Product-Reviews-\n",
    "* GeeksforGeeks. (2023). *GeeksforGeeks | A computer science portal for geeks*. https://www.geeksforgeeks.org/\n",
    "* OpenAI. (2023). *ChatGPT-3.5* (September 25 Version) [Large language model]. https://chat.openai.com\n",
    "* Google AI (2023). *Bard* (September 27 Version) [Large language model]. https://bard.google.com/\n",
    "* Discord (2023). *Clyde, Personal Assistant Bot* (GPT-3 Version) [Large language model]. https://dis.gd/clyde"
   ]
  },
  {
   "cell_type": "code",
   "execution_count": null,
   "id": "b49be047-9b49-4e15-94be-de7cc529fab9",
   "metadata": {},
   "outputs": [],
   "source": []
  }
 ],
 "metadata": {
  "colab": {
   "provenance": []
  },
  "kernelspec": {
   "display_name": "Python 3 (ipykernel)",
   "language": "python",
   "name": "python3"
  },
  "language_info": {
   "codemirror_mode": {
    "name": "ipython",
    "version": 3
   },
   "file_extension": ".py",
   "mimetype": "text/x-python",
   "name": "python",
   "nbconvert_exporter": "python",
   "pygments_lexer": "ipython3",
   "version": "3.11.5"
  }
 },
 "nbformat": 4,
 "nbformat_minor": 5
}
